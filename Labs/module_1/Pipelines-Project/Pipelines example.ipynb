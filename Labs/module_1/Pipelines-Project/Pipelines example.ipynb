{
 "cells": [
  {
   "cell_type": "code",
   "execution_count": null,
   "metadata": {},
   "outputs": [],
   "source": [
    "import pandas as pd\n",
    "year=int(input('Enter the year: '))\n",
    "​\n",
    "def acquisition():\n",
    "    df=pd.read_csv('C:\\\\Users\\\\eldii/Documents/vehicles.csv')\n",
    "    return df\n",
    "​\n",
    "def wrangle(df):\n",
    "    global year\n",
    "    filtered=df[df.Year==year]\n",
    "    return filtered\n",
    "​\n",
    "def analyze(df):\n",
    "    grouped=df.groupby('Make')['Combined MPG'].agg('mean').reset_index()\n",
    "    final=grouped.sort_values('Combined MPG', ascending=False).head(10)\n",
    "    return final\n",
    "​\n",
    "def viz(df):\n",
    "    import matplotlib.pyplot as plt\n",
    "    import seaborn as sns\n",
    "    sns.set()\n",
    "    global year\n",
    "    fig,ax=plt.subplots(figsize=(15,8))\n",
    "    barchart=sns.barplot(data=df, x='Make',y='Combined MPG')\n",
    "    plt.title(\"Top 10 Manufacturers by Fuel Efficiency in\", year)\n",
    "    return barchart\n",
    "​\n",
    "def save_viz(plot):\n",
    "    fig=plot.get_figure()\n",
    "    global year\n",
    "    fig.savefig(\"Top 10 Manufacturers by Fuel Efficiency in\",year,\".png\")\n",
    "    \n",
    "    \n",
    "if __name__=='__main__':\n",
    "    data=acquisition()\n",
    "    filtered=wrangle(data)\n",
    "    results=analyze(filtered)\n",
    "    barchart=viz(results)\n",
    "    save_viz(barchart)"
   ]
  }
 ],
 "metadata": {
  "kernelspec": {
   "display_name": "Python 3",
   "language": "python",
   "name": "python3"
  },
  "language_info": {
   "codemirror_mode": {
    "name": "ipython",
    "version": 3
   },
   "file_extension": ".py",
   "mimetype": "text/x-python",
   "name": "python",
   "nbconvert_exporter": "python",
   "pygments_lexer": "ipython3",
   "version": "3.7.6"
  }
 },
 "nbformat": 4,
 "nbformat_minor": 4
}
