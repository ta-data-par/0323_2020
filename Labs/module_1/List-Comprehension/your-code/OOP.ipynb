{
 "cells": [
  {
   "cell_type": "code",
   "execution_count": null,
   "metadata": {},
   "outputs": [],
   "source": [
    "#global value for all the objects of this class that doesn't change\n",
    "    number_of_legs=4\n",
    "    species='mammals'\n",
    "    level_of_danger=1\n",
    "    def __init__(self,name,age,lod=level_of_danger):\n",
    "        self.name=name\n",
    "        self.age=age\n",
    "        self.enemies=list()\n",
    "        self.fights=dict()\n",
    "        self.level_of_danger_current=lod\n",
    "        self.level_of_danger_default=lod\n",
    "    def voice(self):\n",
    "        print('Bark! Bark!')\n",
    "    def birthday(self):\n",
    "        self.age+=1\n",
    "        print(f'Happy birthday {self.name}. You are {self.age} now!')\n",
    "    def set_buddy(self, buddy):\n",
    "        #barky.theonlybuddy=zippy\n",
    "        self.theonlybuddy=buddy\n",
    "        #zippy.theonlybuddy=barky\n",
    "        buddy.theonlybuddy=self\n",
    "    def fight_club(self, enemy):\n",
    "        if self.number_of_legs==0:\n",
    "            return f\"Desole! {self.name} can't even move. If you want to continue participating in our fight club, you can buy a new dog in our online shop \"\n",
    "        elif enemy in self.enemies:\n",
    "            self.fights[enemy]+=1\n",
    "            enemy.fights[self]+=1\n",
    "            if self.level_of_danger_current>enemy.level_of_danger_current*2:\n",
    "                enemy.chop_leg()\n",
    "            elif enemy.level_of_danger_current>self.level_of_danger_current*2:\n",
    "                self.chop_leg()\n",
    "            self.level_of_danger_current=self.level_of_danger_default+sum(self.fights.values())//2\n",
    "            enemy.level_of_danger_current=enemy.level_of_danger_default+sum(enemy.fights.values())//2\n",
    "            if self.level_of_danger_current>8:\n",
    "                self.chop_leg()\n",
    "                self.level_of_danger_current=5\n",
    "            print('Gosh! He is doing it again!')\n",
    "        else:\n",
    "            self.enemies.append(enemy)\n",
    "            enemy.enemies.append(self)\n",
    "            self.fights[enemy]=1\n",
    "            enemy.fights[self]=1\n",
    "            if self.level_of_danger_current>enemy.level_of_danger_current*2:\n",
    "                enemy.chop_leg()\n",
    "            elif enemy.level_of_danger_current>self.level_of_danger_current*2:\n",
    "                self.chop_leg()\n",
    "    def chop_leg(self):\n",
    "        self.number_of_legs=max(0,self.number_of_legs-1)\n"
   ]
  }
 ],
 "metadata": {
  "kernelspec": {
   "display_name": "Python 3",
   "language": "python",
   "name": "python3"
  },
  "language_info": {
   "codemirror_mode": {
    "name": "ipython",
    "version": 3
   },
   "file_extension": ".py",
   "mimetype": "text/x-python",
   "name": "python",
   "nbconvert_exporter": "python",
   "pygments_lexer": "ipython3",
   "version": "3.7.4"
  }
 },
 "nbformat": 4,
 "nbformat_minor": 2
}
