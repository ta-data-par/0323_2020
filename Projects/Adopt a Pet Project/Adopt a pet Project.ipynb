{
 "cells": [
  {
   "cell_type": "code",
   "execution_count": 1,
   "metadata": {},
   "outputs": [],
   "source": [
    "import requests as r\n",
    "import pandas as pd\n",
    "from bs4 import BeautifulSoup as bs\n",
    "import time"
   ]
  },
  {
   "cell_type": "code",
   "execution_count": 2,
   "metadata": {},
   "outputs": [
    {
     "name": "stdout",
     "output_type": "stream",
     "text": [
      "Process started...\n",
      "Process complete\n",
      "We found : 80 results\n"
     ]
    }
   ],
   "source": [
    "def collect_data(url):\n",
    "    collect_df=pd.DataFrame()\n",
    "    print('Process started...')\n",
    "    for i in range(5):\n",
    "        url=f'https://www.la-spa.fr/adopter-animaux?field_esp_ce_value=All&page={1+i}'\n",
    "        html = r.get(url).content\n",
    "        append_str = 'https://www.la-spa.fr/adopter-animaux'\n",
    "        soup = bs(html, \"lxml\");  \n",
    "        \n",
    "        animals=soup.select('div h3 a[href]')\n",
    "        links=[l['href'] for l in animals]\n",
    "        all_links=[append_str + link if link.startswith('/') else link for link in links ]\n",
    "        \n",
    "        animal_dict = {'all_links': all_links} \n",
    "        df=pd.DataFrame(animal_dict)\n",
    "        collect_df=collect_df.append(df)\n",
    "        time.sleep(2)\n",
    "        \n",
    "    print('Process complete')\n",
    "    print('We found :',len(collect_df),'results')\n",
    "    return df\n",
    "df=collect_data('https://spa-notifadoption.herokuapp.com/refuges')"
   ]
  },
  {
   "cell_type": "code",
   "execution_count": 18,
   "metadata": {},
   "outputs": [
    {
     "data": {
      "text/plain": [
       "(30500, 1)"
      ]
     },
     "execution_count": 18,
     "metadata": {},
     "output_type": "execute_result"
    }
   ],
   "source": [
    "url_scrapped=pd.read_csv('/Users/jidekickpush/Documents/GitHub/0323_2020DATAPAR/Projects/url_scraping.csv')\n",
    "url_scrapped.shape\n",
    "#los=url_scrapped.values.tolist()\n",
    "#los"
   ]
  },
  {
   "cell_type": "code",
   "execution_count": 12,
   "metadata": {},
   "outputs": [
    {
     "data": {
      "text/plain": [
       "'def collect_data(url):\\n    collect_df=pd.DataFrame()\\n    for i in range(5):\\n        url=f\\'https://www.la-spa.fr/adopter-animaux?field_esp_ce_value=All&page={1+i}\\'\\n        html = r.get(url).content\\n        append_str = \\'https://www.la-spa.fr/adopter-animaux\\'\\n        soup = bs(html, \"lxml\");\\n        \\n        animals=soup.select(\\'div h3 a[href]\\')\\n        links=[l[\\'href\\'] for l in animals]\\n        all_links=[append_str + link if link.startswith(\\'/\\') else link for link in links ]\\n        \\n        animal_dict = {\\'all_links\\': all_links} \\n        df=pd.DataFrame(animal_dict)\\n        collect_df=collect_df.append(df)\\n        time.sleep(2)\\n        \\n    print(\\'Process complete\\')\\n    print(\\'We found :\\',len(collect_df),\\'results\\')\\n    return df\\ndf=collect_data(\\'https://spa-notifadoption.herokuapp.com/refuges\\')'"
      ]
     },
     "execution_count": 12,
     "metadata": {},
     "output_type": "execute_result"
    }
   ],
   "source": [
    "'''def collect_data(url):\n",
    "    collect_df=pd.DataFrame()\n",
    "    for i in range(5):\n",
    "        url=f'https://www.la-spa.fr/adopter-animaux?field_esp_ce_value=All&page={1+i}'\n",
    "        html = r.get(url).content\n",
    "        append_str = 'https://www.la-spa.fr/adopter-animaux'\n",
    "        soup = bs(html, \"lxml\");\n",
    "        \n",
    "        animals=soup.select('div h3 a[href]')\n",
    "        links=[l['href'] for l in animals]\n",
    "        all_links=[append_str + link if link.startswith('/') else link for link in links ]\n",
    "        \n",
    "        animal_dict = {'all_links': all_links} \n",
    "        df=pd.DataFrame(animal_dict)\n",
    "        collect_df=collect_df.append(df)\n",
    "        time.sleep(2)\n",
    "        \n",
    "    print('Process complete')\n",
    "    print('We found :',len(collect_df),'results')\n",
    "    return df\n",
    "df=collect_data('https://spa-notifadoption.herokuapp.com/refuges')'''"
   ]
  },
  {
   "cell_type": "code",
   "execution_count": 6,
   "metadata": {},
   "outputs": [
    {
     "data": {
      "text/html": [
       "<div>\n",
       "<style scoped>\n",
       "    .dataframe tbody tr th:only-of-type {\n",
       "        vertical-align: middle;\n",
       "    }\n",
       "\n",
       "    .dataframe tbody tr th {\n",
       "        vertical-align: top;\n",
       "    }\n",
       "\n",
       "    .dataframe thead th {\n",
       "        text-align: right;\n",
       "    }\n",
       "</style>\n",
       "<table border=\"1\" class=\"dataframe\">\n",
       "  <thead>\n",
       "    <tr style=\"text-align: right;\">\n",
       "      <th></th>\n",
       "      <th>all_links</th>\n",
       "    </tr>\n",
       "  </thead>\n",
       "  <tbody>\n",
       "    <tr>\n",
       "      <th>0</th>\n",
       "      <td>https://www.la-spa.fr/adopter-animaux/adopter-...</td>\n",
       "    </tr>\n",
       "    <tr>\n",
       "      <th>1</th>\n",
       "      <td>https://www.la-spa.fr/adopter-animaux/adopter-...</td>\n",
       "    </tr>\n",
       "    <tr>\n",
       "      <th>2</th>\n",
       "      <td>https://www.la-spa.fr/adopter-animaux/adopter-...</td>\n",
       "    </tr>\n",
       "    <tr>\n",
       "      <th>3</th>\n",
       "      <td>https://www.la-spa.fr/adopter-animaux/adopter-...</td>\n",
       "    </tr>\n",
       "    <tr>\n",
       "      <th>4</th>\n",
       "      <td>https://www.la-spa.fr/adopter-animaux/adopter-...</td>\n",
       "    </tr>\n",
       "    <tr>\n",
       "      <th>5</th>\n",
       "      <td>https://www.la-spa.fr/adopter-animaux/adopter-...</td>\n",
       "    </tr>\n",
       "    <tr>\n",
       "      <th>6</th>\n",
       "      <td>https://www.la-spa.fr/adopter-animaux/adopter-...</td>\n",
       "    </tr>\n",
       "    <tr>\n",
       "      <th>7</th>\n",
       "      <td>https://www.la-spa.fr/adopter-animaux/adopter-...</td>\n",
       "    </tr>\n",
       "    <tr>\n",
       "      <th>8</th>\n",
       "      <td>https://www.la-spa.fr/adopter-animaux/adopter-...</td>\n",
       "    </tr>\n",
       "    <tr>\n",
       "      <th>9</th>\n",
       "      <td>https://www.la-spa.fr/adopter-animaux/adopter-...</td>\n",
       "    </tr>\n",
       "    <tr>\n",
       "      <th>10</th>\n",
       "      <td>https://www.la-spa.fr/adopter-animaux/adopter-...</td>\n",
       "    </tr>\n",
       "    <tr>\n",
       "      <th>11</th>\n",
       "      <td>https://www.la-spa.fr/adopter-animaux/adopter-...</td>\n",
       "    </tr>\n",
       "    <tr>\n",
       "      <th>12</th>\n",
       "      <td>https://www.la-spa.fr/adopter-animaux/adopter-...</td>\n",
       "    </tr>\n",
       "    <tr>\n",
       "      <th>13</th>\n",
       "      <td>https://www.la-spa.fr/adopter-animaux/adopter-...</td>\n",
       "    </tr>\n",
       "    <tr>\n",
       "      <th>14</th>\n",
       "      <td>https://www.la-spa.fr/adopter-animaux/adopter-...</td>\n",
       "    </tr>\n",
       "    <tr>\n",
       "      <th>15</th>\n",
       "      <td>https://www.la-spa.fr/adopter-animaux/adopter-...</td>\n",
       "    </tr>\n",
       "  </tbody>\n",
       "</table>\n",
       "</div>"
      ],
      "text/plain": [
       "                                            all_links\n",
       "0   https://www.la-spa.fr/adopter-animaux/adopter-...\n",
       "1   https://www.la-spa.fr/adopter-animaux/adopter-...\n",
       "2   https://www.la-spa.fr/adopter-animaux/adopter-...\n",
       "3   https://www.la-spa.fr/adopter-animaux/adopter-...\n",
       "4   https://www.la-spa.fr/adopter-animaux/adopter-...\n",
       "5   https://www.la-spa.fr/adopter-animaux/adopter-...\n",
       "6   https://www.la-spa.fr/adopter-animaux/adopter-...\n",
       "7   https://www.la-spa.fr/adopter-animaux/adopter-...\n",
       "8   https://www.la-spa.fr/adopter-animaux/adopter-...\n",
       "9   https://www.la-spa.fr/adopter-animaux/adopter-...\n",
       "10  https://www.la-spa.fr/adopter-animaux/adopter-...\n",
       "11  https://www.la-spa.fr/adopter-animaux/adopter-...\n",
       "12  https://www.la-spa.fr/adopter-animaux/adopter-...\n",
       "13  https://www.la-spa.fr/adopter-animaux/adopter-...\n",
       "14  https://www.la-spa.fr/adopter-animaux/adopter-...\n",
       "15  https://www.la-spa.fr/adopter-animaux/adopter-..."
      ]
     },
     "execution_count": 6,
     "metadata": {},
     "output_type": "execute_result"
    }
   ],
   "source": [
    "df"
   ]
  },
  {
   "cell_type": "code",
   "execution_count": 2,
   "metadata": {},
   "outputs": [
    {
     "name": "stdout",
     "output_type": "stream",
     "text": [
      "Process complete\n",
      "We found : 80 results\n"
     ]
    }
   ],
   "source": [
    "'''def collect_data(url):\n",
    "    collect_df=pd.DataFrame()\n",
    "    for i in range(5):\n",
    "        url=f'https://www.la-spa.fr/adopter-animaux?field_esp_ce_value=All&page={1+i}'\n",
    "        html = r.get(url).content\n",
    "        append_str = 'https://www.la-spa.fr/adopter-animaux'\n",
    "        soup = bs(html, \"lxml\");\n",
    "\n",
    "        animals=soup.select('div h3 a[href]')\n",
    "        links=[l['href'] for l in animals]\n",
    "        all_links=[append_str + link if link.startswith('/') else link for link in links ]\n",
    "\n",
    "        animal_dict = {'all_links': all_links} \n",
    "        df=pd.DataFrame(animal_dict)\n",
    "        collect_df=collect_df.append(df)\n",
    "        time.sleep(2)\n",
    "\n",
    "    print('Process complete')\n",
    "    print('We found :',len(collect_df),'results')\n",
    "    return collect_df\n",
    "df=collect_data('https://spa-notifadoption.herokuapp.com/refuges')'''"
   ]
  },
  {
   "cell_type": "code",
   "execution_count": 7,
   "metadata": {},
   "outputs": [
    {
     "ename": "NameError",
     "evalue": "name 'all_links' is not defined",
     "output_type": "error",
     "traceback": [
      "\u001b[0;31m---------------------------------------------------------------------------\u001b[0m",
      "\u001b[0;31mNameError\u001b[0m                                 Traceback (most recent call last)",
      "\u001b[0;32m<ipython-input-7-3738159e8d9a>\u001b[0m in \u001b[0;36m<module>\u001b[0;34m\u001b[0m\n\u001b[0;32m----> 1\u001b[0;31m \u001b[0mall_links\u001b[0m\u001b[0;34m\u001b[0m\u001b[0;34m\u001b[0m\u001b[0m\n\u001b[0m",
      "\u001b[0;31mNameError\u001b[0m: name 'all_links' is not defined"
     ]
    }
   ],
   "source": [
    "all_links"
   ]
  },
  {
   "cell_type": "code",
   "execution_count": 16,
   "metadata": {},
   "outputs": [
    {
     "data": {
      "text/plain": [
       "[<a href=\"/adopter-animaux/adopter-chien-berger-f-inoue-vaa22319-453192\">INOUE VAA22319</a>,\n",
       " <a href=\"/adopter-animaux/adopter-chien-braque-m-happy-453302\">HAPPY</a>,\n",
       " <a href=\"/adopter-animaux/adopter-chat-europeen-f-solidaire-patie-449158\">SOLIDAIRE PATI...</a>,\n",
       " <a href=\"/adopter-animaux/adopter-chat-europeen-f-borneo-456562\">BORNEO</a>,\n",
       " <a href=\"/adopter-animaux/adopter-chien-anglo-m-magnum-449626\">Magnum</a>,\n",
       " <a href=\"/adopter-animaux/adopter-chien-anglo-m-mistral-449625\">Mistral</a>,\n",
       " <a href=\"/adopter-animaux/adopter-chien-epagneul-f-solidaire-petunia-448614\">SOLIDAIRE Petu...</a>,\n",
       " <a href=\"/adopter-animaux/adopter-chien-labrador-retriever-m-pepsi-vaa21909-436177\">PEPSI VAA21909</a>,\n",
       " <a href=\"/adopter-animaux/adopter-chien-croise-autre-berger-m-solidaire-miyasaki-456190\">SOLIDAIRE MIYA...</a>,\n",
       " <a href=\"/adopter-animaux/adopter-chien-ratier-m-solidaire-totoro-456189\">SOLIDAIRE TOTO...</a>,\n",
       " <a href=\"/adopter-animaux/adopter-chat-europeen-m-solidaire-roddy-456369\">SOLIDAIRE RODD...</a>,\n",
       " <a href=\"/adopter-animaux/adopter-chien-berger-m-bertrand-vaa22365-455558\">BERTRAND VAA22...</a>,\n",
       " <a href=\"/adopter-animaux/adopter-chat-europeen-f-solidaire-sisi-456365\">SOLIDAIRE SISI</a>,\n",
       " <a href=\"/adopter-animaux/adopter-chien-cane-corso-m-solidaire-punch-456571\">SOLIDAIRE Punc...</a>,\n",
       " <a href=\"/adopter-animaux/adopter-chien-labrador-retriever-m-gilbert-vaa22356-454738\">GILBERT VAA223...</a>,\n",
       " <a href=\"/adopter-animaux/adopter-chien-dalmatien-m-solidaire-lemon-454292\">SOLIDAIRE LEMO...</a>]"
      ]
     },
     "execution_count": 16,
     "metadata": {},
     "output_type": "execute_result"
    }
   ],
   "source": [
    "animals"
   ]
  },
  {
   "cell_type": "code",
   "execution_count": 3,
   "metadata": {
    "scrolled": true
   },
   "outputs": [],
   "source": [
    "def scrapped_df(all_links):\n",
    "    data_df=pd.DataFrame()\n",
    "\n",
    "    for links in all_links:\n",
    "        url=links\n",
    "        html = r.get(url).content\n",
    "        soup = bs(html, \"lxml\")\n",
    "        dict_animal=dict()\n",
    "\n",
    "        n=soup.select('div.field-label:contains(\"Nom\")+div')\n",
    "        Name=[name.text for name in n]\n",
    "        dict_animal['Name']=Name\n",
    "        \n",
    "        ra=soup.select('div.field-label:contains(\"Race\")+div')\n",
    "        Race=[race.text for race in ra]\n",
    "        dict_animal['Race / Apparence']=Race\n",
    "        \n",
    "        sp=soup.select('div.field-label:contains(\"Espèce\")+div')\n",
    "        Specy=[specy.text for specy in sp]\n",
    "        dict_animal['Specy']=Specy\n",
    "        \n",
    "        s=soup.select('div.field-label:contains(\"Sexe\")+div')\n",
    "        Sex=[sexe.text for sexe in s]\n",
    "        dict_animal['Sex']=Sex\n",
    "        \n",
    "        b=soup.select('div.field-label:contains(\"Date Naissance\")+div')\n",
    "        Birthday=[birthday.text for birthday in b]\n",
    "        dict_animal['Birthday']=Birthday\n",
    "        \n",
    "        desc=soup.select('div.field-items p')\n",
    "        Description=[des.text for des in desc]\n",
    "        dict_animal['Description']='\\n'.join(Description)\n",
    "\n",
    "        adress=soup.select('.addr')\n",
    "        dict_animal['refuge_adress']=[refuge_adress.text.strip()[5:] for refuge_adress in adress]\n",
    "        dict_animal['refuge_number']=[refuge_number.text.strip()[:2] for refuge_number in adress]\n",
    "\n",
    "        contacts=soup.select('.contacts')\n",
    "        dict_animal['contact_mail']=[contact_num.text.split()[0] for contact_num in contacts]\n",
    "        dict_animal['contact_num']=[contact_num.text.split()[1] for contact_num in contacts]\n",
    "        \n",
    "        \n",
    "        \n",
    "        data_animal_df=pd.DataFrame.from_dict(dict_animal)\n",
    "        data_df=data_df.append(data_animal_df)\n",
    "    return data_df\n",
    "    \n",
    "data_df=scrapped_df(df.all_links) "
   ]
  },
  {
   "cell_type": "code",
   "execution_count": 4,
   "metadata": {},
   "outputs": [
    {
     "data": {
      "text/html": [
       "<div>\n",
       "<style scoped>\n",
       "    .dataframe tbody tr th:only-of-type {\n",
       "        vertical-align: middle;\n",
       "    }\n",
       "\n",
       "    .dataframe tbody tr th {\n",
       "        vertical-align: top;\n",
       "    }\n",
       "\n",
       "    .dataframe thead th {\n",
       "        text-align: right;\n",
       "    }\n",
       "</style>\n",
       "<table border=\"1\" class=\"dataframe\">\n",
       "  <thead>\n",
       "    <tr style=\"text-align: right;\">\n",
       "      <th></th>\n",
       "      <th>Name</th>\n",
       "      <th>Race / Apparence</th>\n",
       "      <th>Specy</th>\n",
       "      <th>Sex</th>\n",
       "      <th>Birthday</th>\n",
       "      <th>Description</th>\n",
       "      <th>refuge_adress</th>\n",
       "      <th>refuge_number</th>\n",
       "      <th>contact_mail</th>\n",
       "      <th>contact_num</th>\n",
       "    </tr>\n",
       "  </thead>\n",
       "  <tbody>\n",
       "  </tbody>\n",
       "</table>\n",
       "</div>"
      ],
      "text/plain": [
       "Empty DataFrame\n",
       "Columns: [Name, Race / Apparence, Specy, Sex, Birthday, Description, refuge_adress, refuge_number, contact_mail, contact_num]\n",
       "Index: []"
      ]
     },
     "execution_count": 4,
     "metadata": {},
     "output_type": "execute_result"
    }
   ],
   "source": [
    "data_df"
   ]
  },
  {
   "cell_type": "code",
   "execution_count": 29,
   "metadata": {},
   "outputs": [],
   "source": [
    "brr={'Name': ['HAPPY'], 'Race / Apparence': ['Braque'], 'Specy': ['Chien'], 'Sex': ['Male'], 'Birthday': ['01/02/2010'], 'Description': [\"Happy est arrivé au refuge en février 2020. \\nC'est un adorable braque débordant d’énergie,très sociable avec ses congénères\\nIl aura donc besoin d'être dépensé physiquement aussi bien que mentalement .\\nIl pourra partager son foyer avec des enfants.\\nIl n'a pas l'air d'avoir connu grand chose.\", \"Pour tout projet d'adoption et/ou demande de renseignements contactez le refuge par mail : moree@la-spa.fr en communiquant votre numéro de téléphone. :) !\"], 'refuge_adress': ['Refuge Jean Leriche - MoréeLes Grandes Bretonnières41160 Morée'], 'refuge_number': ['41'], 'contact_mail': ['moree@la-spa.fr'], 'contact_num': ['0254820979']}"
   ]
  },
  {
   "cell_type": "code",
   "execution_count": 34,
   "metadata": {},
   "outputs": [
    {
     "data": {
      "text/plain": [
       "\"Happy est arrivé au refuge en février 2020. \\nC'est un adorable braque débordant d’énergie,très sociable avec ses congénères\\nIl aura donc besoin d'être dépensé physiquement aussi bien que mentalement .\\nIl pourra partager son foyer avec des enfants.\\nIl n'a pas l'air d'avoir connu grand chose.\\nPour tout projet d'adoption et/ou demande de renseignements contactez le refuge par mail : moree@la-spa.fr en communiquant votre numéro de téléphone. :) !\""
      ]
     },
     "execution_count": 34,
     "metadata": {},
     "output_type": "execute_result"
    }
   ],
   "source": [
    "'\\n'.join(brr['Description'])"
   ]
  },
  {
   "cell_type": "code",
   "execution_count": 31,
   "metadata": {},
   "outputs": [
    {
     "name": "stdout",
     "output_type": "stream",
     "text": [
      "                                            all_links\n",
      "0   https://www.la-spa.fr/adopter-animaux/adopter-...\n",
      "1   https://www.la-spa.fr/adopter-animaux/adopter-...\n",
      "2   https://www.la-spa.fr/adopter-animaux/adopter-...\n",
      "3   https://www.la-spa.fr/adopter-animaux/adopter-...\n",
      "4   https://www.la-spa.fr/adopter-animaux/adopter-...\n",
      "5   https://www.la-spa.fr/adopter-animaux/adopter-...\n",
      "6   https://www.la-spa.fr/adopter-animaux/adopter-...\n",
      "7   https://www.la-spa.fr/adopter-animaux/adopter-...\n",
      "8   https://www.la-spa.fr/adopter-animaux/adopter-...\n",
      "9   https://www.la-spa.fr/adopter-animaux/adopter-...\n",
      "10  https://www.la-spa.fr/adopter-animaux/adopter-...\n",
      "11  https://www.la-spa.fr/adopter-animaux/adopter-...\n",
      "12  https://www.la-spa.fr/adopter-animaux/adopter-...\n",
      "13  https://www.la-spa.fr/adopter-animaux/adopter-...\n",
      "14  https://www.la-spa.fr/adopter-animaux/adopter-...\n",
      "15  https://www.la-spa.fr/adopter-animaux/adopter-...\n"
     ]
    }
   ],
   "source": [
    "print(df)"
   ]
  },
  {
   "cell_type": "code",
   "execution_count": null,
   "metadata": {},
   "outputs": [],
   "source": []
  },
  {
   "cell_type": "code",
   "execution_count": null,
   "metadata": {},
   "outputs": [],
   "source": []
  },
  {
   "cell_type": "code",
   "execution_count": null,
   "metadata": {},
   "outputs": [],
   "source": []
  },
  {
   "cell_type": "code",
   "execution_count": 4,
   "metadata": {},
   "outputs": [
    {
     "data": {
      "text/html": [
       "<div>\n",
       "<style scoped>\n",
       "    .dataframe tbody tr th:only-of-type {\n",
       "        vertical-align: middle;\n",
       "    }\n",
       "\n",
       "    .dataframe tbody tr th {\n",
       "        vertical-align: top;\n",
       "    }\n",
       "\n",
       "    .dataframe thead th {\n",
       "        text-align: right;\n",
       "    }\n",
       "</style>\n",
       "<table border=\"1\" class=\"dataframe\">\n",
       "  <thead>\n",
       "    <tr style=\"text-align: right;\">\n",
       "      <th></th>\n",
       "      <th>Name</th>\n",
       "      <th>Race / Apparence</th>\n",
       "      <th>Specy</th>\n",
       "      <th>Sex</th>\n",
       "      <th>Birthday</th>\n",
       "      <th>Description</th>\n",
       "      <th>refuge_adress</th>\n",
       "      <th>refuge_number</th>\n",
       "      <th>contact_mail</th>\n",
       "      <th>contact_num</th>\n",
       "    </tr>\n",
       "  </thead>\n",
       "  <tbody>\n",
       "    <tr>\n",
       "      <th>0</th>\n",
       "      <td>SOLIDAIRE OSIRIS</td>\n",
       "      <td>Europeen</td>\n",
       "      <td>Chat</td>\n",
       "      <td>Femelle</td>\n",
       "      <td>01/06/2019</td>\n",
       "      <td>Osiris est arrivée au refuge en mars 2020 aprè...</td>\n",
       "      <td>Refuge de Forbach1, rue Saint Guy57600 Forbach</td>\n",
       "      <td>57</td>\n",
       "      <td>forbach@la-spa.fr</td>\n",
       "      <td>0387872930</td>\n",
       "    </tr>\n",
       "  </tbody>\n",
       "</table>\n",
       "</div>"
      ],
      "text/plain": [
       "               Name Race / Apparence Specy      Sex    Birthday  \\\n",
       "0  SOLIDAIRE OSIRIS         Europeen  Chat  Femelle  01/06/2019   \n",
       "\n",
       "                                         Description  \\\n",
       "0  Osiris est arrivée au refuge en mars 2020 aprè...   \n",
       "\n",
       "                                    refuge_adress refuge_number  \\\n",
       "0  Refuge de Forbach1, rue Saint Guy57600 Forbach            57   \n",
       "\n",
       "        contact_mail contact_num  \n",
       "0  forbach@la-spa.fr  0387872930  "
      ]
     },
     "execution_count": 4,
     "metadata": {},
     "output_type": "execute_result"
    }
   ],
   "source": [
    "url='https://www.la-spa.fr/adopter-animaux/adopter-chat-europeen-f-solidaire-osiris-456537'\n",
    "html = r.get(url).content\n",
    "soup = bs(html, \"lxml\")    \n",
    "dict_animal=dict()\n",
    "\n",
    "n=soup.select('div.field-label:contains(\"Nom\")+div')\n",
    "Name=[name.text for name in n]\n",
    "\n",
    "r=soup.select('div.field-label:contains(\"Race\")+div')\n",
    "Race=[race.text for race in r]\n",
    "\n",
    "sp=soup.select('div.field-label:contains(\"Espèce\")+div')\n",
    "Specy=[specy.text for specy in sp]\n",
    "\n",
    "s=soup.select('div.field-label:contains(\"Sexe\")+div')\n",
    "Sex=[sexe.text for sexe in s]\n",
    "\n",
    "b=soup.select('div.field-label:contains(\"Date Naissance\")+div')\n",
    "Birthday=[birthday.text for birthday in b]\n",
    "\n",
    "desc=soup.select('div.field-items p')\n",
    "Description=[des.text for des in desc]\n",
    "\n",
    "dict_animal['Name']=Name\n",
    "dict_animal['Race / Apparence']=Race\n",
    "dict_animal['Specy']=Specy\n",
    "dict_animal['Sex']=Sex\n",
    "dict_animal['Birthday']=Birthday\n",
    "dict_animal['Description']=Description\n",
    "\n",
    "adress=soup.select('.addr')\n",
    "dict_animal['refuge_adress']=[refuge_adress.text.strip()[5:] for refuge_adress in adress]\n",
    "dict_animal['refuge_number']=[refuge_number.text.strip()[:2] for refuge_number in adress]\n",
    "\n",
    "contacts=soup.select('.contacts')\n",
    "dict_animal['contact_mail']=[contact_num.text.split()[0] for contact_num in contacts]\n",
    "dict_animal['contact_num']=[contact_num.text.split()[1] for contact_num in contacts]\n",
    "\n",
    "#dict_animal\n",
    "data_df=pd.DataFrame.from_dict(dict_animal)\n",
    "data_df"
   ]
  },
  {
   "cell_type": "code",
   "execution_count": 8,
   "metadata": {},
   "outputs": [
    {
     "ename": "MissingSchema",
     "evalue": "Invalid URL '/adopter-animaux/adopter-chat-europeen-f-soldaire-yucca-451384': No schema supplied. Perhaps you meant http:///adopter-animaux/adopter-chat-europeen-f-soldaire-yucca-451384?",
     "output_type": "error",
     "traceback": [
      "\u001b[0;31m---------------------------------------------------------------------------\u001b[0m",
      "\u001b[0;31mMissingSchema\u001b[0m                             Traceback (most recent call last)",
      "\u001b[0;32m<ipython-input-8-265a22fce46c>\u001b[0m in \u001b[0;36m<module>\u001b[0;34m\u001b[0m\n\u001b[1;32m     30\u001b[0m         \u001b[0mdata_df\u001b[0m\u001b[0;34m\u001b[0m\u001b[0;34m\u001b[0m\u001b[0m\n\u001b[1;32m     31\u001b[0m \u001b[0;34m\u001b[0m\u001b[0m\n\u001b[0;32m---> 32\u001b[0;31m \u001b[0mscrapped_df\u001b[0m\u001b[0;34m(\u001b[0m\u001b[0mdf\u001b[0m\u001b[0;34m.\u001b[0m\u001b[0mall_links\u001b[0m\u001b[0;34m)\u001b[0m\u001b[0;34m\u001b[0m\u001b[0;34m\u001b[0m\u001b[0m\n\u001b[0m",
      "\u001b[0;32m<ipython-input-8-265a22fce46c>\u001b[0m in \u001b[0;36mscrapped_df\u001b[0;34m(all_links)\u001b[0m\n\u001b[1;32m      2\u001b[0m     \u001b[0;32mfor\u001b[0m \u001b[0mlinks\u001b[0m \u001b[0;32min\u001b[0m \u001b[0mall_links\u001b[0m\u001b[0;34m:\u001b[0m\u001b[0;34m\u001b[0m\u001b[0;34m\u001b[0m\u001b[0m\n\u001b[1;32m      3\u001b[0m         \u001b[0murl\u001b[0m\u001b[0;34m=\u001b[0m\u001b[0mlinks\u001b[0m\u001b[0;34m\u001b[0m\u001b[0;34m\u001b[0m\u001b[0m\n\u001b[0;32m----> 4\u001b[0;31m         \u001b[0mhtml\u001b[0m \u001b[0;34m=\u001b[0m \u001b[0mr\u001b[0m\u001b[0;34m.\u001b[0m\u001b[0mget\u001b[0m\u001b[0;34m(\u001b[0m\u001b[0murl\u001b[0m\u001b[0;34m)\u001b[0m\u001b[0;34m.\u001b[0m\u001b[0mcontent\u001b[0m\u001b[0;34m;\u001b[0m\u001b[0;34m\u001b[0m\u001b[0;34m\u001b[0m\u001b[0m\n\u001b[0m\u001b[1;32m      5\u001b[0m         \u001b[0msoup\u001b[0m \u001b[0;34m=\u001b[0m \u001b[0mbs\u001b[0m\u001b[0;34m(\u001b[0m\u001b[0mhtml\u001b[0m\u001b[0;34m,\u001b[0m \u001b[0;34m\"lxml\"\u001b[0m\u001b[0;34m)\u001b[0m\u001b[0;34m;\u001b[0m\u001b[0;34m\u001b[0m\u001b[0;34m\u001b[0m\u001b[0m\n\u001b[1;32m      6\u001b[0m         \u001b[0;31m#get_labels_list\u001b[0m\u001b[0;34m\u001b[0m\u001b[0;34m\u001b[0m\u001b[0;34m\u001b[0m\u001b[0m\n",
      "\u001b[0;32m~/opt/anaconda3/lib/python3.7/site-packages/requests/api.py\u001b[0m in \u001b[0;36mget\u001b[0;34m(url, params, **kwargs)\u001b[0m\n\u001b[1;32m     73\u001b[0m \u001b[0;34m\u001b[0m\u001b[0m\n\u001b[1;32m     74\u001b[0m     \u001b[0mkwargs\u001b[0m\u001b[0;34m.\u001b[0m\u001b[0msetdefault\u001b[0m\u001b[0;34m(\u001b[0m\u001b[0;34m'allow_redirects'\u001b[0m\u001b[0;34m,\u001b[0m \u001b[0;32mTrue\u001b[0m\u001b[0;34m)\u001b[0m\u001b[0;34m\u001b[0m\u001b[0;34m\u001b[0m\u001b[0m\n\u001b[0;32m---> 75\u001b[0;31m     \u001b[0;32mreturn\u001b[0m \u001b[0mrequest\u001b[0m\u001b[0;34m(\u001b[0m\u001b[0;34m'get'\u001b[0m\u001b[0;34m,\u001b[0m \u001b[0murl\u001b[0m\u001b[0;34m,\u001b[0m \u001b[0mparams\u001b[0m\u001b[0;34m=\u001b[0m\u001b[0mparams\u001b[0m\u001b[0;34m,\u001b[0m \u001b[0;34m**\u001b[0m\u001b[0mkwargs\u001b[0m\u001b[0;34m)\u001b[0m\u001b[0;34m\u001b[0m\u001b[0;34m\u001b[0m\u001b[0m\n\u001b[0m\u001b[1;32m     76\u001b[0m \u001b[0;34m\u001b[0m\u001b[0m\n\u001b[1;32m     77\u001b[0m \u001b[0;34m\u001b[0m\u001b[0m\n",
      "\u001b[0;32m~/opt/anaconda3/lib/python3.7/site-packages/requests/api.py\u001b[0m in \u001b[0;36mrequest\u001b[0;34m(method, url, **kwargs)\u001b[0m\n\u001b[1;32m     58\u001b[0m     \u001b[0;31m# cases, and look like a memory leak in others.\u001b[0m\u001b[0;34m\u001b[0m\u001b[0;34m\u001b[0m\u001b[0;34m\u001b[0m\u001b[0m\n\u001b[1;32m     59\u001b[0m     \u001b[0;32mwith\u001b[0m \u001b[0msessions\u001b[0m\u001b[0;34m.\u001b[0m\u001b[0mSession\u001b[0m\u001b[0;34m(\u001b[0m\u001b[0;34m)\u001b[0m \u001b[0;32mas\u001b[0m \u001b[0msession\u001b[0m\u001b[0;34m:\u001b[0m\u001b[0;34m\u001b[0m\u001b[0;34m\u001b[0m\u001b[0m\n\u001b[0;32m---> 60\u001b[0;31m         \u001b[0;32mreturn\u001b[0m \u001b[0msession\u001b[0m\u001b[0;34m.\u001b[0m\u001b[0mrequest\u001b[0m\u001b[0;34m(\u001b[0m\u001b[0mmethod\u001b[0m\u001b[0;34m=\u001b[0m\u001b[0mmethod\u001b[0m\u001b[0;34m,\u001b[0m \u001b[0murl\u001b[0m\u001b[0;34m=\u001b[0m\u001b[0murl\u001b[0m\u001b[0;34m,\u001b[0m \u001b[0;34m**\u001b[0m\u001b[0mkwargs\u001b[0m\u001b[0;34m)\u001b[0m\u001b[0;34m\u001b[0m\u001b[0;34m\u001b[0m\u001b[0m\n\u001b[0m\u001b[1;32m     61\u001b[0m \u001b[0;34m\u001b[0m\u001b[0m\n\u001b[1;32m     62\u001b[0m \u001b[0;34m\u001b[0m\u001b[0m\n",
      "\u001b[0;32m~/opt/anaconda3/lib/python3.7/site-packages/requests/sessions.py\u001b[0m in \u001b[0;36mrequest\u001b[0;34m(self, method, url, params, data, headers, cookies, files, auth, timeout, allow_redirects, proxies, hooks, stream, verify, cert, json)\u001b[0m\n\u001b[1;32m    517\u001b[0m             \u001b[0mhooks\u001b[0m\u001b[0;34m=\u001b[0m\u001b[0mhooks\u001b[0m\u001b[0;34m,\u001b[0m\u001b[0;34m\u001b[0m\u001b[0;34m\u001b[0m\u001b[0m\n\u001b[1;32m    518\u001b[0m         )\n\u001b[0;32m--> 519\u001b[0;31m         \u001b[0mprep\u001b[0m \u001b[0;34m=\u001b[0m \u001b[0mself\u001b[0m\u001b[0;34m.\u001b[0m\u001b[0mprepare_request\u001b[0m\u001b[0;34m(\u001b[0m\u001b[0mreq\u001b[0m\u001b[0;34m)\u001b[0m\u001b[0;34m\u001b[0m\u001b[0;34m\u001b[0m\u001b[0m\n\u001b[0m\u001b[1;32m    520\u001b[0m \u001b[0;34m\u001b[0m\u001b[0m\n\u001b[1;32m    521\u001b[0m         \u001b[0mproxies\u001b[0m \u001b[0;34m=\u001b[0m \u001b[0mproxies\u001b[0m \u001b[0;32mor\u001b[0m \u001b[0;34m{\u001b[0m\u001b[0;34m}\u001b[0m\u001b[0;34m\u001b[0m\u001b[0;34m\u001b[0m\u001b[0m\n",
      "\u001b[0;32m~/opt/anaconda3/lib/python3.7/site-packages/requests/sessions.py\u001b[0m in \u001b[0;36mprepare_request\u001b[0;34m(self, request)\u001b[0m\n\u001b[1;32m    460\u001b[0m             \u001b[0mauth\u001b[0m\u001b[0;34m=\u001b[0m\u001b[0mmerge_setting\u001b[0m\u001b[0;34m(\u001b[0m\u001b[0mauth\u001b[0m\u001b[0;34m,\u001b[0m \u001b[0mself\u001b[0m\u001b[0;34m.\u001b[0m\u001b[0mauth\u001b[0m\u001b[0;34m)\u001b[0m\u001b[0;34m,\u001b[0m\u001b[0;34m\u001b[0m\u001b[0;34m\u001b[0m\u001b[0m\n\u001b[1;32m    461\u001b[0m             \u001b[0mcookies\u001b[0m\u001b[0;34m=\u001b[0m\u001b[0mmerged_cookies\u001b[0m\u001b[0;34m,\u001b[0m\u001b[0;34m\u001b[0m\u001b[0;34m\u001b[0m\u001b[0m\n\u001b[0;32m--> 462\u001b[0;31m             \u001b[0mhooks\u001b[0m\u001b[0;34m=\u001b[0m\u001b[0mmerge_hooks\u001b[0m\u001b[0;34m(\u001b[0m\u001b[0mrequest\u001b[0m\u001b[0;34m.\u001b[0m\u001b[0mhooks\u001b[0m\u001b[0;34m,\u001b[0m \u001b[0mself\u001b[0m\u001b[0;34m.\u001b[0m\u001b[0mhooks\u001b[0m\u001b[0;34m)\u001b[0m\u001b[0;34m,\u001b[0m\u001b[0;34m\u001b[0m\u001b[0;34m\u001b[0m\u001b[0m\n\u001b[0m\u001b[1;32m    463\u001b[0m         )\n\u001b[1;32m    464\u001b[0m         \u001b[0;32mreturn\u001b[0m \u001b[0mp\u001b[0m\u001b[0;34m\u001b[0m\u001b[0;34m\u001b[0m\u001b[0m\n",
      "\u001b[0;32m~/opt/anaconda3/lib/python3.7/site-packages/requests/models.py\u001b[0m in \u001b[0;36mprepare\u001b[0;34m(self, method, url, headers, files, data, params, auth, cookies, hooks, json)\u001b[0m\n\u001b[1;32m    311\u001b[0m \u001b[0;34m\u001b[0m\u001b[0m\n\u001b[1;32m    312\u001b[0m         \u001b[0mself\u001b[0m\u001b[0;34m.\u001b[0m\u001b[0mprepare_method\u001b[0m\u001b[0;34m(\u001b[0m\u001b[0mmethod\u001b[0m\u001b[0;34m)\u001b[0m\u001b[0;34m\u001b[0m\u001b[0;34m\u001b[0m\u001b[0m\n\u001b[0;32m--> 313\u001b[0;31m         \u001b[0mself\u001b[0m\u001b[0;34m.\u001b[0m\u001b[0mprepare_url\u001b[0m\u001b[0;34m(\u001b[0m\u001b[0murl\u001b[0m\u001b[0;34m,\u001b[0m \u001b[0mparams\u001b[0m\u001b[0;34m)\u001b[0m\u001b[0;34m\u001b[0m\u001b[0;34m\u001b[0m\u001b[0m\n\u001b[0m\u001b[1;32m    314\u001b[0m         \u001b[0mself\u001b[0m\u001b[0;34m.\u001b[0m\u001b[0mprepare_headers\u001b[0m\u001b[0;34m(\u001b[0m\u001b[0mheaders\u001b[0m\u001b[0;34m)\u001b[0m\u001b[0;34m\u001b[0m\u001b[0;34m\u001b[0m\u001b[0m\n\u001b[1;32m    315\u001b[0m         \u001b[0mself\u001b[0m\u001b[0;34m.\u001b[0m\u001b[0mprepare_cookies\u001b[0m\u001b[0;34m(\u001b[0m\u001b[0mcookies\u001b[0m\u001b[0;34m)\u001b[0m\u001b[0;34m\u001b[0m\u001b[0;34m\u001b[0m\u001b[0m\n",
      "\u001b[0;32m~/opt/anaconda3/lib/python3.7/site-packages/requests/models.py\u001b[0m in \u001b[0;36mprepare_url\u001b[0;34m(self, url, params)\u001b[0m\n\u001b[1;32m    385\u001b[0m             \u001b[0merror\u001b[0m \u001b[0;34m=\u001b[0m \u001b[0merror\u001b[0m\u001b[0;34m.\u001b[0m\u001b[0mformat\u001b[0m\u001b[0;34m(\u001b[0m\u001b[0mto_native_string\u001b[0m\u001b[0;34m(\u001b[0m\u001b[0murl\u001b[0m\u001b[0;34m,\u001b[0m \u001b[0;34m'utf8'\u001b[0m\u001b[0;34m)\u001b[0m\u001b[0;34m)\u001b[0m\u001b[0;34m\u001b[0m\u001b[0;34m\u001b[0m\u001b[0m\n\u001b[1;32m    386\u001b[0m \u001b[0;34m\u001b[0m\u001b[0m\n\u001b[0;32m--> 387\u001b[0;31m             \u001b[0;32mraise\u001b[0m \u001b[0mMissingSchema\u001b[0m\u001b[0;34m(\u001b[0m\u001b[0merror\u001b[0m\u001b[0;34m)\u001b[0m\u001b[0;34m\u001b[0m\u001b[0;34m\u001b[0m\u001b[0m\n\u001b[0m\u001b[1;32m    388\u001b[0m \u001b[0;34m\u001b[0m\u001b[0m\n\u001b[1;32m    389\u001b[0m         \u001b[0;32mif\u001b[0m \u001b[0;32mnot\u001b[0m \u001b[0mhost\u001b[0m\u001b[0;34m:\u001b[0m\u001b[0;34m\u001b[0m\u001b[0;34m\u001b[0m\u001b[0m\n",
      "\u001b[0;31mMissingSchema\u001b[0m: Invalid URL '/adopter-animaux/adopter-chat-europeen-f-soldaire-yucca-451384': No schema supplied. Perhaps you meant http:///adopter-animaux/adopter-chat-europeen-f-soldaire-yucca-451384?"
     ]
    }
   ],
   "source": [
    "def scrapped_df(all_links):\n",
    "    for links in all_links:\n",
    "        url=links\n",
    "        html = r.get(url).content;\n",
    "        soup = bs(html, \"lxml\");\n",
    "        dict_animal=dict()\n",
    "            \n",
    "        dict_animal['Name']=soup.select('div.field-label:contains(\"Nom\")+div')\n",
    "        dict_animal['Race / Apparence']=soup.select('div.field-label:contains(\"Race\")+div')\n",
    "        dict_animal['Specy']=soup.select('div.field-label:contains(\"Espèce\")+div')\n",
    "        dict_animal['Sex']=soup.select('div.field-label:contains(\"Sexe\")+div')\n",
    "        dict_animal['Birthday']=soup.select('div.field-label:contains(\"Date Naissance\")+div')\n",
    "        dict_animal['Description']=soup.select('div.field-label p')\n",
    "        \n",
    "        \n",
    "        .field-items p\n",
    "        \n",
    "        adress=soup.select('.addr')\n",
    "        dict_animal['refuge_adress']=[refuge_adress.text.strip()[5:] for refuge_adress in adress]\n",
    "        dict_animal['refuge_number']=[refuge_number.text.strip()[:2] for refuge_number in adress]\n",
    "\n",
    "        contacts=soup.select('.contacts')\n",
    "        dict_animal['contact_mail']=[contact_num.text.split()[0] for contact_num in contacts]\n",
    "        dict_animal['contact_num']=[contact_num.text.split()[1] for contact_num in contacts]\n",
    "\n",
    "        data_dict=[{k:v for k, v in zip(all_labels, all_data_animal)}]\n",
    "        #data_dict\n",
    "        data_df=pd.DataFrame.from_dict(data_dict)\n",
    "        data_df\n",
    "\n",
    "scrapped_df(df.all_links)        "
   ]
  },
  {
   "cell_type": "code",
   "execution_count": 42,
   "metadata": {},
   "outputs": [
    {
     "data": {
      "text/html": [
       "<div>\n",
       "<style scoped>\n",
       "    .dataframe tbody tr th:only-of-type {\n",
       "        vertical-align: middle;\n",
       "    }\n",
       "\n",
       "    .dataframe tbody tr th {\n",
       "        vertical-align: top;\n",
       "    }\n",
       "\n",
       "    .dataframe thead th {\n",
       "        text-align: right;\n",
       "    }\n",
       "</style>\n",
       "<table border=\"1\" class=\"dataframe\">\n",
       "  <thead>\n",
       "    <tr style=\"text-align: right;\">\n",
       "      <th></th>\n",
       "      <th>all_links</th>\n",
       "    </tr>\n",
       "  </thead>\n",
       "  <tbody>\n",
       "    <tr>\n",
       "      <th>0</th>\n",
       "      <td>https://www.la-spa.fr/adopter-animaux/adopter-...</td>\n",
       "    </tr>\n",
       "    <tr>\n",
       "      <th>1</th>\n",
       "      <td>https://www.la-spa.fr/adopter-animaux/adopter-...</td>\n",
       "    </tr>\n",
       "    <tr>\n",
       "      <th>2</th>\n",
       "      <td>https://www.la-spa.fr/adopter-animaux/adopter-...</td>\n",
       "    </tr>\n",
       "    <tr>\n",
       "      <th>3</th>\n",
       "      <td>https://www.la-spa.fr/adopter-animaux/adopter-...</td>\n",
       "    </tr>\n",
       "    <tr>\n",
       "      <th>4</th>\n",
       "      <td>https://www.la-spa.fr/adopter-animaux/adopter-...</td>\n",
       "    </tr>\n",
       "    <tr>\n",
       "      <th>5</th>\n",
       "      <td>https://www.la-spa.fr/adopter-animaux/adopter-...</td>\n",
       "    </tr>\n",
       "    <tr>\n",
       "      <th>6</th>\n",
       "      <td>https://www.la-spa.fr/adopter-animaux/adopter-...</td>\n",
       "    </tr>\n",
       "    <tr>\n",
       "      <th>7</th>\n",
       "      <td>https://www.la-spa.fr/adopter-animaux/adopter-...</td>\n",
       "    </tr>\n",
       "    <tr>\n",
       "      <th>8</th>\n",
       "      <td>https://www.la-spa.fr/adopter-animaux/adopter-...</td>\n",
       "    </tr>\n",
       "    <tr>\n",
       "      <th>9</th>\n",
       "      <td>https://www.la-spa.fr/adopter-animaux/adopter-...</td>\n",
       "    </tr>\n",
       "    <tr>\n",
       "      <th>10</th>\n",
       "      <td>https://www.la-spa.fr/adopter-animaux/adopter-...</td>\n",
       "    </tr>\n",
       "    <tr>\n",
       "      <th>11</th>\n",
       "      <td>https://www.la-spa.fr/adopter-animaux/adopter-...</td>\n",
       "    </tr>\n",
       "    <tr>\n",
       "      <th>12</th>\n",
       "      <td>https://www.la-spa.fr/adopter-animaux/adopter-...</td>\n",
       "    </tr>\n",
       "    <tr>\n",
       "      <th>13</th>\n",
       "      <td>https://www.la-spa.fr/adopter-animaux/adopter-...</td>\n",
       "    </tr>\n",
       "    <tr>\n",
       "      <th>14</th>\n",
       "      <td>https://www.la-spa.fr/adopter-animaux/adopter-...</td>\n",
       "    </tr>\n",
       "    <tr>\n",
       "      <th>15</th>\n",
       "      <td>https://www.la-spa.fr/adopter-animaux/adopter-...</td>\n",
       "    </tr>\n",
       "  </tbody>\n",
       "</table>\n",
       "</div>"
      ],
      "text/plain": [
       "                                            all_links\n",
       "0   https://www.la-spa.fr/adopter-animaux/adopter-...\n",
       "1   https://www.la-spa.fr/adopter-animaux/adopter-...\n",
       "2   https://www.la-spa.fr/adopter-animaux/adopter-...\n",
       "3   https://www.la-spa.fr/adopter-animaux/adopter-...\n",
       "4   https://www.la-spa.fr/adopter-animaux/adopter-...\n",
       "5   https://www.la-spa.fr/adopter-animaux/adopter-...\n",
       "6   https://www.la-spa.fr/adopter-animaux/adopter-...\n",
       "7   https://www.la-spa.fr/adopter-animaux/adopter-...\n",
       "8   https://www.la-spa.fr/adopter-animaux/adopter-...\n",
       "9   https://www.la-spa.fr/adopter-animaux/adopter-...\n",
       "10  https://www.la-spa.fr/adopter-animaux/adopter-...\n",
       "11  https://www.la-spa.fr/adopter-animaux/adopter-...\n",
       "12  https://www.la-spa.fr/adopter-animaux/adopter-...\n",
       "13  https://www.la-spa.fr/adopter-animaux/adopter-...\n",
       "14  https://www.la-spa.fr/adopter-animaux/adopter-...\n",
       "15  https://www.la-spa.fr/adopter-animaux/adopter-..."
      ]
     },
     "execution_count": 42,
     "metadata": {},
     "output_type": "execute_result"
    }
   ],
   "source": [
    "df"
   ]
  },
  {
   "cell_type": "code",
   "execution_count": null,
   "metadata": {},
   "outputs": [],
   "source": []
  },
  {
   "cell_type": "code",
   "execution_count": null,
   "metadata": {},
   "outputs": [],
   "source": []
  },
  {
   "cell_type": "code",
   "execution_count": null,
   "metadata": {},
   "outputs": [],
   "source": []
  },
  {
   "cell_type": "code",
   "execution_count": null,
   "metadata": {},
   "outputs": [],
   "source": []
  },
  {
   "cell_type": "code",
   "execution_count": null,
   "metadata": {},
   "outputs": [],
   "source": []
  }
 ],
 "metadata": {
  "kernelspec": {
   "display_name": "Python 3",
   "language": "python",
   "name": "python3"
  },
  "language_info": {
   "codemirror_mode": {
    "name": "ipython",
    "version": 3
   },
   "file_extension": ".py",
   "mimetype": "text/x-python",
   "name": "python",
   "nbconvert_exporter": "python",
   "pygments_lexer": "ipython3",
   "version": "3.7.6"
  }
 },
 "nbformat": 4,
 "nbformat_minor": 4
}
