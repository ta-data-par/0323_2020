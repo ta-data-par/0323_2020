{
 "cells": [
  {
   "cell_type": "code",
   "execution_count": 7,
   "metadata": {},
   "outputs": [],
   "source": [
    "import requests as r\n",
    "import pandas as pd\n",
    "from bs4 import BeautifulSoup as bs\n",
    "import time"
   ]
  },
  {
   "cell_type": "code",
   "execution_count": 2,
   "metadata": {},
   "outputs": [
    {
     "name": "stdout",
     "output_type": "stream",
     "text": [
      "Process complete\n",
      "We found : 64 results\n"
     ]
    }
   ],
   "source": [
    "#def collect_data(url):\n",
    "df=pd.DataFrame()\n",
    "for i in range(4):\n",
    "    url=f'https://www.la-spa.fr/adopter-animaux?field_esp_ce_value=All&page={1+i}'\n",
    "    html = r.get(url).content\n",
    "    append_str = 'https://www.la-spa.fr/adopter-animaux'\n",
    "    soup = bs(html, \"lxml\");\n",
    "\n",
    "    animals=soup.select('div h3 a[href]')\n",
    "    links=[l['href'] for l in animals]\n",
    "    all_links=[append_str + link if link.startswith('/') else link for link in links]\n",
    "\n",
    "    animal_dict = {'all_links': all_links} \n",
    "    collect_df=pd.DataFrame(animal_dict)\n",
    "    df=df.append(collect_df)\n",
    "    time.sleep(3)\n",
    "\n",
    "print('Process complete')\n",
    "print('We found :',len(df),'results')\n",
    "#return df\n",
    "#df=collect_data('https://spa-notifadoption.herokuapp.com/refuges')"
   ]
  },
  {
   "cell_type": "code",
   "execution_count": 3,
   "metadata": {},
   "outputs": [
    {
     "data": {
      "text/plain": [
       "['https://www.la-spa.fr/adopter-animaux/adopter-animaux/adopter-chien-labrador-retriever-m-phoenix-452554',\n",
       " 'https://www.la-spa.fr/adopter-animaux/adopter-animaux/adopter-nac-rat-f-bajoie-452138',\n",
       " 'https://www.la-spa.fr/adopter-animaux/adopter-animaux/adopter-nac-rat-f-clette-452137',\n",
       " 'https://www.la-spa.fr/adopter-animaux/adopter-animaux/adopter-nac-rat-m-gondin-452135',\n",
       " 'https://www.la-spa.fr/adopter-animaux/adopter-animaux/adopter-nac-rat-m-bougri-452134',\n",
       " 'https://www.la-spa.fr/adopter-animaux/adopter-animaux/adopter-chien-croise-autre-berger-f-solidaire-orphee-451241',\n",
       " 'https://www.la-spa.fr/adopter-animaux/adopter-animaux/adopter-chien-american-staffordshire-m-hazro-paa19721-449885',\n",
       " 'https://www.la-spa.fr/adopter-animaux/adopter-animaux/adopter-nac-lapin-m-dumbo-455210',\n",
       " 'https://www.la-spa.fr/adopter-animaux/adopter-animaux/adopter-nac-lapin-m-arlo-455209',\n",
       " 'https://www.la-spa.fr/adopter-animaux/adopter-animaux/adopter-chien-croise-autre-epagneul-breton-f-solidaire-lovyou-haa22681-451433',\n",
       " 'https://www.la-spa.fr/adopter-animaux/adopter-animaux/adopter-chien-berger-f-solidaire-galice-oaa18544-451519',\n",
       " 'https://www.la-spa.fr/adopter-animaux/adopter-animaux/adopter-chien-berger-allemand-m-solidaire-lassko-oaa18536-449849',\n",
       " 'https://www.la-spa.fr/adopter-animaux/adopter-animaux/adopter-nac-rat-m-emile-441207',\n",
       " 'https://www.la-spa.fr/adopter-animaux/adopter-animaux/adopter-nac-rat-m-albert-441206',\n",
       " 'https://www.la-spa.fr/adopter-animaux/adopter-animaux/adopter-nac-rat-m-gerard-441204',\n",
       " 'https://www.la-spa.fr/adopter-animaux/adopter-animaux/adopter-nac-rat-m-caid-441203']"
      ]
     },
     "execution_count": 3,
     "metadata": {},
     "output_type": "execute_result"
    }
   ],
   "source": [
    "all_links"
   ]
  },
  {
   "cell_type": "code",
   "execution_count": 14,
   "metadata": {},
   "outputs": [],
   "source": [
    "#def scrapped_df(all_links):\n",
    "data_df=pd.DataFrame()\n",
    "\n",
    "#for links in all_links:\n",
    "url=links\n",
    "html = r.get(url).content\n",
    "soup = bs(html, \"lxml\")\n",
    "dict_animal=dict()\n",
    "\n",
    "n=soup.select('div.field-label:contains(\"Nom\")+div')\n",
    "Name=[name.text for name in n]\n",
    "dict_animal['Name']=Name\n",
    "\n",
    "ra=soup.select('div.field-label:contains(\"Race\")+div')\n",
    "Race=[race.text for race in ra]\n",
    "dict_animal['Race / Apparence']=Race\n",
    "\n",
    "sp=soup.select('div.field-label:contains(\"Espèce\")+div')\n",
    "Specy=[specy.text for specy in sp]\n",
    "dict_animal['Specy']=Specy\n",
    "\n",
    "s=soup.select('div.field-label:contains(\"Sexe\")+div')\n",
    "Sex=[sexe.text for sexe in s]\n",
    "dict_animal['Sex']=Sex\n",
    "\n",
    "b=soup.select('div.field-label:contains(\"Date Naissance\")+div')\n",
    "Birthday=[birthday.text for birthday in b]\n",
    "dict_animal['Birthday']=Birthday\n",
    "\n",
    "desc=soup.select('div.field-items p')\n",
    "Description=[des.text for des in desc]\n",
    "dict_animal['Description']='\\n'.join(Description)\n",
    "\n",
    "adress=soup.select('.addr')\n",
    "dict_animal['refuge_adress']=[refuge_adress.text.strip()[5:] for refuge_adress in adress]\n",
    "dict_animal['refuge_number']=[refuge_number.text.strip()[:2] for refuge_number in adress]\n",
    "\n",
    "contacts=soup.select('.contacts')\n",
    "dict_animal['contact_mail']=[contact_num.text.split()[0] for contact_num in contacts]\n",
    "dict_animal['contact_num']=[contact_num.text.split()[1] for contact_num in contacts]\n",
    "\n",
    "dict_animal['Link']=url\n",
    "\n",
    "data_animal_df=pd.DataFrame.from_dict(dict_animal)\n",
    "data_df=data_df.append(data_animal_df)\n",
    "\n",
    "    #return data_df\n",
    "    \n",
    "#data_df=scrapped_df(df.all_links)"
   ]
  },
  {
   "cell_type": "code",
   "execution_count": 16,
   "metadata": {},
   "outputs": [
    {
     "data": {
      "text/plain": [
       "['https://www.la-spa.fr/adopter-animaux/adopter-animaux/adopter-chien-labrador-retriever-m-phoenix-452554',\n",
       " 'https://www.la-spa.fr/adopter-animaux/adopter-animaux/adopter-nac-rat-f-bajoie-452138',\n",
       " 'https://www.la-spa.fr/adopter-animaux/adopter-animaux/adopter-nac-rat-f-clette-452137',\n",
       " 'https://www.la-spa.fr/adopter-animaux/adopter-animaux/adopter-nac-rat-m-gondin-452135',\n",
       " 'https://www.la-spa.fr/adopter-animaux/adopter-animaux/adopter-nac-rat-m-bougri-452134',\n",
       " 'https://www.la-spa.fr/adopter-animaux/adopter-animaux/adopter-chien-croise-autre-berger-f-solidaire-orphee-451241',\n",
       " 'https://www.la-spa.fr/adopter-animaux/adopter-animaux/adopter-chien-american-staffordshire-m-hazro-paa19721-449885',\n",
       " 'https://www.la-spa.fr/adopter-animaux/adopter-animaux/adopter-nac-lapin-m-dumbo-455210',\n",
       " 'https://www.la-spa.fr/adopter-animaux/adopter-animaux/adopter-nac-lapin-m-arlo-455209',\n",
       " 'https://www.la-spa.fr/adopter-animaux/adopter-animaux/adopter-chien-croise-autre-epagneul-breton-f-solidaire-lovyou-haa22681-451433',\n",
       " 'https://www.la-spa.fr/adopter-animaux/adopter-animaux/adopter-chien-berger-f-solidaire-galice-oaa18544-451519',\n",
       " 'https://www.la-spa.fr/adopter-animaux/adopter-animaux/adopter-chien-berger-allemand-m-solidaire-lassko-oaa18536-449849',\n",
       " 'https://www.la-spa.fr/adopter-animaux/adopter-animaux/adopter-nac-rat-m-emile-441207',\n",
       " 'https://www.la-spa.fr/adopter-animaux/adopter-animaux/adopter-nac-rat-m-albert-441206',\n",
       " 'https://www.la-spa.fr/adopter-animaux/adopter-animaux/adopter-nac-rat-m-gerard-441204',\n",
       " 'https://www.la-spa.fr/adopter-animaux/adopter-animaux/adopter-nac-rat-m-caid-441203']"
      ]
     },
     "execution_count": 16,
     "metadata": {},
     "output_type": "execute_result"
    }
   ],
   "source": [
    "data_df"
   ]
  },
  {
   "cell_type": "code",
   "execution_count": null,
   "metadata": {},
   "outputs": [],
   "source": []
  },
  {
   "cell_type": "code",
   "execution_count": null,
   "metadata": {},
   "outputs": [],
   "source": []
  },
  {
   "cell_type": "code",
   "execution_count": null,
   "metadata": {},
   "outputs": [],
   "source": []
  },
  {
   "cell_type": "code",
   "execution_count": null,
   "metadata": {},
   "outputs": [],
   "source": []
  },
  {
   "cell_type": "code",
   "execution_count": null,
   "metadata": {},
   "outputs": [],
   "source": []
  },
  {
   "cell_type": "code",
   "execution_count": null,
   "metadata": {},
   "outputs": [],
   "source": []
  },
  {
   "cell_type": "code",
   "execution_count": 9,
   "metadata": {},
   "outputs": [
    {
     "data": {
      "text/html": [
       "<div>\n",
       "<style scoped>\n",
       "    .dataframe tbody tr th:only-of-type {\n",
       "        vertical-align: middle;\n",
       "    }\n",
       "\n",
       "    .dataframe tbody tr th {\n",
       "        vertical-align: top;\n",
       "    }\n",
       "\n",
       "    .dataframe thead th {\n",
       "        text-align: right;\n",
       "    }\n",
       "</style>\n",
       "<table border=\"1\" class=\"dataframe\">\n",
       "  <thead>\n",
       "    <tr style=\"text-align: right;\">\n",
       "      <th></th>\n",
       "      <th>Name</th>\n",
       "      <th>Race / Apparence</th>\n",
       "      <th>Specy</th>\n",
       "      <th>Sex</th>\n",
       "      <th>Birthday</th>\n",
       "      <th>Description</th>\n",
       "      <th>refuge_adress</th>\n",
       "      <th>refuge_number</th>\n",
       "      <th>contact_mail</th>\n",
       "      <th>contact_num</th>\n",
       "      <th>Link</th>\n",
       "    </tr>\n",
       "  </thead>\n",
       "  <tbody>\n",
       "    <tr>\n",
       "      <th>0</th>\n",
       "      <td>SPYKE</td>\n",
       "      <td>Berger</td>\n",
       "      <td>Chien</td>\n",
       "      <td>Male</td>\n",
       "      <td>01/01/2017</td>\n",
       "      <td>Sa petite bouille de bébé qu'il n'a pas perdu ...</td>\n",
       "      <td>Refuge de Port la Nouvelle615, Route de La Pal...</td>\n",
       "      <td>11</td>\n",
       "      <td>portlanouvelle@la-spa.fr</td>\n",
       "      <td>0468336108</td>\n",
       "      <td>https://www.la-spa.fr/adopter-animaux/adopter-...</td>\n",
       "    </tr>\n",
       "  </tbody>\n",
       "</table>\n",
       "</div>"
      ],
      "text/plain": [
       "    Name Race / Apparence  Specy   Sex    Birthday  \\\n",
       "0  SPYKE           Berger  Chien  Male  01/01/2017   \n",
       "\n",
       "                                         Description  \\\n",
       "0  Sa petite bouille de bébé qu'il n'a pas perdu ...   \n",
       "\n",
       "                                       refuge_adress refuge_number  \\\n",
       "0  Refuge de Port la Nouvelle615, Route de La Pal...            11   \n",
       "\n",
       "               contact_mail contact_num  \\\n",
       "0  portlanouvelle@la-spa.fr  0468336108   \n",
       "\n",
       "                                                Link  \n",
       "0  https://www.la-spa.fr/adopter-animaux/adopter-...  "
      ]
     },
     "execution_count": 9,
     "metadata": {},
     "output_type": "execute_result"
    }
   ],
   "source": [
    "data_df"
   ]
  },
  {
   "cell_type": "code",
   "execution_count": null,
   "metadata": {},
   "outputs": [],
   "source": []
  },
  {
   "cell_type": "code",
   "execution_count": null,
   "metadata": {},
   "outputs": [],
   "source": []
  },
  {
   "cell_type": "code",
   "execution_count": null,
   "metadata": {},
   "outputs": [],
   "source": []
  },
  {
   "cell_type": "code",
   "execution_count": 5,
   "metadata": {},
   "outputs": [
    {
     "data": {
      "text/plain": [
       "{'Name': [],\n",
       " 'Race / Apparence': [],\n",
       " 'Specy': [],\n",
       " 'Sex': [],\n",
       " 'Birthday': [],\n",
       " 'Description': '',\n",
       " 'refuge_adress': [],\n",
       " 'refuge_number': [],\n",
       " 'contact_mail': [],\n",
       " 'contact_num': [],\n",
       " 'Link': 'https://www.la-spa.fr/adopter-animaux?field_esp_ce_value=All&page=4'}"
      ]
     },
     "execution_count": 5,
     "metadata": {},
     "output_type": "execute_result"
    }
   ],
   "source": [
    "dict_animal"
   ]
  },
  {
   "cell_type": "code",
   "execution_count": null,
   "metadata": {},
   "outputs": [],
   "source": []
  },
  {
   "cell_type": "code",
   "execution_count": null,
   "metadata": {},
   "outputs": [],
   "source": []
  },
  {
   "cell_type": "code",
   "execution_count": null,
   "metadata": {},
   "outputs": [],
   "source": []
  },
  {
   "cell_type": "code",
   "execution_count": null,
   "metadata": {},
   "outputs": [],
   "source": []
  },
  {
   "cell_type": "code",
   "execution_count": null,
   "metadata": {},
   "outputs": [],
   "source": []
  },
  {
   "cell_type": "code",
   "execution_count": 2,
   "metadata": {},
   "outputs": [
    {
     "name": "stdout",
     "output_type": "stream",
     "text": [
      "Process complete\n",
      "We found : 64 results\n"
     ]
    }
   ],
   "source": [
    "'''def collect_data(url):\n",
    "    collect_df=pd.DataFrame()\n",
    "    for i in range(4):\n",
    "        url=f'https://www.la-spa.fr/adopter-animaux?field_esp_ce_value=All&page={1+i}'\n",
    "        html = r.get(url).content\n",
    "        append_str = 'https://www.la-spa.fr/adopter-animaux'\n",
    "        soup = bs(html, \"lxml\");\n",
    "\n",
    "        animals=soup.select('div h3 a[href]')\n",
    "        links=[l['href'] for l in animals]\n",
    "        all_links=[append_str + link if link.startswith('/') else link for link in links]\n",
    "\n",
    "        animal_dict = {'all_links': all_links} \n",
    "        df=pd.DataFrame(animal_dict)\n",
    "        collect_df=collect_df.append(df)\n",
    "        time.sleep(3)\n",
    "\n",
    "    print('Process complete')\n",
    "    print('We found :',len(collect_df),'results')\n",
    "    return collect_df\n",
    "df=collect_data('https://spa-notifadoption.herokuapp.com/refuges')'''"
   ]
  },
  {
   "cell_type": "code",
   "execution_count": null,
   "metadata": {},
   "outputs": [],
   "source": []
  }
 ],
 "metadata": {
  "kernelspec": {
   "display_name": "Python 3",
   "language": "python",
   "name": "python3"
  },
  "language_info": {
   "codemirror_mode": {
    "name": "ipython",
    "version": 3
   },
   "file_extension": ".py",
   "mimetype": "text/x-python",
   "name": "python",
   "nbconvert_exporter": "python",
   "pygments_lexer": "ipython3",
   "version": "3.7.6"
  }
 },
 "nbformat": 4,
 "nbformat_minor": 4
}
