{
 "cells": [
  {
   "cell_type": "markdown",
   "metadata": {},
   "source": [
    "# Intrduction to NumPy\n",
    "\n",
    "\n",
    "#### 1. Import NumPy under the name np."
   ]
  },
  {
   "cell_type": "code",
   "execution_count": 1,
   "metadata": {},
   "outputs": [],
   "source": [
    "# your code here\n",
    "import numpy as np"
   ]
  },
  {
   "cell_type": "markdown",
   "metadata": {},
   "source": [
    "#### 2. Print your NumPy version."
   ]
  },
  {
   "cell_type": "code",
   "execution_count": 2,
   "metadata": {},
   "outputs": [
    {
     "data": {
      "text/plain": [
       "'1.18.1'"
      ]
     },
     "execution_count": 2,
     "metadata": {},
     "output_type": "execute_result"
    }
   ],
   "source": [
    "# your code here\n",
    "np.version.version"
   ]
  },
  {
   "cell_type": "markdown",
   "metadata": {},
   "source": [
    "#### 3. Generate a 2x3x5 3-dimensional array with random values. Assign the array to variable *a*.\n",
    "**Challenge**: there are at least three easy ways that use numpy to generate random arrays. How many ways can you find?"
   ]
  },
  {
   "cell_type": "code",
   "execution_count": 3,
   "metadata": {},
   "outputs": [],
   "source": [
    "# Method 1\n",
    "a=np.random.random((2,3,5))"
   ]
  },
  {
   "cell_type": "code",
   "execution_count": 4,
   "metadata": {},
   "outputs": [],
   "source": [
    "# Method 2\n",
    "aa=np.random.rand(2,3,5)"
   ]
  },
  {
   "cell_type": "code",
   "execution_count": 5,
   "metadata": {},
   "outputs": [],
   "source": [
    "# Method 3\n",
    "aaa=np.random.rand(2,3,5)"
   ]
  },
  {
   "cell_type": "markdown",
   "metadata": {},
   "source": [
    "#### 4. Print *a*.\n"
   ]
  },
  {
   "cell_type": "code",
   "execution_count": 6,
   "metadata": {},
   "outputs": [
    {
     "data": {
      "text/plain": [
       "array([[[0.67304835, 0.17786668, 0.40990207, 0.23915362, 0.2587613 ],\n",
       "        [0.24212329, 0.34976004, 0.88854101, 0.04474321, 0.14634701],\n",
       "        [0.49475594, 0.3070271 , 0.65199489, 0.08898928, 0.87303989]],\n",
       "\n",
       "       [[0.5720453 , 0.65220765, 0.72775968, 0.65023635, 0.17256509],\n",
       "        [0.18554337, 0.9635527 , 0.27100101, 0.60646802, 0.54303221],\n",
       "        [0.30888484, 0.08609858, 0.13244161, 0.74336932, 0.06516145]]])"
      ]
     },
     "execution_count": 6,
     "metadata": {},
     "output_type": "execute_result"
    }
   ],
   "source": [
    "# your code here\n",
    "a"
   ]
  },
  {
   "cell_type": "markdown",
   "metadata": {},
   "source": [
    "#### 5. Create a 5x2x3 3-dimensional array with all values equaling 1. Assign the array to variable *b*."
   ]
  },
  {
   "cell_type": "code",
   "execution_count": 7,
   "metadata": {},
   "outputs": [],
   "source": [
    "# your code here\n",
    "#b=np.ones((5,2,3))\n",
    "b=np.full((5,2,3),1)"
   ]
  },
  {
   "cell_type": "markdown",
   "metadata": {},
   "source": [
    "#### 6. Print *b*.\n"
   ]
  },
  {
   "cell_type": "code",
   "execution_count": 8,
   "metadata": {},
   "outputs": [
    {
     "data": {
      "text/plain": [
       "array([[[1, 1, 1],\n",
       "        [1, 1, 1]],\n",
       "\n",
       "       [[1, 1, 1],\n",
       "        [1, 1, 1]],\n",
       "\n",
       "       [[1, 1, 1],\n",
       "        [1, 1, 1]],\n",
       "\n",
       "       [[1, 1, 1],\n",
       "        [1, 1, 1]],\n",
       "\n",
       "       [[1, 1, 1],\n",
       "        [1, 1, 1]]])"
      ]
     },
     "execution_count": 8,
     "metadata": {},
     "output_type": "execute_result"
    }
   ],
   "source": [
    "# your code here\n",
    "b"
   ]
  },
  {
   "cell_type": "markdown",
   "metadata": {},
   "source": [
    "#### 7. Do *a* and *b* have the same size? How do you prove that in Python code?"
   ]
  },
  {
   "cell_type": "code",
   "execution_count": 9,
   "metadata": {},
   "outputs": [
    {
     "name": "stdout",
     "output_type": "stream",
     "text": [
      "True\n",
      "size of a is : 30 and size of b is: 30\n"
     ]
    }
   ],
   "source": [
    "# your code here\n",
    "print(a.size==b.size)\n",
    "print('size of a is :',a.size,'and size of b is:',b.size)"
   ]
  },
  {
   "cell_type": "markdown",
   "metadata": {},
   "source": [
    "#### 8. Are you able to add *a* and *b*? Why or why not?\n"
   ]
  },
  {
   "cell_type": "code",
   "execution_count": 10,
   "metadata": {},
   "outputs": [
    {
     "name": "stdout",
     "output_type": "stream",
     "text": [
      "False\n",
      "shape of a is : (2, 3, 5) and shape of b is: (5, 2, 3)\n",
      "they can not be add\n"
     ]
    }
   ],
   "source": [
    "# your answer here\n",
    "print(a.shape==b.shape)\n",
    "print('shape of a is :',a.shape,'and shape of b is:',b.shape)\n",
    "print('they can not be add')"
   ]
  },
  {
   "cell_type": "code",
   "execution_count": 11,
   "metadata": {},
   "outputs": [
    {
     "ename": "ValueError",
     "evalue": "operands could not be broadcast together with shapes (2,3,5) (5,2,3) ",
     "output_type": "error",
     "traceback": [
      "\u001b[0;31m---------------------------------------------------------------------------\u001b[0m",
      "\u001b[0;31mValueError\u001b[0m                                Traceback (most recent call last)",
      "\u001b[0;32m<ipython-input-11-d5ce9f282037>\u001b[0m in \u001b[0;36m<module>\u001b[0;34m\u001b[0m\n\u001b[0;32m----> 1\u001b[0;31m \u001b[0mnp\u001b[0m\u001b[0;34m.\u001b[0m\u001b[0madd\u001b[0m\u001b[0;34m(\u001b[0m\u001b[0ma\u001b[0m\u001b[0;34m,\u001b[0m\u001b[0mb\u001b[0m\u001b[0;34m)\u001b[0m\u001b[0;34m\u001b[0m\u001b[0;34m\u001b[0m\u001b[0m\n\u001b[0m",
      "\u001b[0;31mValueError\u001b[0m: operands could not be broadcast together with shapes (2,3,5) (5,2,3) "
     ]
    }
   ],
   "source": [
    "np.add(a,b)"
   ]
  },
  {
   "cell_type": "markdown",
   "metadata": {},
   "source": [
    "#### 9. Transpose *b* so that it has the same structure of *a* (i.e. become a 2x3x5 array). Assign the transposed array to variable *c*."
   ]
  },
  {
   "cell_type": "code",
   "execution_count": 12,
   "metadata": {},
   "outputs": [
    {
     "data": {
      "text/plain": [
       "array([[[1, 1, 1, 1, 1],\n",
       "        [1, 1, 1, 1, 1],\n",
       "        [1, 1, 1, 1, 1]],\n",
       "\n",
       "       [[1, 1, 1, 1, 1],\n",
       "        [1, 1, 1, 1, 1],\n",
       "        [1, 1, 1, 1, 1]]])"
      ]
     },
     "execution_count": 12,
     "metadata": {},
     "output_type": "execute_result"
    }
   ],
   "source": [
    "# your code here\n",
    "c = np.transpose(b, (1, 2, 0))\n",
    "c.shape\n",
    "c"
   ]
  },
  {
   "cell_type": "markdown",
   "metadata": {},
   "source": [
    "#### 10. Try to add *a* and *c*. Now it should work. Assign the sum to variable *d*. But why does it work now?"
   ]
  },
  {
   "cell_type": "code",
   "execution_count": 13,
   "metadata": {},
   "outputs": [
    {
     "name": "stdout",
     "output_type": "stream",
     "text": [
      "It works now cause the 2 arrays have the same shape\n"
     ]
    }
   ],
   "source": [
    "# your code/answer here\n",
    "d=np.add(a,c)\n",
    "print('It works now cause the 2 arrays have the same shape')"
   ]
  },
  {
   "cell_type": "markdown",
   "metadata": {},
   "source": [
    "#### 11. Print *a* and *d*. Notice the difference and relation of the two array in terms of the values? Explain."
   ]
  },
  {
   "cell_type": "code",
   "execution_count": 14,
   "metadata": {},
   "outputs": [
    {
     "name": "stdout",
     "output_type": "stream",
     "text": [
      "A\n",
      "[[[0.67304835 0.17786668 0.40990207 0.23915362 0.2587613 ]\n",
      "  [0.24212329 0.34976004 0.88854101 0.04474321 0.14634701]\n",
      "  [0.49475594 0.3070271  0.65199489 0.08898928 0.87303989]]\n",
      "\n",
      " [[0.5720453  0.65220765 0.72775968 0.65023635 0.17256509]\n",
      "  [0.18554337 0.9635527  0.27100101 0.60646802 0.54303221]\n",
      "  [0.30888484 0.08609858 0.13244161 0.74336932 0.06516145]]]\n",
      "D\n",
      "[[[1.67304835 1.17786668 1.40990207 1.23915362 1.2587613 ]\n",
      "  [1.24212329 1.34976004 1.88854101 1.04474321 1.14634701]\n",
      "  [1.49475594 1.3070271  1.65199489 1.08898928 1.87303989]]\n",
      "\n",
      " [[1.5720453  1.65220765 1.72775968 1.65023635 1.17256509]\n",
      "  [1.18554337 1.9635527  1.27100101 1.60646802 1.54303221]\n",
      "  [1.30888484 1.08609858 1.13244161 1.74336932 1.06516145]]]\n"
     ]
    }
   ],
   "source": [
    "# your code/answer here\n",
    "print('A')\n",
    "print(a)\n",
    "print('D')\n",
    "print(d)"
   ]
  },
  {
   "cell_type": "raw",
   "metadata": {},
   "source": [
    "#all the value d are value of a +1"
   ]
  },
  {
   "cell_type": "markdown",
   "metadata": {},
   "source": [
    "#### 12. Multiply *a* and *c*. Assign the result to *e*."
   ]
  },
  {
   "cell_type": "code",
   "execution_count": 15,
   "metadata": {},
   "outputs": [
    {
     "data": {
      "text/plain": [
       "array([[[0.67304835, 0.17786668, 0.40990207, 0.23915362, 0.2587613 ],\n",
       "        [0.24212329, 0.34976004, 0.88854101, 0.04474321, 0.14634701],\n",
       "        [0.49475594, 0.3070271 , 0.65199489, 0.08898928, 0.87303989]],\n",
       "\n",
       "       [[0.5720453 , 0.65220765, 0.72775968, 0.65023635, 0.17256509],\n",
       "        [0.18554337, 0.9635527 , 0.27100101, 0.60646802, 0.54303221],\n",
       "        [0.30888484, 0.08609858, 0.13244161, 0.74336932, 0.06516145]]])"
      ]
     },
     "execution_count": 15,
     "metadata": {},
     "output_type": "execute_result"
    }
   ],
   "source": [
    "# your code here\n",
    "e=np.multiply(a,c)\n",
    "e"
   ]
  },
  {
   "cell_type": "markdown",
   "metadata": {},
   "source": [
    "#### 13. Does *e* equal to *a*? Why or why not?\n"
   ]
  },
  {
   "cell_type": "code",
   "execution_count": 16,
   "metadata": {},
   "outputs": [
    {
     "name": "stdout",
     "output_type": "stream",
     "text": [
      "[[[ True  True  True  True  True]\n",
      "  [ True  True  True  True  True]\n",
      "  [ True  True  True  True  True]]\n",
      "\n",
      " [[ True  True  True  True  True]\n",
      "  [ True  True  True  True  True]\n",
      "  [ True  True  True  True  True]]]\n",
      "Yes a is equal to e\n"
     ]
    }
   ],
   "source": [
    "# your code/answer here\n",
    "print(a==e)\n",
    "print('Yes a is equal to e')"
   ]
  },
  {
   "cell_type": "markdown",
   "metadata": {},
   "source": [
    "#### 14. Identify the max, min, and mean values in *d*. Assign those values to variables *d_max*, *d_min* and *d_mean*."
   ]
  },
  {
   "cell_type": "code",
   "execution_count": 17,
   "metadata": {},
   "outputs": [
    {
     "name": "stdout",
     "output_type": "stream",
     "text": [
      "d_max = 1.963552697213898\n",
      "d_min = 1.0447432140476538\n",
      "d_mean = 1.4175473614994645\n"
     ]
    }
   ],
   "source": [
    "# your code here\n",
    "d_max =np.max(d)\n",
    "d_min =np.min(d)\n",
    "d_mean =np.mean(d)\n",
    "print('d_max =',d_max)\n",
    "print('d_min =',d_min)\n",
    "print('d_mean =',d_mean)"
   ]
  },
  {
   "cell_type": "markdown",
   "metadata": {},
   "source": [
    "#### 15. Now we want to label the values in *d*. First create an empty array *f* with the same shape (i.e. 2x3x5) as *d* using `np.empty`.\n"
   ]
  },
  {
   "cell_type": "code",
   "execution_count": 18,
   "metadata": {},
   "outputs": [],
   "source": [
    "# your code here\n",
    "f=np.empty((2,3,5))"
   ]
  },
  {
   "cell_type": "markdown",
   "metadata": {},
   "source": [
    "#### 16. Populate the values in *f*. \n",
    "\n",
    "For each value in *d*, if it's larger than *d_min* but smaller than *d_mean*, assign 25 to the corresponding value in *f*. If a value in *d* is larger than *d_mean* but smaller than *d_max*, assign 75 to the corresponding value in *f*. If a value equals to *d_mean*, assign 50 to the corresponding value in *f*. Assign 0 to the corresponding value(s) in *f* for *d_min* in *d*. Assign 100 to the corresponding value(s) in *f* for *d_max* in *d*. In the end, f should have only the following values: 0, 25, 50, 75, and 100.\n",
    "\n",
    "**Note**: you don't have to use Numpy in this question."
   ]
  },
  {
   "cell_type": "code",
   "execution_count": 19,
   "metadata": {},
   "outputs": [],
   "source": [
    "# your code here\n",
    "it = np.nditer(d, flags=['multi_index'])\n",
    "while not it.finished:\n",
    "    if it[0] == d_min:\n",
    "        f[it.multi_index] = 0\n",
    "    elif it[0] > d_min and it[0] < d_mean:\n",
    "        f[it.multi_index] = 25\n",
    "    elif it[0] == d_mean:\n",
    "        f[it.multi_index] = 50\n",
    "    elif it[0] > d_mean and it[0] < d_max:\n",
    "        f[it.multi_index] = 75\n",
    "    else:\n",
    "        f[it.multi_index] = 100\n",
    "    it.iternext()"
   ]
  },
  {
   "cell_type": "code",
   "execution_count": 20,
   "metadata": {},
   "outputs": [
    {
     "data": {
      "text/plain": [
       "\"it = np.nditer(d, flags=['multi_index'])\\nwhile not it.finished:\\n    f[it.multi_index]= 0 if it[0]==d_min else 25 if it[0]<d_mean else 50 if it[0]==d_mean else 75 if it[0]<d_max else 100\\n    it.iternext\""
      ]
     },
     "execution_count": 20,
     "metadata": {},
     "output_type": "execute_result"
    }
   ],
   "source": [
    "#other solution\n",
    "'''it = np.nditer(d, flags=['multi_index'])\n",
    "while not it.finished:\n",
    "    f[it.multi_index]= 0 if it[0]==d_min else 25 if it[0]<d_mean else 50 if it[0]==d_mean else 75 if it[0]<d_max else 100\n",
    "    it.iternext'''"
   ]
  },
  {
   "cell_type": "markdown",
   "metadata": {},
   "source": [
    "#### 17. Print *d* and *f*. Do you have your expected *f*?\n",
    "For instance, if your *d* is:\n",
    "```python\n",
    "[[[1.85836099, 1.67064465, 1.62576044, 1.40243961, 1.88454931],\n",
    "[1.75354326, 1.69403643, 1.36729252, 1.61415071, 1.12104981],\n",
    "[1.72201435, 1.1862918 , 1.87078449, 1.7726778 , 1.88180042]],\n",
    "[[1.44747908, 1.31673383, 1.02000951, 1.52218947, 1.97066381],\n",
    "[1.79129243, 1.74983003, 1.96028037, 1.85166831, 1.65450881],\n",
    "[1.18068344, 1.9587381 , 1.00656599, 1.93402165, 1.73514584]]]\n",
    "```\n",
    "Your *f* should be:\n",
    "```python\n",
    "[[[ 75.,  75.,  75.,  25.,  75.],\n",
    "[ 75.,  75.,  25.,  25.,  25.],\n",
    "[ 75.,  25.,  75.,  75.,  75.]],\n",
    "[[ 25.,  25.,  25.,  25., 100.],\n",
    "[ 75.,  75.,  75.,  75.,  75.],\n",
    "[ 25.,  75.,   0.,  75.,  75.]]]\n",
    "```"
   ]
  },
  {
   "cell_type": "code",
   "execution_count": 21,
   "metadata": {},
   "outputs": [
    {
     "name": "stdout",
     "output_type": "stream",
     "text": [
      "D\n",
      "[[[1.67304835 1.17786668 1.40990207 1.23915362 1.2587613 ]\n",
      "  [1.24212329 1.34976004 1.88854101 1.04474321 1.14634701]\n",
      "  [1.49475594 1.3070271  1.65199489 1.08898928 1.87303989]]\n",
      "\n",
      " [[1.5720453  1.65220765 1.72775968 1.65023635 1.17256509]\n",
      "  [1.18554337 1.9635527  1.27100101 1.60646802 1.54303221]\n",
      "  [1.30888484 1.08609858 1.13244161 1.74336932 1.06516145]]]\n",
      "F\n",
      "[[[ 75.  25.  25.  25.  25.]\n",
      "  [ 25.  25.  75.   0.  25.]\n",
      "  [ 75.  25.  75.  25.  75.]]\n",
      "\n",
      " [[ 75.  75.  75.  75.  25.]\n",
      "  [ 25. 100.  25.  75.  75.]\n",
      "  [ 25.  25.  25.  75.  25.]]]\n"
     ]
    }
   ],
   "source": [
    "# your code here\n",
    "print('D')\n",
    "print(d)\n",
    "print('F')\n",
    "print(f)"
   ]
  },
  {
   "cell_type": "markdown",
   "metadata": {},
   "source": [
    "#### 18. Bonus question: instead of using numbers (i.e. 0, 25, 50, 75, and 100), use string values  (\"A\", \"B\", \"C\", \"D\", and \"E\") to label the array elements. For the example above, the expected result is:\n",
    "\n",
    "```python\n",
    "[[[ 'D',  'D',  'D',  'B',  'D'],\n",
    "[ 'D',  'D',  'B',  'B',  'B'],\n",
    "[ 'D',  'B',  'D',  'D',  'D']],\n",
    "[[ 'B',  'B',  'B',  'B',  'E'],\n",
    "[ 'D',  'D',  'D',  'D',  'D'],\n",
    "[ 'B',  'D',   'A',  'D', 'D']]]\n",
    "```\n",
    "**Note**: you don't have to use Numpy in this question."
   ]
  },
  {
   "cell_type": "code",
   "execution_count": 22,
   "metadata": {},
   "outputs": [],
   "source": [
    "# your code here\n",
    "g=np.empty((2,3,5),dtype=str)\n",
    "it = np.nditer(d, flags=['multi_index'])\n",
    "while not it.finished:\n",
    "    g[it.multi_index]= \"A\" if it[0]==d_min else \"B\" if it[0]<d_mean else \"C\" if it[0]==d_mean else \"D\" if it[0]<d_max else \"E\"\n",
    "    it.iternext()\n",
    "    \n",
    "#it = np.nditer(d, flags=['multi_index'])\n",
    "#while not it.finished:\n",
    "#    if it[0] == d_min:\n",
    "#        g[it.multi_index] = \"A\";\n",
    "#    elif it[0] > d_min and it[0] < d_mean:\n",
    "#        g[it.multi_index] = \"B\"\n",
    "#    elif it[0] == d_mean:\n",
    "#        g[it.multi_index] = \"C\";\n",
    "#    elif it[0] > d_mean and it[0] < d_max:\n",
    "#        g[it.multi_index] = \"D\"\n",
    "#    else:\n",
    "#        g[it.multi_index] = \"E\"\n",
    "#    it.iternext()"
   ]
  },
  {
   "cell_type": "code",
   "execution_count": 23,
   "metadata": {},
   "outputs": [
    {
     "name": "stdout",
     "output_type": "stream",
     "text": [
      "G\n",
      "[[['D' 'B' 'B' 'B' 'B']\n",
      "  ['B' 'B' 'D' 'A' 'B']\n",
      "  ['D' 'B' 'D' 'B' 'D']]\n",
      "\n",
      " [['D' 'D' 'D' 'D' 'B']\n",
      "  ['B' 'E' 'B' 'D' 'D']\n",
      "  ['B' 'B' 'B' 'D' 'B']]]\n"
     ]
    }
   ],
   "source": [
    "print('G')\n",
    "print(g)"
   ]
  },
  {
   "cell_type": "code",
   "execution_count": 24,
   "metadata": {},
   "outputs": [
    {
     "data": {
      "text/plain": [
       "array([[['D', 'B', 'B', 'B', 'B'],\n",
       "        ['B', 'B', 'D', 'A', 'B'],\n",
       "        ['D', 'B', 'D', 'B', 'D']],\n",
       "\n",
       "       [['D', 'D', 'D', 'D', 'B'],\n",
       "        ['B', 'E', 'B', 'D', 'D'],\n",
       "        ['B', 'B', 'B', 'D', 'B']]], dtype='<U1')"
      ]
     },
     "execution_count": 24,
     "metadata": {},
     "output_type": "execute_result"
    }
   ],
   "source": [
    "g"
   ]
  },
  {
   "cell_type": "code",
   "execution_count": null,
   "metadata": {},
   "outputs": [],
   "source": []
  }
 ],
 "metadata": {
  "kernelspec": {
   "display_name": "Python 3",
   "language": "python",
   "name": "python3"
  },
  "language_info": {
   "codemirror_mode": {
    "name": "ipython",
    "version": 3
   },
   "file_extension": ".py",
   "mimetype": "text/x-python",
   "name": "python",
   "nbconvert_exporter": "python",
   "pygments_lexer": "ipython3",
   "version": "3.7.6"
  }
 },
 "nbformat": 4,
 "nbformat_minor": 2
}
