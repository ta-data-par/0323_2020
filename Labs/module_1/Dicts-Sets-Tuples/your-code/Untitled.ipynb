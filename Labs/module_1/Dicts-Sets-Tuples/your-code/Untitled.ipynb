{
 "cells": [
  {
   "cell_type": "code",
   "execution_count": 15,
   "metadata": {},
   "outputs": [],
   "source": [
    "encrypted_text=\"\"\"GFS WMY OG LGDVS MF SFNKYHOSU ESLLMRS, PC WS BFGW POL DMFRQMRS, PL OG CPFU M UPCCSKSFO HDMPFOSXO GC OIS LMES DMFRQMRS DGFR SFGQRI OG CPDD GFS LISSO GK LG, MFU OISF WS NGQFO OIS GNNQKKSFNSL GC SMNI DSOOSK. WS NMDD OIS EGLO CKSJQSFODY GNNQKKPFR DSOOSK OIS 'CPKLO', OIS FSXO EGLO GNNQKKPFR DSOOSK OIS 'LSNGFU' OIS CGDDGWPFR EGLO GNNQKKPFR DSOOSK OIS 'OIPKU', MFU LG GF, QFOPD WS MNNGQFO CGK MDD OIS UPCCSKSFO DSOOSKL PF OIS HDMPFOSXO LMEHDS. OISF WS DGGB MO OIS NPHISK OSXO WS WMFO OG LGDVS MFU WS MDLG NDMLLPCY POL LYEAGDL. WS CPFU OIS EGLO GNNQKKPFR LYEAGD MFU NIMFRS PO OG OIS CGKE GC OIS 'CPKLO' DSOOSK GC OIS HDMPFOSXO LMEHDS, OIS FSXO EGLO NGEEGF LYEAGD PL NIMFRSU OG OIS CGKE GC OIS 'LSNGFU' DSOOSK, MFU OIS CGDDGWPFR EGLO NGEEGF LYEAGD PL NIMFRSU OG OIS CGKE GC OIS 'OIPKU' DSOOSK, MFU LG GF, QFOPD WS MNNGQFO CGK MDD LYEAGDL GC OIS NKYHOGRKME WS WMFO OG LGDVS.\"\"\""
   ]
  },
  {
   "cell_type": "code",
   "execution_count": 16,
   "metadata": {},
   "outputs": [
    {
     "data": {
      "text/plain": [
       "\"GFS WMY OG LGDVS MF SFNKYHOSU ESLLMRS, PC WS BFGW POL DMFRQMRS, PL OG CPFU M UPCCSKSFO HDMPFOSXO GC OIS LMES DMFRQMRS DGFR SFGQRI OG CPDD GFS LISSO GK LG, MFU OISF WS NGQFO OIS GNNQKKSFNSL GC SMNI DSOOSK. WS NMDD OIS EGLO CKSJQSFODY GNNQKKPFR DSOOSK OIS 'CPKLO', OIS FSXO EGLO GNNQKKPFR DSOOSK OIS 'LSNGFU' OIS CGDDGWPFR EGLO GNNQKKPFR DSOOSK OIS 'OIPKU', MFU LG GF, QFOPD WS MNNGQFO CGK MDD OIS UPCCSKSFO DSOOSKL PF OIS HDMPFOSXO LMEHDS. OISF WS DGGB MO OIS NPHISK OSXO WS WMFO OG LGDVS MFU WS MDLG NDMLLPCY POL LYEAGDL. WS CPFU OIS EGLO GNNQKKPFR LYEAGD MFU NIMFRS PO OG OIS CGKE GC OIS 'CPKLO' DSOOSK GC OIS HDMPFOSXO LMEHDS, OIS FSXO EGLO NGEEGF LYEAGD PL NIMFRSU OG OIS CGKE GC OIS 'LSNGFU' DSOOSK, MFU OIS CGDDGWPFR EGLO NGEEGF LYEAGD PL NIMFRSU OG OIS CGKE GC OIS 'OIPKU' DSOOSK, MFU LG GF, QFOPD WS MNNGQFO CGK MDD LYEAGDL GC OIS NKYHOGRKME WS WMFO OG LGDVS.\""
      ]
     },
     "execution_count": 16,
     "metadata": {},
     "output_type": "execute_result"
    }
   ],
   "source": [
    "encrypted_text"
   ]
  },
  {
   "cell_type": "code",
   "execution_count": 17,
   "metadata": {},
   "outputs": [
    {
     "data": {
      "text/plain": [
       "{'H': 8,\n",
       " 'Q': 14,\n",
       " 'A': 5,\n",
       " 'G': 67,\n",
       " 'B': 2,\n",
       " 'V': 3,\n",
       " 'J': 1,\n",
       " 'O': 85,\n",
       " 'D': 42,\n",
       " 'W': 16,\n",
       " 'L': 39,\n",
       " 'X': 6,\n",
       " 'C': 26,\n",
       " '.': 4,\n",
       " ',': 10,\n",
       " 'M': 35,\n",
       " \"'\": 12,\n",
       " 'Y': 10,\n",
       " 'N': 29,\n",
       " 'S': 88,\n",
       " ' ': 158,\n",
       " 'F': 51,\n",
       " 'I': 33,\n",
       " 'K': 35,\n",
       " 'E': 23,\n",
       " 'U': 17,\n",
       " 'R': 17,\n",
       " 'P': 30}"
      ]
     },
     "execution_count": 17,
     "metadata": {},
     "output_type": "execute_result"
    }
   ],
   "source": [
    "{i :encrypted_text.count(i) for i in set(encrypted_text)}"
   ]
  },
  {
   "cell_type": "code",
   "execution_count": 18,
   "metadata": {},
   "outputs": [],
   "source": [
    "freq_dict={i :encrypted_text.count(i) for i in set(encrypted_text)}"
   ]
  },
  {
   "cell_type": "code",
   "execution_count": 19,
   "metadata": {},
   "outputs": [
    {
     "data": {
      "text/plain": [
       "{' ': 158,\n",
       " 'S': 88,\n",
       " 'O': 85,\n",
       " 'G': 67,\n",
       " 'F': 51,\n",
       " 'D': 42,\n",
       " 'L': 39,\n",
       " 'M': 35,\n",
       " 'K': 35,\n",
       " 'I': 33,\n",
       " 'P': 30,\n",
       " 'N': 29,\n",
       " 'C': 26,\n",
       " 'E': 23,\n",
       " 'U': 17,\n",
       " 'R': 17,\n",
       " 'W': 16,\n",
       " 'Q': 14,\n",
       " \"'\": 12,\n",
       " ',': 10,\n",
       " 'Y': 10,\n",
       " 'H': 8,\n",
       " 'X': 6,\n",
       " 'A': 5,\n",
       " '.': 4,\n",
       " 'V': 3,\n",
       " 'B': 2,\n",
       " 'J': 1}"
      ]
     },
     "execution_count": 19,
     "metadata": {},
     "output_type": "execute_result"
    }
   ],
   "source": [
    "import operator\n",
    "dict(sorted(freq_dict.items(),key=operator.itemgetter(1),reverse=True))"
   ]
  },
  {
   "cell_type": "code",
   "execution_count": null,
   "metadata": {},
   "outputs": [],
   "source": [
    "S. -> e"
   ]
  },
  {
   "cell_type": "code",
   "execution_count": 12,
   "metadata": {},
   "outputs": [],
   "source": [
    "encrypted_text=encrypted_text.replace('S','e')"
   ]
  },
  {
   "cell_type": "code",
   "execution_count": 13,
   "metadata": {},
   "outputs": [
    {
     "data": {
      "text/plain": [
       "\"Fe WMY OG LGDVe MF eFNKYHOeU EeLLMRe, PC We BFGW POL DMFRQMRe, PL OG CPFU M UPCCeKeFO HDMPFOeXO GC OIe LMEe DMFRQMRe DGFR eFGQRI OG CPDD GFe LIeeO GK LG, MFU OIeF We NGQFO OIe GNNQKKeFNeL GC eMNI DeOOeK. We NMDD OIe EGLO CKeJQeFODY GNNQKKPFR DeOOeK OIe 'CPKLO', OIe FeXO EGLO GNNQKKPFR DeOOeK OIe 'LeNGFU' OIe CGDDGWPFR EGLO GNNQKKPFR DeOOeK OIe 'OIPKU', MFU LG GF, QFOPD We MNNGQFO CGK MDD OIe UPCCeKeFO DeOOeKL PF OIe HDMPFOeXO LMEHDe. OIeF We DGGB MO OIe NPHIeK OeXO We WMFO OG LGDVe MFU We MDLG NDMLLPCY POL LYEAGDL. We CPFU OIe EGLO GNNQKKPFR LYEAGD MFU NIMFRe PO OG OIe CGKE GC OIe 'CPKLO' DeOOeK GC OIe HDMPFOeXO LMEHDe, OIe FeXO EGLO NGEEGF LYEAGD PL NIMFReU OG OIe CGKE GC OIe 'LeNGFU' DeOOeK, MFU OIe CGDDGWPFR EGLO NGEEGF LYEAGD PL NIMFReU OG OIe CGKE GC OIe 'OIPKU' DeOOeK, MFU LG GF, QFOPD We MNNGQFO CGK MDD LYEAGDL GC OIe NKYHOGRKME We WMFO OG LGDVe.\""
      ]
     },
     "execution_count": 13,
     "metadata": {},
     "output_type": "execute_result"
    }
   ],
   "source": [
    "encrypted_text"
   ]
  },
  {
   "cell_type": "code",
   "execution_count": 21,
   "metadata": {},
   "outputs": [],
   "source": []
  },
  {
   "cell_type": "code",
   "execution_count": null,
   "metadata": {},
   "outputs": [],
   "source": []
  },
  {
   "cell_type": "code",
   "execution_count": 20,
   "metadata": {},
   "outputs": [
    {
     "name": "stdout",
     "output_type": "stream",
     "text": [
      "Object `re.search` not found.\n"
     ]
    }
   ],
   "source": []
  },
  {
   "cell_type": "code",
   "execution_count": null,
   "metadata": {},
   "outputs": [],
   "source": []
  },
  {
   "cell_type": "code",
   "execution_count": null,
   "metadata": {},
   "outputs": [],
   "source": []
  },
  {
   "cell_type": "code",
   "execution_count": 33,
   "metadata": {},
   "outputs": [
    {
     "name": "stdout",
     "output_type": "stream",
     "text": [
      "[([1, 2, 'a', 'b'], [1, 2])]\n"
     ]
    },
    {
     "data": {
      "text/plain": [
       "[1, 2, 'a', 'b', 1, 2]"
      ]
     },
     "execution_count": 33,
     "metadata": {},
     "output_type": "execute_result"
    }
   ],
   "source": [
    "list=[1,2,'a','b'],[1,2]\n",
    "new_list = [list]\n",
    "print(new_list)\n",
    "nl = [x for i in list for x in i]\n",
    "nl"
   ]
  },
  {
   "cell_type": "code",
   "execution_count": 36,
   "metadata": {},
   "outputs": [
    {
     "ename": "SyntaxError",
     "evalue": "invalid syntax (<ipython-input-36-63a1288bdb2f>, line 4)",
     "output_type": "error",
     "traceback": [
      "\u001b[0;36m  File \u001b[0;32m\"<ipython-input-36-63a1288bdb2f>\"\u001b[0;36m, line \u001b[0;32m4\u001b[0m\n\u001b[0;31m    if i.isdigit(i) = True\u001b[0m\n\u001b[0m                    ^\u001b[0m\n\u001b[0;31mSyntaxError\u001b[0m\u001b[0;31m:\u001b[0m invalid syntax\n"
     ]
    }
   ],
   "source": [
    "nl2 = []\n",
    "\n",
    "for i in nl:\n",
    "    if i.isdigit(i) == True\n",
    "        i.append(nl2)\n",
    "print(nl2)"
   ]
  },
  {
   "cell_type": "code",
   "execution_count": null,
   "metadata": {},
   "outputs": [],
   "source": []
  },
  {
   "cell_type": "code",
   "execution_count": null,
   "metadata": {},
   "outputs": [],
   "source": []
  },
  {
   "cell_type": "code",
   "execution_count": null,
   "metadata": {},
   "outputs": [],
   "source": []
  },
  {
   "cell_type": "code",
   "execution_count": 52,
   "metadata": {},
   "outputs": [],
   "source": [
    "def getCount(inputStr):\n",
    "    num_vowels = 0\n",
    "    \n",
    "    for i in inputStr:\n",
    "        if i in \"a,e,i,o,u\":\n",
    "           num_vowels = inputStr.count(i)\n",
    "    return num_vowels"
   ]
  },
  {
   "cell_type": "code",
   "execution_count": 53,
   "metadata": {},
   "outputs": [
    {
     "data": {
      "text/plain": [
       "2"
      ]
     },
     "execution_count": 53,
     "metadata": {},
     "output_type": "execute_result"
    }
   ],
   "source": [
    "getCount('Sandeep')"
   ]
  },
  {
   "cell_type": "code",
   "execution_count": 91,
   "metadata": {},
   "outputs": [
    {
     "data": {
      "text/plain": [
       "3"
      ]
     },
     "execution_count": 91,
     "metadata": {},
     "output_type": "execute_result"
    }
   ],
   "source": [
    "def getCount(inputStr):\n",
    "    l = []\n",
    "    for i in inputStr:\n",
    "        if i in \"a,e,i,o,u\":\n",
    "           l.append(i)\n",
    "    return len(l)\n",
    "getCount('mickeal')"
   ]
  },
  {
   "cell_type": "code",
   "execution_count": 123,
   "metadata": {},
   "outputs": [],
   "source": [
    "def to_jaden_case(string):\n",
    "    new_sentence = string.split()\n",
    "    ns = []\n",
    "    for i in new_sentence:\n",
    "            i = i.capitalize()\n",
    "            ns.append(i)\n",
    "            lst = (' ').join(ns)+'.'\n",
    "    \n",
    "    return lst"
   ]
  },
  {
   "cell_type": "code",
   "execution_count": 124,
   "metadata": {},
   "outputs": [
    {
     "data": {
      "text/plain": [
       "'Method Converts The First Character Of A String To Capital.'"
      ]
     },
     "execution_count": 124,
     "metadata": {},
     "output_type": "execute_result"
    }
   ],
   "source": [
    "to_jaden_case('method converts the first character of a string to capital')"
   ]
  },
  {
   "cell_type": "code",
   "execution_count": 97,
   "metadata": {},
   "outputs": [
    {
     "name": "stdout",
     "output_type": "stream",
     "text": [
      "Object `AttributeError: 'str' object has no attribute 'capitalise'` not found.\n"
     ]
    }
   ],
   "source": [
    "\n"
   ]
  },
  {
   "cell_type": "code",
   "execution_count": 190,
   "metadata": {},
   "outputs": [
    {
     "data": {
      "text/plain": [
       "'Method Converts The First Character Of A String To Capital'"
      ]
     },
     "execution_count": 190,
     "metadata": {},
     "output_type": "execute_result"
    }
   ],
   "source": [
    "def to_jaden_case(string):\n",
    "    new_sentence = ' '.join(i.capitalize() for i in string.split())\n",
    "    \n",
    "    return new_sentence\n",
    "\n",
    "to_jaden_case('method converts the first character of a string to capital')"
   ]
  },
  {
   "cell_type": "code",
   "execution_count": 187,
   "metadata": {},
   "outputs": [
    {
     "data": {
      "text/plain": [
       "24"
      ]
     },
     "execution_count": 187,
     "metadata": {},
     "output_type": "execute_result"
    }
   ],
   "source": [
    "def sum_two_smallest_numbers(numbers):\n",
    "    numbers.sort()\n",
    "    if len(numbers) >= 4:\n",
    "            i = sum(numbers[:2])\n",
    "            return (i)\n",
    "            \n",
    "sum_two_smallest_numbers([19, 5, 42, 2, 77])"
   ]
  },
  {
   "cell_type": "code",
   "execution_count": 192,
   "metadata": {},
   "outputs": [
    {
     "data": {
      "text/plain": [
       "str"
      ]
     },
     "execution_count": 192,
     "metadata": {},
     "output_type": "execute_result"
    }
   ],
   "source": [
    "type('ABBY4')"
   ]
  },
  {
   "cell_type": "code",
   "execution_count": null,
   "metadata": {},
   "outputs": [],
   "source": []
  }
 ],
 "metadata": {
  "kernelspec": {
   "display_name": "Python 3",
   "language": "python",
   "name": "python3"
  },
  "language_info": {
   "codemirror_mode": {
    "name": "ipython",
    "version": 3
   },
   "file_extension": ".py",
   "mimetype": "text/x-python",
   "name": "python",
   "nbconvert_exporter": "python",
   "pygments_lexer": "ipython3",
   "version": "3.7.4"
  }
 },
 "nbformat": 4,
 "nbformat_minor": 2
}
