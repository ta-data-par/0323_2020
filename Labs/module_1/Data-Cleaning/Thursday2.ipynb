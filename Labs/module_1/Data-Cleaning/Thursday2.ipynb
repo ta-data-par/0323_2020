{
 "cells": [
  {
   "cell_type": "markdown",
   "metadata": {},
   "source": [
    "# Cleaning\n",
    "* Missing Values\n",
    "    * Detect them by counting them\n",
    "    * Null them**\n",
    "    * Interpolate\n",
    "    * Drop them**\n",
    "* Inconsistant data (logical errors)\n",
    "* Outliers\n",
    "    * Detec using IQR (inter-quartile range), Z-score (normal distribution based approach)\n",
    "    * Drop them\n",
    "    * fix them\n",
    "    * Trancate them (winsorising)\n",
    "    * Leave them as they are\n",
    "* Text error\n",
    "    * Special Characters éèêëēėę\n",
    "    * Numbers that are considered as text\n",
    "    * Empty cgaracters\n",
    "   \n",
    "    * Different notations Ave. des Champs Elysées and Avenue des CHamps Elysées\n",
    "    * Mixed case (upper and lower), punctuation marks (!,'\".:;etc)\n",
    "    * Special solutions - (NLP Natural Language Processing)\n",
    "* Duplicate\n",
    "* Low variance"
   ]
  },
  {
   "cell_type": "code",
   "execution_count": 33,
   "metadata": {},
   "outputs": [],
   "source": [
    "import os\n",
    "import pymysql\n",
    "from sqlalchemy import create_engine\n",
    "import pandas as pd"
   ]
  },
  {
   "cell_type": "code",
   "execution_count": 34,
   "metadata": {},
   "outputs": [],
   "source": [
    "username='root'\n",
    "host='127.0.0.1'\n",
    "password='brooklyn452*'\n",
    "database_name='finance'"
   ]
  },
  {
   "cell_type": "code",
   "execution_count": 35,
   "metadata": {},
   "outputs": [],
   "source": [
    "engine=create_engine(f'mysql+pymysql://{username}:{password}@{host}/{database_name}')"
   ]
  },
  {
   "cell_type": "code",
   "execution_count": 36,
   "metadata": {},
   "outputs": [],
   "source": [
    "df=pd.read_csv('/Users/jidekickpush/Downloads/vehicles/vehicles.csv')"
   ]
  },
  {
   "cell_type": "code",
   "execution_count": 43,
   "metadata": {},
   "outputs": [],
   "source": [
    "null_df=df.isna().sum()"
   ]
  },
  {
   "cell_type": "code",
   "execution_count": 44,
   "metadata": {},
   "outputs": [],
   "source": [
    "null_df=round(null_df[null_df>0]/df.shape[0]*100,2)"
   ]
  },
  {
   "cell_type": "code",
   "execution_count": 45,
   "metadata": {},
   "outputs": [
    {
     "data": {
      "text/plain": [
       "Series([], dtype: float64)"
      ]
     },
     "execution_count": 45,
     "metadata": {},
     "output_type": "execute_result"
    }
   ],
   "source": [
    "null_df"
   ]
  },
  {
   "cell_type": "code",
   "execution_count": 46,
   "metadata": {},
   "outputs": [
    {
     "data": {
      "text/plain": [
       "Series([], dtype: object)"
      ]
     },
     "execution_count": 46,
     "metadata": {},
     "output_type": "execute_result"
    }
   ],
   "source": [
    "df[null_df.index].dtypes"
   ]
  },
  {
   "cell_type": "code",
   "execution_count": 41,
   "metadata": {},
   "outputs": [
    {
     "ename": "KeyError",
     "evalue": "\"None of [Index(['cylinders', 'displ'], dtype='object')] are in the [columns]\"",
     "output_type": "error",
     "traceback": [
      "\u001b[0;31m---------------------------------------------------------------------------\u001b[0m",
      "\u001b[0;31mKeyError\u001b[0m                                  Traceback (most recent call last)",
      "\u001b[0;32m<ipython-input-41-c913f79aff75>\u001b[0m in \u001b[0;36m<module>\u001b[0;34m\u001b[0m\n\u001b[0;32m----> 1\u001b[0;31m \u001b[0mdf\u001b[0m\u001b[0;34m[\u001b[0m\u001b[0;34m[\u001b[0m\u001b[0;34m'cylinders'\u001b[0m\u001b[0;34m,\u001b[0m\u001b[0;34m'displ'\u001b[0m\u001b[0;34m]\u001b[0m\u001b[0;34m]\u001b[0m\u001b[0;34m=\u001b[0m\u001b[0mdf\u001b[0m\u001b[0;34m[\u001b[0m\u001b[0;34m[\u001b[0m\u001b[0;34m'cylinders'\u001b[0m\u001b[0;34m,\u001b[0m\u001b[0;34m'displ'\u001b[0m\u001b[0;34m]\u001b[0m\u001b[0;34m]\u001b[0m\u001b[0;34m.\u001b[0m\u001b[0mfillna\u001b[0m\u001b[0;34m(\u001b[0m\u001b[0;36m0\u001b[0m\u001b[0;34m)\u001b[0m\u001b[0;34m.\u001b[0m\u001b[0mT\u001b[0m\u001b[0;34m\u001b[0m\u001b[0;34m\u001b[0m\u001b[0m\n\u001b[0m",
      "\u001b[0;32m~/opt/anaconda3/lib/python3.7/site-packages/pandas/core/frame.py\u001b[0m in \u001b[0;36m__getitem__\u001b[0;34m(self, key)\u001b[0m\n\u001b[1;32m   2804\u001b[0m             \u001b[0;32mif\u001b[0m \u001b[0mis_iterator\u001b[0m\u001b[0;34m(\u001b[0m\u001b[0mkey\u001b[0m\u001b[0;34m)\u001b[0m\u001b[0;34m:\u001b[0m\u001b[0;34m\u001b[0m\u001b[0;34m\u001b[0m\u001b[0m\n\u001b[1;32m   2805\u001b[0m                 \u001b[0mkey\u001b[0m \u001b[0;34m=\u001b[0m \u001b[0mlist\u001b[0m\u001b[0;34m(\u001b[0m\u001b[0mkey\u001b[0m\u001b[0;34m)\u001b[0m\u001b[0;34m\u001b[0m\u001b[0;34m\u001b[0m\u001b[0m\n\u001b[0;32m-> 2806\u001b[0;31m             \u001b[0mindexer\u001b[0m \u001b[0;34m=\u001b[0m \u001b[0mself\u001b[0m\u001b[0;34m.\u001b[0m\u001b[0mloc\u001b[0m\u001b[0;34m.\u001b[0m\u001b[0m_get_listlike_indexer\u001b[0m\u001b[0;34m(\u001b[0m\u001b[0mkey\u001b[0m\u001b[0;34m,\u001b[0m \u001b[0maxis\u001b[0m\u001b[0;34m=\u001b[0m\u001b[0;36m1\u001b[0m\u001b[0;34m,\u001b[0m \u001b[0mraise_missing\u001b[0m\u001b[0;34m=\u001b[0m\u001b[0;32mTrue\u001b[0m\u001b[0;34m)\u001b[0m\u001b[0;34m[\u001b[0m\u001b[0;36m1\u001b[0m\u001b[0;34m]\u001b[0m\u001b[0;34m\u001b[0m\u001b[0;34m\u001b[0m\u001b[0m\n\u001b[0m\u001b[1;32m   2807\u001b[0m \u001b[0;34m\u001b[0m\u001b[0m\n\u001b[1;32m   2808\u001b[0m         \u001b[0;31m# take() does not accept boolean indexers\u001b[0m\u001b[0;34m\u001b[0m\u001b[0;34m\u001b[0m\u001b[0;34m\u001b[0m\u001b[0m\n",
      "\u001b[0;32m~/opt/anaconda3/lib/python3.7/site-packages/pandas/core/indexing.py\u001b[0m in \u001b[0;36m_get_listlike_indexer\u001b[0;34m(self, key, axis, raise_missing)\u001b[0m\n\u001b[1;32m   1551\u001b[0m \u001b[0;34m\u001b[0m\u001b[0m\n\u001b[1;32m   1552\u001b[0m         self._validate_read_indexer(\n\u001b[0;32m-> 1553\u001b[0;31m             \u001b[0mkeyarr\u001b[0m\u001b[0;34m,\u001b[0m \u001b[0mindexer\u001b[0m\u001b[0;34m,\u001b[0m \u001b[0mo\u001b[0m\u001b[0;34m.\u001b[0m\u001b[0m_get_axis_number\u001b[0m\u001b[0;34m(\u001b[0m\u001b[0maxis\u001b[0m\u001b[0;34m)\u001b[0m\u001b[0;34m,\u001b[0m \u001b[0mraise_missing\u001b[0m\u001b[0;34m=\u001b[0m\u001b[0mraise_missing\u001b[0m\u001b[0;34m\u001b[0m\u001b[0;34m\u001b[0m\u001b[0m\n\u001b[0m\u001b[1;32m   1554\u001b[0m         )\n\u001b[1;32m   1555\u001b[0m         \u001b[0;32mreturn\u001b[0m \u001b[0mkeyarr\u001b[0m\u001b[0;34m,\u001b[0m \u001b[0mindexer\u001b[0m\u001b[0;34m\u001b[0m\u001b[0;34m\u001b[0m\u001b[0m\n",
      "\u001b[0;32m~/opt/anaconda3/lib/python3.7/site-packages/pandas/core/indexing.py\u001b[0m in \u001b[0;36m_validate_read_indexer\u001b[0;34m(self, key, indexer, axis, raise_missing)\u001b[0m\n\u001b[1;32m   1638\u001b[0m             \u001b[0;32mif\u001b[0m \u001b[0mmissing\u001b[0m \u001b[0;34m==\u001b[0m \u001b[0mlen\u001b[0m\u001b[0;34m(\u001b[0m\u001b[0mindexer\u001b[0m\u001b[0;34m)\u001b[0m\u001b[0;34m:\u001b[0m\u001b[0;34m\u001b[0m\u001b[0;34m\u001b[0m\u001b[0m\n\u001b[1;32m   1639\u001b[0m                 \u001b[0maxis_name\u001b[0m \u001b[0;34m=\u001b[0m \u001b[0mself\u001b[0m\u001b[0;34m.\u001b[0m\u001b[0mobj\u001b[0m\u001b[0;34m.\u001b[0m\u001b[0m_get_axis_name\u001b[0m\u001b[0;34m(\u001b[0m\u001b[0maxis\u001b[0m\u001b[0;34m)\u001b[0m\u001b[0;34m\u001b[0m\u001b[0;34m\u001b[0m\u001b[0m\n\u001b[0;32m-> 1640\u001b[0;31m                 \u001b[0;32mraise\u001b[0m \u001b[0mKeyError\u001b[0m\u001b[0;34m(\u001b[0m\u001b[0;34mf\"None of [{key}] are in the [{axis_name}]\"\u001b[0m\u001b[0;34m)\u001b[0m\u001b[0;34m\u001b[0m\u001b[0;34m\u001b[0m\u001b[0m\n\u001b[0m\u001b[1;32m   1641\u001b[0m \u001b[0;34m\u001b[0m\u001b[0m\n\u001b[1;32m   1642\u001b[0m             \u001b[0;31m# We (temporarily) allow for some missing keys with .loc, except in\u001b[0m\u001b[0;34m\u001b[0m\u001b[0;34m\u001b[0m\u001b[0;34m\u001b[0m\u001b[0m\n",
      "\u001b[0;31mKeyError\u001b[0m: \"None of [Index(['cylinders', 'displ'], dtype='object')] are in the [columns]\""
     ]
    }
   ],
   "source": [
    "df[['cylinders','displ']]=df[['cylinders','displ']].fillna(0)"
   ]
  },
  {
   "cell_type": "code",
   "execution_count": null,
   "metadata": {},
   "outputs": [],
   "source": [
    "df.drive=df.drive.fillna(df.drive.mode()[0])"
   ]
  },
  {
   "cell_type": "code",
   "execution_count": null,
   "metadata": {},
   "outputs": [],
   "source": [
    "def fillmode(x):\n",
    "    return x.fillna(x.mode()[0])"
   ]
  },
  {
   "cell_type": "code",
   "execution_count": null,
   "metadata": {},
   "outputs": [],
   "source": [
    "df[['eng_drcr','trany','trans_dscr']].apply(fillmode)"
   ]
  },
  {
   "cell_type": "code",
   "execution_count": null,
   "metadata": {},
   "outputs": [],
   "source": [
    "df.isna().sum().sum()"
   ]
  },
  {
   "cell_type": "markdown",
   "metadata": {},
   "source": [
    "# Inconsistant data"
   ]
  },
  {
   "cell_type": "code",
   "execution_count": null,
   "metadata": {},
   "outputs": [],
   "source": [
    "test=df[(df.cylenders==0)&(df.displ!=0)]\n",
    "test[['year','make','model'','trany,'drive','fueltype','cylinders','displ']]"
   ]
  },
  {
   "cell_type": "code",
   "execution_count": null,
   "metadata": {},
   "outputs": [],
   "source": [
    "df.loc[test.index,'cylenders']=2"
   ]
  },
  {
   "cell_type": "markdown",
   "metadata": {},
   "source": [
    "# Outliers"
   ]
  },
  {
   "cell_type": "code",
   "execution_count": 23,
   "metadata": {},
   "outputs": [
    {
     "data": {
      "text/html": [
       "<div>\n",
       "<style scoped>\n",
       "    .dataframe tbody tr th:only-of-type {\n",
       "        vertical-align: middle;\n",
       "    }\n",
       "\n",
       "    .dataframe tbody tr th {\n",
       "        vertical-align: top;\n",
       "    }\n",
       "\n",
       "    .dataframe thead th {\n",
       "        text-align: right;\n",
       "    }\n",
       "</style>\n",
       "<table border=\"1\" class=\"dataframe\">\n",
       "  <thead>\n",
       "    <tr style=\"text-align: right;\">\n",
       "      <th></th>\n",
       "      <th>count</th>\n",
       "      <th>mean</th>\n",
       "      <th>std</th>\n",
       "      <th>min</th>\n",
       "      <th>25%</th>\n",
       "      <th>50%</th>\n",
       "      <th>75%</th>\n",
       "      <th>max</th>\n",
       "    </tr>\n",
       "  </thead>\n",
       "  <tbody>\n",
       "    <tr>\n",
       "      <th>Year</th>\n",
       "      <td>35952.0</td>\n",
       "      <td>2000.716400</td>\n",
       "      <td>10.085290</td>\n",
       "      <td>1984.00</td>\n",
       "      <td>1991.000000</td>\n",
       "      <td>2001.000000</td>\n",
       "      <td>2010.000000</td>\n",
       "      <td>2017.000000</td>\n",
       "    </tr>\n",
       "    <tr>\n",
       "      <th>Engine Displacement</th>\n",
       "      <td>35952.0</td>\n",
       "      <td>3.338493</td>\n",
       "      <td>1.359395</td>\n",
       "      <td>0.60</td>\n",
       "      <td>2.200000</td>\n",
       "      <td>3.000000</td>\n",
       "      <td>4.300000</td>\n",
       "      <td>8.400000</td>\n",
       "    </tr>\n",
       "    <tr>\n",
       "      <th>Cylinders</th>\n",
       "      <td>35952.0</td>\n",
       "      <td>5.765076</td>\n",
       "      <td>1.755268</td>\n",
       "      <td>2.00</td>\n",
       "      <td>4.000000</td>\n",
       "      <td>6.000000</td>\n",
       "      <td>6.000000</td>\n",
       "      <td>16.000000</td>\n",
       "    </tr>\n",
       "    <tr>\n",
       "      <th>Fuel Barrels/Year</th>\n",
       "      <td>35952.0</td>\n",
       "      <td>17.609056</td>\n",
       "      <td>4.467283</td>\n",
       "      <td>0.06</td>\n",
       "      <td>14.699423</td>\n",
       "      <td>17.347895</td>\n",
       "      <td>20.600625</td>\n",
       "      <td>47.087143</td>\n",
       "    </tr>\n",
       "    <tr>\n",
       "      <th>City MPG</th>\n",
       "      <td>35952.0</td>\n",
       "      <td>17.646139</td>\n",
       "      <td>4.769349</td>\n",
       "      <td>6.00</td>\n",
       "      <td>15.000000</td>\n",
       "      <td>17.000000</td>\n",
       "      <td>20.000000</td>\n",
       "      <td>58.000000</td>\n",
       "    </tr>\n",
       "    <tr>\n",
       "      <th>Highway MPG</th>\n",
       "      <td>35952.0</td>\n",
       "      <td>23.880646</td>\n",
       "      <td>5.890876</td>\n",
       "      <td>9.00</td>\n",
       "      <td>20.000000</td>\n",
       "      <td>24.000000</td>\n",
       "      <td>27.000000</td>\n",
       "      <td>61.000000</td>\n",
       "    </tr>\n",
       "    <tr>\n",
       "      <th>Combined MPG</th>\n",
       "      <td>35952.0</td>\n",
       "      <td>19.929322</td>\n",
       "      <td>5.112409</td>\n",
       "      <td>7.00</td>\n",
       "      <td>16.000000</td>\n",
       "      <td>19.000000</td>\n",
       "      <td>23.000000</td>\n",
       "      <td>56.000000</td>\n",
       "    </tr>\n",
       "    <tr>\n",
       "      <th>CO2 Emission Grams/Mile</th>\n",
       "      <td>35952.0</td>\n",
       "      <td>475.316339</td>\n",
       "      <td>119.060773</td>\n",
       "      <td>37.00</td>\n",
       "      <td>395.000000</td>\n",
       "      <td>467.736842</td>\n",
       "      <td>555.437500</td>\n",
       "      <td>1269.571429</td>\n",
       "    </tr>\n",
       "    <tr>\n",
       "      <th>Fuel Cost/Year</th>\n",
       "      <td>35952.0</td>\n",
       "      <td>1892.598465</td>\n",
       "      <td>506.958627</td>\n",
       "      <td>600.00</td>\n",
       "      <td>1500.000000</td>\n",
       "      <td>1850.000000</td>\n",
       "      <td>2200.000000</td>\n",
       "      <td>5800.000000</td>\n",
       "    </tr>\n",
       "  </tbody>\n",
       "</table>\n",
       "</div>"
      ],
      "text/plain": [
       "                           count         mean         std      min  \\\n",
       "Year                     35952.0  2000.716400   10.085290  1984.00   \n",
       "Engine Displacement      35952.0     3.338493    1.359395     0.60   \n",
       "Cylinders                35952.0     5.765076    1.755268     2.00   \n",
       "Fuel Barrels/Year        35952.0    17.609056    4.467283     0.06   \n",
       "City MPG                 35952.0    17.646139    4.769349     6.00   \n",
       "Highway MPG              35952.0    23.880646    5.890876     9.00   \n",
       "Combined MPG             35952.0    19.929322    5.112409     7.00   \n",
       "CO2 Emission Grams/Mile  35952.0   475.316339  119.060773    37.00   \n",
       "Fuel Cost/Year           35952.0  1892.598465  506.958627   600.00   \n",
       "\n",
       "                                 25%          50%          75%          max  \n",
       "Year                     1991.000000  2001.000000  2010.000000  2017.000000  \n",
       "Engine Displacement         2.200000     3.000000     4.300000     8.400000  \n",
       "Cylinders                   4.000000     6.000000     6.000000    16.000000  \n",
       "Fuel Barrels/Year          14.699423    17.347895    20.600625    47.087143  \n",
       "City MPG                   15.000000    17.000000    20.000000    58.000000  \n",
       "Highway MPG                20.000000    24.000000    27.000000    61.000000  \n",
       "Combined MPG               16.000000    19.000000    23.000000    56.000000  \n",
       "CO2 Emission Grams/Mile   395.000000   467.736842   555.437500  1269.571429  \n",
       "Fuel Cost/Year           1500.000000  1850.000000  2200.000000  5800.000000  "
      ]
     },
     "execution_count": 23,
     "metadata": {},
     "output_type": "execute_result"
    }
   ],
   "source": [
    "df.describe().T"
   ]
  },
  {
   "cell_type": "code",
   "execution_count": 26,
   "metadata": {},
   "outputs": [
    {
     "data": {
      "text/html": [
       "<div>\n",
       "<style scoped>\n",
       "    .dataframe tbody tr th:only-of-type {\n",
       "        vertical-align: middle;\n",
       "    }\n",
       "\n",
       "    .dataframe tbody tr th {\n",
       "        vertical-align: top;\n",
       "    }\n",
       "\n",
       "    .dataframe thead th {\n",
       "        text-align: right;\n",
       "    }\n",
       "</style>\n",
       "<table border=\"1\" class=\"dataframe\">\n",
       "  <thead>\n",
       "    <tr style=\"text-align: right;\">\n",
       "      <th></th>\n",
       "      <th>count</th>\n",
       "      <th>mean</th>\n",
       "      <th>std</th>\n",
       "      <th>min</th>\n",
       "      <th>25%</th>\n",
       "      <th>50%</th>\n",
       "      <th>75%</th>\n",
       "      <th>max</th>\n",
       "    </tr>\n",
       "  </thead>\n",
       "  <tbody>\n",
       "    <tr>\n",
       "      <th>Year</th>\n",
       "      <td>35952.0</td>\n",
       "      <td>2000.716400</td>\n",
       "      <td>10.085290</td>\n",
       "      <td>1984.00</td>\n",
       "      <td>1991.000000</td>\n",
       "      <td>2001.000000</td>\n",
       "      <td>2010.000000</td>\n",
       "      <td>2017.000000</td>\n",
       "    </tr>\n",
       "    <tr>\n",
       "      <th>Engine Displacement</th>\n",
       "      <td>35952.0</td>\n",
       "      <td>3.338493</td>\n",
       "      <td>1.359395</td>\n",
       "      <td>0.60</td>\n",
       "      <td>2.200000</td>\n",
       "      <td>3.000000</td>\n",
       "      <td>4.300000</td>\n",
       "      <td>8.400000</td>\n",
       "    </tr>\n",
       "    <tr>\n",
       "      <th>Cylinders</th>\n",
       "      <td>35952.0</td>\n",
       "      <td>5.765076</td>\n",
       "      <td>1.755268</td>\n",
       "      <td>2.00</td>\n",
       "      <td>4.000000</td>\n",
       "      <td>6.000000</td>\n",
       "      <td>6.000000</td>\n",
       "      <td>16.000000</td>\n",
       "    </tr>\n",
       "    <tr>\n",
       "      <th>Fuel Barrels/Year</th>\n",
       "      <td>35952.0</td>\n",
       "      <td>17.609056</td>\n",
       "      <td>4.467283</td>\n",
       "      <td>0.06</td>\n",
       "      <td>14.699423</td>\n",
       "      <td>17.347895</td>\n",
       "      <td>20.600625</td>\n",
       "      <td>47.087143</td>\n",
       "    </tr>\n",
       "    <tr>\n",
       "      <th>City MPG</th>\n",
       "      <td>35952.0</td>\n",
       "      <td>17.646139</td>\n",
       "      <td>4.769349</td>\n",
       "      <td>6.00</td>\n",
       "      <td>15.000000</td>\n",
       "      <td>17.000000</td>\n",
       "      <td>20.000000</td>\n",
       "      <td>58.000000</td>\n",
       "    </tr>\n",
       "    <tr>\n",
       "      <th>Highway MPG</th>\n",
       "      <td>35952.0</td>\n",
       "      <td>23.880646</td>\n",
       "      <td>5.890876</td>\n",
       "      <td>9.00</td>\n",
       "      <td>20.000000</td>\n",
       "      <td>24.000000</td>\n",
       "      <td>27.000000</td>\n",
       "      <td>61.000000</td>\n",
       "    </tr>\n",
       "    <tr>\n",
       "      <th>Combined MPG</th>\n",
       "      <td>35952.0</td>\n",
       "      <td>19.929322</td>\n",
       "      <td>5.112409</td>\n",
       "      <td>7.00</td>\n",
       "      <td>16.000000</td>\n",
       "      <td>19.000000</td>\n",
       "      <td>23.000000</td>\n",
       "      <td>56.000000</td>\n",
       "    </tr>\n",
       "    <tr>\n",
       "      <th>CO2 Emission Grams/Mile</th>\n",
       "      <td>35952.0</td>\n",
       "      <td>475.316339</td>\n",
       "      <td>119.060773</td>\n",
       "      <td>37.00</td>\n",
       "      <td>395.000000</td>\n",
       "      <td>467.736842</td>\n",
       "      <td>555.437500</td>\n",
       "      <td>1269.571429</td>\n",
       "    </tr>\n",
       "    <tr>\n",
       "      <th>Fuel Cost/Year</th>\n",
       "      <td>35952.0</td>\n",
       "      <td>1892.598465</td>\n",
       "      <td>506.958627</td>\n",
       "      <td>600.00</td>\n",
       "      <td>1500.000000</td>\n",
       "      <td>1850.000000</td>\n",
       "      <td>2200.000000</td>\n",
       "      <td>5800.000000</td>\n",
       "    </tr>\n",
       "  </tbody>\n",
       "</table>\n",
       "</div>"
      ],
      "text/plain": [
       "                           count         mean         std      min  \\\n",
       "Year                     35952.0  2000.716400   10.085290  1984.00   \n",
       "Engine Displacement      35952.0     3.338493    1.359395     0.60   \n",
       "Cylinders                35952.0     5.765076    1.755268     2.00   \n",
       "Fuel Barrels/Year        35952.0    17.609056    4.467283     0.06   \n",
       "City MPG                 35952.0    17.646139    4.769349     6.00   \n",
       "Highway MPG              35952.0    23.880646    5.890876     9.00   \n",
       "Combined MPG             35952.0    19.929322    5.112409     7.00   \n",
       "CO2 Emission Grams/Mile  35952.0   475.316339  119.060773    37.00   \n",
       "Fuel Cost/Year           35952.0  1892.598465  506.958627   600.00   \n",
       "\n",
       "                                 25%          50%          75%          max  \n",
       "Year                     1991.000000  2001.000000  2010.000000  2017.000000  \n",
       "Engine Displacement         2.200000     3.000000     4.300000     8.400000  \n",
       "Cylinders                   4.000000     6.000000     6.000000    16.000000  \n",
       "Fuel Barrels/Year          14.699423    17.347895    20.600625    47.087143  \n",
       "City MPG                   15.000000    17.000000    20.000000    58.000000  \n",
       "Highway MPG                20.000000    24.000000    27.000000    61.000000  \n",
       "Combined MPG               16.000000    19.000000    23.000000    56.000000  \n",
       "CO2 Emission Grams/Mile   395.000000   467.736842   555.437500  1269.571429  \n",
       "Fuel Cost/Year           1500.000000  1850.000000  2200.000000  5800.000000  "
      ]
     },
     "execution_count": 26,
     "metadata": {},
     "output_type": "execute_result"
    }
   ],
   "source": [
    "df.describe().T"
   ]
  },
  {
   "cell_type": "code",
   "execution_count": 22,
   "metadata": {},
   "outputs": [
    {
     "data": {
      "text/plain": [
       "'1.0.3'"
      ]
     },
     "execution_count": 22,
     "metadata": {},
     "output_type": "execute_result"
    }
   ],
   "source": [
    "df.phevComb.plot.box()"
   ]
  },
  {
   "cell_type": "code",
   "execution_count": null,
   "metadata": {},
   "outputs": [],
   "source": [
    "stats=df.describe().transpose()"
   ]
  },
  {
   "cell_type": "code",
   "execution_count": null,
   "metadata": {},
   "outputs": [],
   "source": [
    "stats['IQR']=stats['75%']-stats['25%']"
   ]
  },
  {
   "cell_type": "code",
   "execution_count": null,
   "metadata": {},
   "outputs": [],
   "source": [
    "stats"
   ]
  },
  {
   "cell_type": "code",
   "execution_count": null,
   "metadata": {},
   "outputs": [],
   "source": [
    "outliers=pd.DataFrame(columns=df.columns)"
   ]
  },
  {
   "cell_type": "code",
   "execution_count": null,
   "metadata": {},
   "outputs": [],
   "source": [
    "outliers"
   ]
  },
  {
   "cell_type": "code",
   "execution_count": null,
   "metadata": {},
   "outputs": [],
   "source": [
    "for col in stats.index:\n",
    "    iqr=stats.IQR[col]\n",
    "    cutoff=iqr*1.6\n",
    "    lower=stats.at[col,'25%']-cutoff\n",
    "    upper=stats.at[col,'75%']+cutoff\n",
    "    result=df[(df.col<lower)|(df.col>upper)].copy()\n",
    "    results[outliers]=col\n",
    "    outliers=outliers.append(results)"
   ]
  },
  {
   "cell_type": "code",
   "execution_count": null,
   "metadata": {},
   "outputs": [],
   "source": [
    "outliers"
   ]
  },
  {
   "cell_type": "markdown",
   "metadata": {},
   "source": [
    "# test error"
   ]
  },
  {
   "cell_type": "code",
   "execution_count": null,
   "metadata": {},
   "outputs": [],
   "source": [
    "df.trany"
   ]
  },
  {
   "cell_type": "code",
   "execution_count": null,
   "metadata": {},
   "outputs": [],
   "source": [
    "df.trany.nunique()"
   ]
  },
  {
   "cell_type": "code",
   "execution_count": null,
   "metadata": {},
   "outputs": [],
   "source": [
    "df.trany.str.replace('-','').str.replace('Automatic','Auto').str.replace('Auto\\(',')Auto'.str.replace('\\))"
   ]
  },
  {
   "cell_type": "code",
   "execution_count": null,
   "metadata": {},
   "outputs": [],
   "source": [
    "df.trany.str.replace('Manual\\(','Manual').str.replace('\\)','').str.replace('\\(','').unique()"
   ]
  },
  {
   "cell_type": "markdown",
   "metadata": {},
   "source": [
    "# Duplicates"
   ]
  },
  {
   "cell_type": "code",
   "execution_count": null,
   "metadata": {},
   "outputs": [],
   "source": [
    "print(outliers.shape)\n",
    "outliers.drop_duplicates()\n",
    "print(outliers.shape)"
   ]
  },
  {
   "cell_type": "code",
   "execution_count": null,
   "metadata": {},
   "outputs": [],
   "source": [
    "print(outliers.shape)\n",
    "outliers.drop_duplicates()\n",
    "print(outliers.iloc[:,:-1].drop_duplicates().shape)"
   ]
  },
  {
   "cell_type": "code",
   "execution_count": null,
   "metadata": {},
   "outputs": [],
   "source": [
    "outliers.iloc[:,:-1].duplicated()"
   ]
  },
  {
   "cell_type": "code",
   "execution_count": null,
   "metadata": {},
   "outputs": [],
   "source": []
  }
 ],
 "metadata": {
  "kernelspec": {
   "display_name": "Python 3",
   "language": "python",
   "name": "python3"
  },
  "language_info": {
   "codemirror_mode": {
    "name": "ipython",
    "version": 3
   },
   "file_extension": ".py",
   "mimetype": "text/x-python",
   "name": "python",
   "nbconvert_exporter": "python",
   "pygments_lexer": "ipython3",
   "version": "3.7.4"
  }
 },
 "nbformat": 4,
 "nbformat_minor": 2
}
