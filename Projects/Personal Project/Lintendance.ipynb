{
 "cells": [
  {
   "cell_type": "markdown",
   "metadata": {},
   "source": [
    "# Project3"
   ]
  },
  {
   "cell_type": "code",
   "execution_count": 4,
   "metadata": {},
   "outputs": [
    {
     "name": "stderr",
     "output_type": "stream",
     "text": [
      "/Users/jidekickpush/opt/anaconda3/lib/python3.7/site-packages/selenium/webdriver/phantomjs/webdriver.py:49: UserWarning: Selenium support for PhantomJS has been deprecated, please use headless versions of Chrome or Firefox instead\n",
      "  warnings.warn('Selenium support for PhantomJS has been deprecated, please use headless '\n"
     ]
    },
    {
     "ename": "AttributeError",
     "evalue": "'WebDriver' object has no attribute 'find_element_by_css'",
     "output_type": "error",
     "traceback": [
      "\u001b[0;31m---------------------------------------------------------------------------\u001b[0m",
      "\u001b[0;31mAttributeError\u001b[0m                            Traceback (most recent call last)",
      "\u001b[0;32m<ipython-input-4-8fdce263903a>\u001b[0m in \u001b[0;36m<module>\u001b[0;34m\u001b[0m\n\u001b[1;32m     11\u001b[0m \u001b[0mdriver\u001b[0m\u001b[0;34m=\u001b[0m\u001b[0mwebdriver\u001b[0m\u001b[0;34m.\u001b[0m\u001b[0mPhantomJS\u001b[0m\u001b[0;34m(\u001b[0m\u001b[0;34m)\u001b[0m\u001b[0;34m\u001b[0m\u001b[0;34m\u001b[0m\u001b[0m\n\u001b[1;32m     12\u001b[0m \u001b[0mdriver\u001b[0m\u001b[0;34m.\u001b[0m\u001b[0mget\u001b[0m\u001b[0;34m(\u001b[0m\u001b[0;34m'https://www.lintendance.co/'\u001b[0m\u001b[0;34m)\u001b[0m\u001b[0;34m\u001b[0m\u001b[0;34m\u001b[0m\u001b[0m\n\u001b[0;32m---> 13\u001b[0;31m \u001b[0melem\u001b[0m \u001b[0;34m=\u001b[0m \u001b[0mdriver\u001b[0m\u001b[0;34m.\u001b[0m\u001b[0mfind_element_by_css\u001b[0m\u001b[0;34m(\u001b[0m\u001b[0;34m\"div.marg-right-correct a[href]:first-child\"\u001b[0m\u001b[0;34m)\u001b[0m\u001b[0;34m\u001b[0m\u001b[0;34m\u001b[0m\u001b[0m\n\u001b[0m\u001b[1;32m     14\u001b[0m \u001b[0melem\u001b[0m\u001b[0;34m.\u001b[0m\u001b[0mclick\u001b[0m\u001b[0;34m(\u001b[0m\u001b[0;34m)\u001b[0m\u001b[0;34m\u001b[0m\u001b[0;34m\u001b[0m\u001b[0m\n\u001b[1;32m     15\u001b[0m \u001b[0;34m\u001b[0m\u001b[0m\n",
      "\u001b[0;31mAttributeError\u001b[0m: 'WebDriver' object has no attribute 'find_element_by_css'"
     ]
    }
   ],
   "source": [
    "import requests as r\n",
    "import pandas as pd\n",
    "import json\n",
    "from bs4 import BeautifulSoup as bs\n",
    "\n",
    "#Selenium and Phantomjs\n",
    "from selenium import webdriver\n",
    "from selenium.webdriver.common.by import By\n",
    "import time\n",
    "\n",
    "driver=webdriver.PhantomJS()\n",
    "driver.get('https://www.lintendance.co/')\n",
    "elem = driver.find_element_by_css(\"div.marg-right-correct a[href]:first-child\")\n",
    "elem.click()\n",
    "\n",
    "print(driver.current_url)\n",
    "#driver.find_element_bycss('')\n",
    "\n",
    "\n"
   ]
  },
  {
   "cell_type": "code",
   "execution_count": null,
   "metadata": {},
   "outputs": [],
   "source": [
    "elem = driver.find_element_by_xpath('//button[@class=\"css-75g0v6\"]')\n",
    "elem.click()\n",
    "time.sleep(0.2)\n",
    "\n",
    "elem = driver.find_element_by_xpath(\"//*\")\n",
    "\n",
    "text=elem.get_attribute('innerHTML')\n",
    "\n",
    "from bs4 import BeautifulSoup\n",
    "\n",
    "soup=BeautifulSoup(text)\n",
    "\n",
    "['https://beta.systembolaget.se'+i['href'] for i in soup.select('.css-1hkwnde a')]\n",
    "Collapse"
   ]
  },
  {
   "cell_type": "code",
   "execution_count": 1,
   "metadata": {},
   "outputs": [],
   "source": [
    "url='https://www.lintendance.co/.wf_graphql/apollo'"
   ]
  },
  {
   "cell_type": "code",
   "execution_count": 3,
   "metadata": {},
   "outputs": [],
   "source": [
    "headers=\"\"\"accept: */*, application/json\n",
    "accept-encoding: gzip, deflate, br\n",
    "accept-language: en-US,en;q=0.9\n",
    "cache-control: no-cache\n",
    "content-length: 14278\n",
    "content-type: application/json\n",
    "cookie: __stripe_mid=104b55cf-de29-4a98-979e-8cb4aff62a34; _gcl_au=1.1.1157475720.1586499945; _ga=GA1.2.764709626.1586499948; _gid=GA1.2.2021687578.1586499948; _fbp=fb.1.1586499948874.271442516; _hjid=2f346a1b-3764-4d83-ba63-52aaafe44375; _hjIncludedInSample=1; fcaid=3dfd15559caaf6a75f7963656e985ff7779472286b0aa17f9efbdd974fe09c0c; fcuid=c42be923-1b98-4054-8713-56b0086bbc2f; fccid=b60134bc-b300-4bbc-9db5-2b1cd64f9eda; fcpmuc=undefined; closed-bocal=true; cookie-alert=true; cookie-hellobar=true; __stripe_sid=219527a0-af55-4815-a70e-5ce120943b4d; _gat_gtag_UA_141358782_1=1; _gat_UA-141358782-1=1; wf-csrf=TBscE4lgmdBwdvmMdPzY7NO7-QZMZNagYU5_EAZ97veE; wf-csrf.sig=8OhRm8G6utbzqprgB-3K42Ce3QmH9jxJhFu1ApM0Wx0\n",
    "origin: https://www.lintendance.co\n",
    "pragma: no-cache\n",
    "referer: https://www.lintendance.co/cat/pates\n",
    "sec-fetch-dest: empty\n",
    "sec-fetch-mode: cors\n",
    "sec-fetch-site: same-origin\n",
    "user-agent: Mozilla/5.0 (Macintosh; Intel Mac OS X 10_15_4) AppleWebKit/537.36 (KHTML, like Gecko) Chrome/80.0.3987.149 Safari/537.36\n",
    "x-wf-csrf: TBscE4lgmdBwdvmMdPzY7NO7-QZMZNagYU5_EAZ97veE\"\"\""
   ]
  },
  {
   "cell_type": "code",
   "execution_count": 4,
   "metadata": {},
   "outputs": [],
   "source": [
    "headers=dict([i.split(': ') for i in headers.split('\\n')])"
   ]
  },
  {
   "cell_type": "code",
   "execution_count": 5,
   "metadata": {},
   "outputs": [
    {
     "data": {
      "text/plain": [
       "{'accept': '*/*, application/json',\n",
       " 'accept-encoding': 'gzip, deflate, br',\n",
       " 'accept-language': 'en-US,en;q=0.9',\n",
       " 'cache-control': 'no-cache',\n",
       " 'content-length': '14278',\n",
       " 'content-type': 'application/json',\n",
       " 'cookie': '__stripe_mid=104b55cf-de29-4a98-979e-8cb4aff62a34; _gcl_au=1.1.1157475720.1586499945; _ga=GA1.2.764709626.1586499948; _gid=GA1.2.2021687578.1586499948; _fbp=fb.1.1586499948874.271442516; _hjid=2f346a1b-3764-4d83-ba63-52aaafe44375; _hjIncludedInSample=1; fcaid=3dfd15559caaf6a75f7963656e985ff7779472286b0aa17f9efbdd974fe09c0c; fcuid=c42be923-1b98-4054-8713-56b0086bbc2f; fccid=b60134bc-b300-4bbc-9db5-2b1cd64f9eda; fcpmuc=undefined; closed-bocal=true; cookie-alert=true; cookie-hellobar=true; __stripe_sid=219527a0-af55-4815-a70e-5ce120943b4d; _gat_gtag_UA_141358782_1=1; _gat_UA-141358782-1=1; wf-csrf=TBscE4lgmdBwdvmMdPzY7NO7-QZMZNagYU5_EAZ97veE; wf-csrf.sig=8OhRm8G6utbzqprgB-3K42Ce3QmH9jxJhFu1ApM0Wx0',\n",
       " 'origin': 'https://www.lintendance.co',\n",
       " 'pragma': 'no-cache',\n",
       " 'referer': 'https://www.lintendance.co/cat/pates',\n",
       " 'sec-fetch-dest': 'empty',\n",
       " 'sec-fetch-mode': 'cors',\n",
       " 'sec-fetch-site': 'same-origin',\n",
       " 'user-agent': 'Mozilla/5.0 (Macintosh; Intel Mac OS X 10_15_4) AppleWebKit/537.36 (KHTML, like Gecko) Chrome/80.0.3987.149 Safari/537.36',\n",
       " 'x-wf-csrf': 'TBscE4lgmdBwdvmMdPzY7NO7-QZMZNagYU5_EAZ97veE'}"
      ]
     },
     "execution_count": 5,
     "metadata": {},
     "output_type": "execute_result"
    }
   ],
   "source": [
    "headers"
   ]
  },
  {
   "cell_type": "code",
   "execution_count": 6,
   "metadata": {},
   "outputs": [],
   "source": [
    "payload=\"\"\"[{\"operationName\":\"FetchAllVariants\",\"variables\":{\"productId\":\"5e32d1da70a91c737208e5d3\"},\"query\":\"query FetchAllVariants($productId: BasicId!) {\\n  database {\\n    collections {\\n      c_sku_ {\\n        items(filter: {f_product_: {eq: $productId}}) {\\n          id\\n          f_price_ {\\n            value\\n            unit\\n            __typename\\n          }\\n          f_weight_\\n          f_width_\\n          f_length_\\n          f_height_\\n          f_sku_\\n          f_main_image_4dr {\\n            url\\n            __typename\\n          }\\n          f_more_images_4dr {\\n            url\\n            alt\\n            file {\\n              origFileName\\n              __typename\\n            }\\n            __typename\\n          }\\n          f_sku_values_3dr {\\n            value {\\n              id\\n              __typename\\n            }\\n            property {\\n              id\\n              __typename\\n            }\\n            __typename\\n          }\\n          inventory {\\n            type\\n            quantity\\n            __typename\\n          }\\n          f_compare_at_price_7dr10dr {\\n            unit\\n            value\\n            __typename\\n          }\\n          __typename\\n        }\\n        __typename\\n      }\\n      __typename\\n    }\\n    __typename\\n  }\\n}\\n\"},{\"operationName\":\"FetchAllVariants\",\"variables\":{\"productId\":\"5e32cdf1a21b6159cf13ae4e\"},\"query\":\"query FetchAllVariants($productId: BasicId!) {\\n  database {\\n    collections {\\n      c_sku_ {\\n        items(filter: {f_product_: {eq: $productId}}) {\\n          id\\n          f_price_ {\\n            value\\n            unit\\n            __typename\\n          }\\n          f_weight_\\n          f_width_\\n          f_length_\\n          f_height_\\n          f_sku_\\n          f_main_image_4dr {\\n            url\\n            __typename\\n          }\\n          f_more_images_4dr {\\n            url\\n            alt\\n            file {\\n              origFileName\\n              __typename\\n            }\\n            __typename\\n          }\\n          f_sku_values_3dr {\\n            value {\\n              id\\n              __typename\\n            }\\n            property {\\n              id\\n              __typename\\n            }\\n            __typename\\n          }\\n          inventory {\\n            type\\n            quantity\\n            __typename\\n          }\\n          f_compare_at_price_7dr10dr {\\n            unit\\n            value\\n            __typename\\n          }\\n          __typename\\n        }\\n        __typename\\n      }\\n      __typename\\n    }\\n    __typename\\n  }\\n}\\n\"},{\"operationName\":\"FetchAllVariants\",\"variables\":{\"productId\":\"5e0e0de617e08400c180bc86\"},\"query\":\"query FetchAllVariants($productId: BasicId!) {\\n  database {\\n    collections {\\n      c_sku_ {\\n        items(filter: {f_product_: {eq: $productId}}) {\\n          id\\n          f_price_ {\\n            value\\n            unit\\n            __typename\\n          }\\n          f_weight_\\n          f_width_\\n          f_length_\\n          f_height_\\n          f_sku_\\n          f_main_image_4dr {\\n            url\\n            __typename\\n          }\\n          f_more_images_4dr {\\n            url\\n            alt\\n            file {\\n              origFileName\\n              __typename\\n            }\\n            __typename\\n          }\\n          f_sku_values_3dr {\\n            value {\\n              id\\n              __typename\\n            }\\n            property {\\n              id\\n              __typename\\n            }\\n            __typename\\n          }\\n          inventory {\\n            type\\n            quantity\\n            __typename\\n          }\\n          f_compare_at_price_7dr10dr {\\n            unit\\n            value\\n            __typename\\n          }\\n          __typename\\n        }\\n        __typename\\n      }\\n      __typename\\n    }\\n    __typename\\n  }\\n}\\n\"},{\"operationName\":\"FetchAllVariants\",\"variables\":{\"productId\":\"5e0e0de617e0844da780bbb8\"},\"query\":\"query FetchAllVariants($productId: BasicId!) {\\n  database {\\n    collections {\\n      c_sku_ {\\n        items(filter: {f_product_: {eq: $productId}}) {\\n          id\\n          f_price_ {\\n            value\\n            unit\\n            __typename\\n          }\\n          f_weight_\\n          f_width_\\n          f_length_\\n          f_height_\\n          f_sku_\\n          f_main_image_4dr {\\n            url\\n            __typename\\n          }\\n          f_more_images_4dr {\\n            url\\n            alt\\n            file {\\n              origFileName\\n              __typename\\n            }\\n            __typename\\n          }\\n          f_sku_values_3dr {\\n            value {\\n              id\\n              __typename\\n            }\\n            property {\\n              id\\n              __typename\\n            }\\n            __typename\\n          }\\n          inventory {\\n            type\\n            quantity\\n            __typename\\n          }\\n          f_compare_at_price_7dr10dr {\\n            unit\\n            value\\n            __typename\\n          }\\n          __typename\\n        }\\n        __typename\\n      }\\n      __typename\\n    }\\n    __typename\\n  }\\n}\\n\"},{\"operationName\":\"FetchAllVariants\",\"variables\":{\"productId\":\"5e0e0de617e08488c380bbb0\"},\"query\":\"query FetchAllVariants($productId: BasicId!) {\\n  database {\\n    collections {\\n      c_sku_ {\\n        items(filter: {f_product_: {eq: $productId}}) {\\n          id\\n          f_price_ {\\n            value\\n            unit\\n            __typename\\n          }\\n          f_weight_\\n          f_width_\\n          f_length_\\n          f_height_\\n          f_sku_\\n          f_main_image_4dr {\\n            url\\n            __typename\\n          }\\n          f_more_images_4dr {\\n            url\\n            alt\\n            file {\\n              origFileName\\n              __typename\\n            }\\n            __typename\\n          }\\n          f_sku_values_3dr {\\n            value {\\n              id\\n              __typename\\n            }\\n            property {\\n              id\\n              __typename\\n            }\\n            __typename\\n          }\\n          inventory {\\n            type\\n            quantity\\n            __typename\\n          }\\n          f_compare_at_price_7dr10dr {\\n            unit\\n            value\\n            __typename\\n          }\\n          __typename\\n        }\\n        __typename\\n      }\\n      __typename\\n    }\\n    __typename\\n  }\\n}\\n\"},{\"operationName\":\"FetchAllVariants\",\"variables\":{\"productId\":\"5e0e0de617e08460f080bba3\"},\"query\":\"query FetchAllVariants($productId: BasicId!) {\\n  database {\\n    collections {\\n      c_sku_ {\\n        items(filter: {f_product_: {eq: $productId}}) {\\n          id\\n          f_price_ {\\n            value\\n            unit\\n            __typename\\n          }\\n          f_weight_\\n          f_width_\\n          f_length_\\n          f_height_\\n          f_sku_\\n          f_main_image_4dr {\\n            url\\n            __typename\\n          }\\n          f_more_images_4dr {\\n            url\\n            alt\\n            file {\\n              origFileName\\n              __typename\\n            }\\n            __typename\\n          }\\n          f_sku_values_3dr {\\n            value {\\n              id\\n              __typename\\n            }\\n            property {\\n              id\\n              __typename\\n            }\\n            __typename\\n          }\\n          inventory {\\n            type\\n            quantity\\n            __typename\\n          }\\n          f_compare_at_price_7dr10dr {\\n            unit\\n            value\\n            __typename\\n          }\\n          __typename\\n        }\\n        __typename\\n      }\\n      __typename\\n    }\\n    __typename\\n  }\\n}\\n\"},{\"operationName\":\"FetchAllVariants\",\"variables\":{\"productId\":\"5e0e0de617e084243b80bb8d\"},\"query\":\"query FetchAllVariants($productId: BasicId!) {\\n  database {\\n    collections {\\n      c_sku_ {\\n        items(filter: {f_product_: {eq: $productId}}) {\\n          id\\n          f_price_ {\\n            value\\n            unit\\n            __typename\\n          }\\n          f_weight_\\n          f_width_\\n          f_length_\\n          f_height_\\n          f_sku_\\n          f_main_image_4dr {\\n            url\\n            __typename\\n          }\\n          f_more_images_4dr {\\n            url\\n            alt\\n            file {\\n              origFileName\\n              __typename\\n            }\\n            __typename\\n          }\\n          f_sku_values_3dr {\\n            value {\\n              id\\n              __typename\\n            }\\n            property {\\n              id\\n              __typename\\n            }\\n            __typename\\n          }\\n          inventory {\\n            type\\n            quantity\\n            __typename\\n          }\\n          f_compare_at_price_7dr10dr {\\n            unit\\n            value\\n            __typename\\n          }\\n          __typename\\n        }\\n        __typename\\n      }\\n      __typename\\n    }\\n    __typename\\n  }\\n}\\n\"},{\"operationName\":\"FetchAllVariants\",\"variables\":{\"productId\":\"5e0e0de617e08432d080bb63\"},\"query\":\"query FetchAllVariants($productId: BasicId!) {\\n  database {\\n    collections {\\n      c_sku_ {\\n        items(filter: {f_product_: {eq: $productId}}) {\\n          id\\n          f_price_ {\\n            value\\n            unit\\n            __typename\\n          }\\n          f_weight_\\n          f_width_\\n          f_length_\\n          f_height_\\n          f_sku_\\n          f_main_image_4dr {\\n            url\\n            __typename\\n          }\\n          f_more_images_4dr {\\n            url\\n            alt\\n            file {\\n              origFileName\\n              __typename\\n            }\\n            __typename\\n          }\\n          f_sku_values_3dr {\\n            value {\\n              id\\n              __typename\\n            }\\n            property {\\n              id\\n              __typename\\n            }\\n            __typename\\n          }\\n          inventory {\\n            type\\n            quantity\\n            __typename\\n          }\\n          f_compare_at_price_7dr10dr {\\n            unit\\n            value\\n            __typename\\n          }\\n          __typename\\n        }\\n        __typename\\n      }\\n      __typename\\n    }\\n    __typename\\n  }\\n}\\n\"},{\"operationName\":\"FetchAllVariants\",\"variables\":{\"productId\":\"5e0e0de617e0842bdf80bb60\"},\"query\":\"query FetchAllVariants($productId: BasicId!) {\\n  database {\\n    collections {\\n      c_sku_ {\\n        items(filter: {f_product_: {eq: $productId}}) {\\n          id\\n          f_price_ {\\n            value\\n            unit\\n            __typename\\n          }\\n          f_weight_\\n          f_width_\\n          f_length_\\n          f_height_\\n          f_sku_\\n          f_main_image_4dr {\\n            url\\n            __typename\\n          }\\n          f_more_images_4dr {\\n            url\\n            alt\\n            file {\\n              origFileName\\n              __typename\\n            }\\n            __typename\\n          }\\n          f_sku_values_3dr {\\n            value {\\n              id\\n              __typename\\n            }\\n            property {\\n              id\\n              __typename\\n            }\\n            __typename\\n          }\\n          inventory {\\n            type\\n            quantity\\n            __typename\\n          }\\n          f_compare_at_price_7dr10dr {\\n            unit\\n            value\\n            __typename\\n          }\\n          __typename\\n        }\\n        __typename\\n      }\\n      __typename\\n    }\\n    __typename\\n  }\\n}\\n\"},{\"operationName\":\"FetchCartInfo\",\"variables\":{},\"query\":\"query FetchCartInfo {\\n  site {\\n    commerce {\\n      quickCheckoutEnabled\\n      defaultCurrency\\n      defaultCountry\\n      businessAddress {\\n        country\\n        __typename\\n      }\\n      __typename\\n    }\\n    __typename\\n  }\\n  database {\\n    commerceOrder {\\n      id\\n      startedOn\\n      updatedOn\\n      comment\\n      userItemsCount\\n      userItems {\\n        id\\n        count\\n        rowTotal {\\n          value\\n          __typename\\n        }\\n        sku {\\n          id\\n          f_weight_\\n          f__draft_0ht\\n          f__archived_0ht\\n          f_main_image_4dr {\\n            url\\n            alt\\n            file {\\n              origFileName\\n              width\\n              height\\n              size\\n              variants {\\n                origFileName\\n                quality\\n                height\\n                width\\n                s3Url\\n                size\\n                error\\n                __typename\\n              }\\n              __typename\\n            }\\n            __typename\\n          }\\n          f_price_ {\\n            value\\n            unit\\n            __typename\\n          }\\n          f_sku_values_3dr {\\n            value {\\n              id\\n              __typename\\n            }\\n            property {\\n              id\\n              __typename\\n            }\\n            __typename\\n          }\\n          __typename\\n        }\\n        product {\\n          f_slug_\\n          id\\n          f__draft_0ht\\n          f__archived_0ht\\n          f_name_\\n          f_unite_de_base_5dr8dr {\\n            name\\n            id\\n            __typename\\n          }\\n          f_sku_properties_3dr {\\n            id\\n            name\\n            enum {\\n              id\\n              name\\n              slug\\n              __typename\\n            }\\n            __typename\\n          }\\n          __typename\\n        }\\n        price {\\n          value\\n          unit\\n          __typename\\n        }\\n        __typename\\n      }\\n      extraItems {\\n        pluginName\\n        pluginId\\n        name\\n        price {\\n          value\\n          unit\\n          string\\n          __typename\\n        }\\n        __typename\\n      }\\n      total {\\n        value\\n        unit\\n        string\\n        __typename\\n      }\\n      subtotal {\\n        value\\n        unit\\n        string\\n        __typename\\n      }\\n      statusFlags {\\n        requiresShipping\\n        hasDownloads\\n        __typename\\n      }\\n      __typename\\n    }\\n    __typename\\n  }\\n}\\n\"}]\"\"\""
   ]
  },
  {
   "cell_type": "code",
   "execution_count": 7,
   "metadata": {
    "scrolled": true
   },
   "outputs": [],
   "source": [
    "r1=r.post(url,headers=headers,data=payload).json()"
   ]
  },
  {
   "cell_type": "code",
   "execution_count": 8,
   "metadata": {},
   "outputs": [
    {
     "data": {
      "text/plain": [
       "{'msg': 'Invalid request body',\n",
       " 'code': 400,\n",
       " 'name': 'ValidationError',\n",
       " 'path': '/api/proxySite/www.lintendance.co/apollo',\n",
       " 'err': 'ValidationError: Invalid request body'}"
      ]
     },
     "execution_count": 8,
     "metadata": {},
     "output_type": "execute_result"
    }
   ],
   "source": [
    "r1"
   ]
  },
  {
   "cell_type": "code",
   "execution_count": 8,
   "metadata": {},
   "outputs": [
    {
     "ename": "AttributeError",
     "evalue": "'dict' object has no attribute 'status_code'",
     "output_type": "error",
     "traceback": [
      "\u001b[0;31m---------------------------------------------------------------------------\u001b[0m",
      "\u001b[0;31mAttributeError\u001b[0m                            Traceback (most recent call last)",
      "\u001b[0;32m<ipython-input-8-bd7575719448>\u001b[0m in \u001b[0;36m<module>\u001b[0;34m\u001b[0m\n\u001b[0;32m----> 1\u001b[0;31m \u001b[0mr1\u001b[0m\u001b[0;34m.\u001b[0m\u001b[0mstatus_code\u001b[0m\u001b[0;34m\u001b[0m\u001b[0;34m\u001b[0m\u001b[0m\n\u001b[0m",
      "\u001b[0;31mAttributeError\u001b[0m: 'dict' object has no attribute 'status_code'"
     ]
    }
   ],
   "source": [
    "r1.status_code"
   ]
  },
  {
   "cell_type": "code",
   "execution_count": 206,
   "metadata": {},
   "outputs": [
    {
     "ename": "ValueError",
     "evalue": "If using all scalar values, you must pass an index",
     "output_type": "error",
     "traceback": [
      "\u001b[0;31m---------------------------------------------------------------------------\u001b[0m",
      "\u001b[0;31mValueError\u001b[0m                                Traceback (most recent call last)",
      "\u001b[0;32m<ipython-input-206-ceed2b0b97ec>\u001b[0m in \u001b[0;36m<module>\u001b[0;34m\u001b[0m\n\u001b[0;32m----> 1\u001b[0;31m \u001b[0mpd\u001b[0m\u001b[0;34m.\u001b[0m\u001b[0mDataFrame\u001b[0m\u001b[0;34m(\u001b[0m\u001b[0mr1\u001b[0m\u001b[0;34m)\u001b[0m\u001b[0;34m\u001b[0m\u001b[0;34m\u001b[0m\u001b[0m\n\u001b[0m",
      "\u001b[0;32m~/opt/anaconda3/lib/python3.7/site-packages/pandas/core/frame.py\u001b[0m in \u001b[0;36m__init__\u001b[0;34m(self, data, index, columns, dtype, copy)\u001b[0m\n\u001b[1;32m    433\u001b[0m             )\n\u001b[1;32m    434\u001b[0m         \u001b[0;32melif\u001b[0m \u001b[0misinstance\u001b[0m\u001b[0;34m(\u001b[0m\u001b[0mdata\u001b[0m\u001b[0;34m,\u001b[0m \u001b[0mdict\u001b[0m\u001b[0;34m)\u001b[0m\u001b[0;34m:\u001b[0m\u001b[0;34m\u001b[0m\u001b[0;34m\u001b[0m\u001b[0m\n\u001b[0;32m--> 435\u001b[0;31m             \u001b[0mmgr\u001b[0m \u001b[0;34m=\u001b[0m \u001b[0minit_dict\u001b[0m\u001b[0;34m(\u001b[0m\u001b[0mdata\u001b[0m\u001b[0;34m,\u001b[0m \u001b[0mindex\u001b[0m\u001b[0;34m,\u001b[0m \u001b[0mcolumns\u001b[0m\u001b[0;34m,\u001b[0m \u001b[0mdtype\u001b[0m\u001b[0;34m=\u001b[0m\u001b[0mdtype\u001b[0m\u001b[0;34m)\u001b[0m\u001b[0;34m\u001b[0m\u001b[0;34m\u001b[0m\u001b[0m\n\u001b[0m\u001b[1;32m    436\u001b[0m         \u001b[0;32melif\u001b[0m \u001b[0misinstance\u001b[0m\u001b[0;34m(\u001b[0m\u001b[0mdata\u001b[0m\u001b[0;34m,\u001b[0m \u001b[0mma\u001b[0m\u001b[0;34m.\u001b[0m\u001b[0mMaskedArray\u001b[0m\u001b[0;34m)\u001b[0m\u001b[0;34m:\u001b[0m\u001b[0;34m\u001b[0m\u001b[0;34m\u001b[0m\u001b[0m\n\u001b[1;32m    437\u001b[0m             \u001b[0;32mimport\u001b[0m \u001b[0mnumpy\u001b[0m\u001b[0;34m.\u001b[0m\u001b[0mma\u001b[0m\u001b[0;34m.\u001b[0m\u001b[0mmrecords\u001b[0m \u001b[0;32mas\u001b[0m \u001b[0mmrecords\u001b[0m\u001b[0;34m\u001b[0m\u001b[0;34m\u001b[0m\u001b[0m\n",
      "\u001b[0;32m~/opt/anaconda3/lib/python3.7/site-packages/pandas/core/internals/construction.py\u001b[0m in \u001b[0;36minit_dict\u001b[0;34m(data, index, columns, dtype)\u001b[0m\n\u001b[1;32m    252\u001b[0m             \u001b[0marr\u001b[0m \u001b[0;32mif\u001b[0m \u001b[0;32mnot\u001b[0m \u001b[0mis_datetime64tz_dtype\u001b[0m\u001b[0;34m(\u001b[0m\u001b[0marr\u001b[0m\u001b[0;34m)\u001b[0m \u001b[0;32melse\u001b[0m \u001b[0marr\u001b[0m\u001b[0;34m.\u001b[0m\u001b[0mcopy\u001b[0m\u001b[0;34m(\u001b[0m\u001b[0;34m)\u001b[0m \u001b[0;32mfor\u001b[0m \u001b[0marr\u001b[0m \u001b[0;32min\u001b[0m \u001b[0marrays\u001b[0m\u001b[0;34m\u001b[0m\u001b[0;34m\u001b[0m\u001b[0m\n\u001b[1;32m    253\u001b[0m         ]\n\u001b[0;32m--> 254\u001b[0;31m     \u001b[0;32mreturn\u001b[0m \u001b[0marrays_to_mgr\u001b[0m\u001b[0;34m(\u001b[0m\u001b[0marrays\u001b[0m\u001b[0;34m,\u001b[0m \u001b[0mdata_names\u001b[0m\u001b[0;34m,\u001b[0m \u001b[0mindex\u001b[0m\u001b[0;34m,\u001b[0m \u001b[0mcolumns\u001b[0m\u001b[0;34m,\u001b[0m \u001b[0mdtype\u001b[0m\u001b[0;34m=\u001b[0m\u001b[0mdtype\u001b[0m\u001b[0;34m)\u001b[0m\u001b[0;34m\u001b[0m\u001b[0;34m\u001b[0m\u001b[0m\n\u001b[0m\u001b[1;32m    255\u001b[0m \u001b[0;34m\u001b[0m\u001b[0m\n\u001b[1;32m    256\u001b[0m \u001b[0;34m\u001b[0m\u001b[0m\n",
      "\u001b[0;32m~/opt/anaconda3/lib/python3.7/site-packages/pandas/core/internals/construction.py\u001b[0m in \u001b[0;36marrays_to_mgr\u001b[0;34m(arrays, arr_names, index, columns, dtype)\u001b[0m\n\u001b[1;32m     62\u001b[0m     \u001b[0;31m# figure out the index, if necessary\u001b[0m\u001b[0;34m\u001b[0m\u001b[0;34m\u001b[0m\u001b[0;34m\u001b[0m\u001b[0m\n\u001b[1;32m     63\u001b[0m     \u001b[0;32mif\u001b[0m \u001b[0mindex\u001b[0m \u001b[0;32mis\u001b[0m \u001b[0;32mNone\u001b[0m\u001b[0;34m:\u001b[0m\u001b[0;34m\u001b[0m\u001b[0;34m\u001b[0m\u001b[0m\n\u001b[0;32m---> 64\u001b[0;31m         \u001b[0mindex\u001b[0m \u001b[0;34m=\u001b[0m \u001b[0mextract_index\u001b[0m\u001b[0;34m(\u001b[0m\u001b[0marrays\u001b[0m\u001b[0;34m)\u001b[0m\u001b[0;34m\u001b[0m\u001b[0;34m\u001b[0m\u001b[0m\n\u001b[0m\u001b[1;32m     65\u001b[0m     \u001b[0;32melse\u001b[0m\u001b[0;34m:\u001b[0m\u001b[0;34m\u001b[0m\u001b[0;34m\u001b[0m\u001b[0m\n\u001b[1;32m     66\u001b[0m         \u001b[0mindex\u001b[0m \u001b[0;34m=\u001b[0m \u001b[0mensure_index\u001b[0m\u001b[0;34m(\u001b[0m\u001b[0mindex\u001b[0m\u001b[0;34m)\u001b[0m\u001b[0;34m\u001b[0m\u001b[0;34m\u001b[0m\u001b[0m\n",
      "\u001b[0;32m~/opt/anaconda3/lib/python3.7/site-packages/pandas/core/internals/construction.py\u001b[0m in \u001b[0;36mextract_index\u001b[0;34m(data)\u001b[0m\n\u001b[1;32m    353\u001b[0m \u001b[0;34m\u001b[0m\u001b[0m\n\u001b[1;32m    354\u001b[0m         \u001b[0;32mif\u001b[0m \u001b[0;32mnot\u001b[0m \u001b[0mindexes\u001b[0m \u001b[0;32mand\u001b[0m \u001b[0;32mnot\u001b[0m \u001b[0mraw_lengths\u001b[0m\u001b[0;34m:\u001b[0m\u001b[0;34m\u001b[0m\u001b[0;34m\u001b[0m\u001b[0m\n\u001b[0;32m--> 355\u001b[0;31m             \u001b[0;32mraise\u001b[0m \u001b[0mValueError\u001b[0m\u001b[0;34m(\u001b[0m\u001b[0;34m\"If using all scalar values, you must pass an index\"\u001b[0m\u001b[0;34m)\u001b[0m\u001b[0;34m\u001b[0m\u001b[0;34m\u001b[0m\u001b[0m\n\u001b[0m\u001b[1;32m    356\u001b[0m \u001b[0;34m\u001b[0m\u001b[0m\n\u001b[1;32m    357\u001b[0m         \u001b[0;32mif\u001b[0m \u001b[0mhave_series\u001b[0m\u001b[0;34m:\u001b[0m\u001b[0;34m\u001b[0m\u001b[0;34m\u001b[0m\u001b[0m\n",
      "\u001b[0;31mValueError\u001b[0m: If using all scalar values, you must pass an index"
     ]
    }
   ],
   "source": [
    "pd.DataFrame(r1)"
   ]
  },
  {
   "cell_type": "code",
   "execution_count": null,
   "metadata": {},
   "outputs": [],
   "source": []
  },
  {
   "cell_type": "code",
   "execution_count": null,
   "metadata": {},
   "outputs": [],
   "source": []
  },
  {
   "cell_type": "code",
   "execution_count": null,
   "metadata": {},
   "outputs": [],
   "source": []
  },
  {
   "cell_type": "code",
   "execution_count": null,
   "metadata": {},
   "outputs": [],
   "source": []
  }
 ],
 "metadata": {
  "kernelspec": {
   "display_name": "Python 3",
   "language": "python",
   "name": "python3"
  },
  "language_info": {
   "codemirror_mode": {
    "name": "ipython",
    "version": 3
   },
   "file_extension": ".py",
   "mimetype": "text/x-python",
   "name": "python",
   "nbconvert_exporter": "python",
   "pygments_lexer": "ipython3",
   "version": "3.7.6"
  }
 },
 "nbformat": 4,
 "nbformat_minor": 4
}
