{
 "cells": [
  {
   "cell_type": "markdown",
   "metadata": {},
   "source": [
    "# What is the relation between shark attacks, seasons and human activity? \n",
    "  ###  - Seasonality of the attacks\n",
    "  ###  - Human activity vs shark attack\n",
    "  ###  - Activity vs fatal shark attack"
   ]
  },
  {
   "cell_type": "code",
   "execution_count": 46,
   "metadata": {},
   "outputs": [],
   "source": [
    "import pandas as pd\n",
    "import re\n",
    "import matplotlib.pyplot as plt"
   ]
  },
  {
   "cell_type": "code",
   "execution_count": 47,
   "metadata": {},
   "outputs": [],
   "source": [
    "#import data into python\n",
    "df=pd.read_csv('/Users/jidekickpush/Documents/GitHub/0323_2020DATAPAR/Labs/module_1/Pipelines-Project/Data/GSAF5.csv', encoding ='cp1252')\n",
    "\n",
    "#Table overview\n",
    "#df.head()"
   ]
  },
  {
   "cell_type": "code",
   "execution_count": 48,
   "metadata": {},
   "outputs": [
    {
     "data": {
      "text/plain": [
       "Case Number               object\n",
       "Date                      object\n",
       "Year                       int64\n",
       "Type                      object\n",
       "Country                   object\n",
       "Area                      object\n",
       "Location                  object\n",
       "Activity                  object\n",
       "Name                      object\n",
       "Sex                       object\n",
       "Age                       object\n",
       "Injury                    object\n",
       "Fatal (Y/N)               object\n",
       "Time                      object\n",
       "Species                   object\n",
       "Investigator or Source    object\n",
       "pdf                       object\n",
       "href formula              object\n",
       "href                      object\n",
       "Case Number.1             object\n",
       "Case Number.2             object\n",
       "original order             int64\n",
       "Unnamed: 22               object\n",
       "Unnamed: 23               object\n",
       "dtype: object"
      ]
     },
     "execution_count": 48,
     "metadata": {},
     "output_type": "execute_result"
    }
   ],
   "source": [
    "#Check data types\n",
    "df.dtypes"
   ]
  },
  {
   "cell_type": "markdown",
   "metadata": {},
   "source": [
    "### From the table overview, we can see the following statements:\n",
    "* columns 'unnamed: 22' and 'unnamed: 23' are not referenced in the description of the dataset and doesn't contain any (relevant) information.\n",
    "* columns 'Case Number.1' and 'Case Number.2'are duplicates of 'Case Number'\n",
    "* columns 'date' cannot be nomalised cause of the differents syntaxes but the information can be extract from column 'Case Number'\n",
    "* Non information relevant columns for the study:\n",
    "* 'Type','Name', 'Sex ','Age','Injury','Time','Species ','Investigator or Source','pdf','href formula', 'href'\n",
    " * warning : name colunm 'Sex '  and 'Species ' has a space after the name"
   ]
  },
  {
   "cell_type": "code",
   "execution_count": 49,
   "metadata": {},
   "outputs": [
    {
     "data": {
      "text/plain": [
       "Country                     43\n",
       "Area                       402\n",
       "Location                   496\n",
       "Activity                   527\n",
       "Name                       200\n",
       "Sex                        567\n",
       "Age                       2681\n",
       "Injury                      27\n",
       "Fatal (Y/N)                 19\n",
       "Time                      3213\n",
       "Species                   2934\n",
       "Investigator or Source      15\n",
       "href formula                 1\n",
       "href                         3\n",
       "Unnamed: 22               5991\n",
       "Unnamed: 23               5990\n",
       "dtype: int64"
      ]
     },
     "execution_count": 49,
     "metadata": {},
     "output_type": "execute_result"
    }
   ],
   "source": [
    "null_cols = df.isnull().sum()\n",
    "null_cols\n",
    "null_cols[null_cols > 0]"
   ]
  },
  {
   "cell_type": "code",
   "execution_count": 50,
   "metadata": {},
   "outputs": [],
   "source": [
    "df=df.drop(['Unnamed: 22','Unnamed: 23','Case Number.1','Case Number.2','Date','Type','Name', 'Sex ','Age','Injury','Time','Species ','Investigator or Source','pdf','href formula', 'href'], axis=1)\n",
    "#df"
   ]
  },
  {
   "cell_type": "markdown",
   "metadata": {},
   "source": [
    "### Column. renaming\n",
    "#### Some values of the columns 'Country' aren't clear enough, proceed to rename by 'Place', since several entrances refer to seas or regions broader than a country.\n",
    "#### Rename column 'original order' as 'Id'"
   ]
  },
  {
   "cell_type": "code",
   "execution_count": 51,
   "metadata": {},
   "outputs": [],
   "source": [
    "df.rename(columns={'original order':'Id','Country':'Place'}, inplace = True)\n",
    "#df"
   ]
  },
  {
   "cell_type": "markdown",
   "metadata": {},
   "source": [
    "### Among the total 5900 events registered, to evaluate only statistically relevant data, events registered before 1900 will not be considered"
   ]
  },
  {
   "cell_type": "code",
   "execution_count": 52,
   "metadata": {},
   "outputs": [],
   "source": [
    "df=df[df['Year']>1900]\n",
    "#df"
   ]
  },
  {
   "cell_type": "code",
   "execution_count": 53,
   "metadata": {},
   "outputs": [
    {
     "data": {
      "text/plain": [
       "(5311, 8)"
      ]
     },
     "execution_count": 53,
     "metadata": {},
     "output_type": "execute_result"
    }
   ],
   "source": [
    "df.shape"
   ]
  },
  {
   "cell_type": "markdown",
   "metadata": {},
   "source": [
    "### Data string cleaning an all df\n",
    "* remove end ?\n",
    "* remove start/end blank spaces"
   ]
  },
  {
   "cell_type": "code",
   "execution_count": 54,
   "metadata": {},
   "outputs": [],
   "source": [
    "df.replace(regex={\n",
    "    r'\\?':'', \n",
    "    r'\\s\\/\\s[A-Z\\s]+': '', \n",
    "    r'\\s$':'', r'^\\s':''\n",
    "}, inplace=True)"
   ]
  },
  {
   "cell_type": "markdown",
   "metadata": {},
   "source": [
    "## Normalizing column Activity\n",
    " * Check how many rows are empty and replace them by 'Not Identified'\n",
    " * Get the most common words from the activities in thee way to reduce from the original 1418 unique values into 9  activities:\n",
    "        * 'Surfing', 'Fishing', 'Bathing', 'Swimming', 'Snorkeling','Others', 'Not_Identify', 'Diving', 'Boating'"
   ]
  },
  {
   "cell_type": "code",
   "execution_count": 55,
   "metadata": {},
   "outputs": [],
   "source": [
    "df['Activity'] = df['Activity'].fillna('Not_Identified')"
   ]
  },
  {
   "cell_type": "code",
   "execution_count": 56,
   "metadata": {},
   "outputs": [
    {
     "data": {
      "text/plain": [
       "Surfing                                                                                                                                                            904\n",
       "Swimming                                                                                                                                                           755\n",
       "Not_Identified                                                                                                                                                     425\n",
       "Fishing                                                                                                                                                            377\n",
       "Spearfishing                                                                                                                                                       324\n",
       "                                                                                                                                                                  ... \n",
       "H.M.S. Cornwall & H.M.S.Dorsetshire sunk by Japanese dive bombers. Officers & men in the water formed a circle with 60 of their dead in the center for 36 hours      1\n",
       "Lobstering                                                                                                                                                           1\n",
       "Fishing for yellowtail                                                                                                                                               1\n",
       "On expedition filming a feature movie & standing on tripod                                                                                                           1\n",
       "Paddling & sailing from Buenos Aires to Miami                                                                                                                        1\n",
       "Name: Activity, Length: 1271, dtype: int64"
      ]
     },
     "execution_count": 56,
     "metadata": {},
     "output_type": "execute_result"
    }
   ],
   "source": [
    "activity_list = df['Activity'].value_counts()\n",
    "activity_list\n",
    "#print(len(activity_list))\n",
    "#print(activity_list[0:60])"
   ]
  },
  {
   "cell_type": "code",
   "execution_count": 57,
   "metadata": {},
   "outputs": [
    {
     "name": "stdout",
     "output_type": "stream",
     "text": [
      "1271\n"
     ]
    }
   ],
   "source": [
    "print(len(df['Activity'].unique()))"
   ]
  },
  {
   "cell_type": "code",
   "execution_count": 58,
   "metadata": {},
   "outputs": [
    {
     "data": {
      "text/plain": [
       "[('Surfing', 904),\n",
       " ('Swimming', 755),\n",
       " ('Not_Identified', 425),\n",
       " ('Fishing', 377),\n",
       " ('Spearfishing', 324),\n",
       " ('Wading', 140),\n",
       " ('Diving', 105),\n",
       " ('Standing', 92),\n",
       " ('Snorkeling', 76),\n",
       " ('Scuba diving', 74),\n",
       " ('Bathing', 74),\n",
       " ('Body boarding', 55),\n",
       " ('Body surfing', 50),\n",
       " ('Treading water', 32),\n",
       " ('Kayaking', 30),\n",
       " ('Boogie boarding', 28),\n",
       " ('Free diving', 25),\n",
       " ('Pearl diving', 22),\n",
       " ('Windsurfing', 18),\n",
       " ('Surf skiing', 18)]"
      ]
     },
     "execution_count": 58,
     "metadata": {},
     "output_type": "execute_result"
    }
   ],
   "source": [
    "from collections import Counter\n",
    "list_of_words = df['Activity'].values.tolist()\n",
    "l_w = [str(i) for i in list_of_words]\n",
    "', '.join(l_w)\n",
    "Counter = Counter(l_w)\n",
    "most_occur = Counter.most_common(20)\n",
    "most_occur"
   ]
  },
  {
   "cell_type": "code",
   "execution_count": 14,
   "metadata": {},
   "outputs": [],
   "source": [
    "df.rename(columns={'Activity':'unActivity'}, inplace=True)\n",
    "df_activity = df['unActivity']\n",
    "activity = []\n",
    "for a in df_activity:\n",
    "    if re.search(r'Not_y[\\w\\s\\,]+|Not_[\\w\\s\\,]+|[\\w\\s\\,]+Not_[\\w\\s\\,]+', str(a)):\n",
    "        a = 'Not_Identified'\n",
    "    elif re.search(r'Surf[\\w\\s\\,]+|surf[\\w\\s\\,]+|[\\w\\s\\,]+surf[\\w\\s\\,]+', str(a)):\n",
    "        a = 'Surfing'\n",
    "    elif re.search(r'Board[\\w\\s\\,]+|board[\\w\\s\\,]+|[\\w\\s\\,]+board[\\w\\s\\,]+', str(a)):\n",
    "        a = 'Surfing'\n",
    "    elif re.search(r'Fish[\\w\\s\\,]+|fish[\\w\\s\\,]+|[\\w\\s\\,]+fish[\\w\\s\\,]+', str(a)):\n",
    "        a = 'Fishing'\n",
    "    elif re.search(r'Spear[\\w\\s\\,]+|spear[\\w\\s\\,]+|[\\w\\s\\,]+spear[\\w\\s\\,]+', str(a)):\n",
    "        a = 'Fishing'\n",
    "    elif re.search(r'Swim[\\w\\s\\,]+|swim[\\w\\s\\,]+|[\\w\\s\\,]+swim[\\w\\s\\,]+', str(a)):\n",
    "        a = 'Swimming'\n",
    "    elif re.search(r'Bath[\\w\\s\\,]+|bath[\\w\\s\\,]+|[\\w\\s\\,]+bath[\\w\\s\\,]+', str(a)):\n",
    "        a = 'Bathing'\n",
    "    elif re.search(r'Wadi[\\w\\s\\,]+|wadi[\\w\\s\\,]+|[\\w\\s\\,]+wadi[\\w\\s\\,]+', str(a)):\n",
    "        a = 'Bathing'\n",
    "    elif re.search(r'Snor[\\w\\s\\,]+|snor[\\w\\s\\,]+|[\\w\\s\\,]+snor[\\w\\s\\,]+', str(a)):\n",
    "        a = 'Snorkeling'\n",
    "    elif re.search(r'Div[\\w\\s\\,]+|div[\\w\\s\\,]+|[\\w\\s\\,]+div[\\w\\s\\,]+', str(a)):\n",
    "        a = 'Diving'\n",
    "    elif re.search(r'Boat[\\w\\s\\,]+|boat[\\w\\s\\,]+|[\\w\\s\\,]+boat[\\w\\s\\,]+', str(a)):\n",
    "        a = 'Boating'\n",
    "    elif re.search(r'Sail[\\w\\s\\,]+|sail[\\w\\s\\,]+|[\\w\\s\\,]+sail[\\w\\s\\,]+', str(a)):\n",
    "        a = 'Boating'\n",
    "    elif re.search(r'Crui[\\w\\s\\,]+|crui[\\w\\s\\,]+|[\\w\\s\\,]+crui[\\w\\s\\,]+', str(a)):\n",
    "        a = 'Boating'\n",
    "    else: a = 'Others'\n",
    "    activity.append(a)\n",
    "df['Activity'] = activity\n",
    "df = df.drop(['unActivity'], axis=1)"
   ]
  },
  {
   "cell_type": "markdown",
   "metadata": {},
   "source": [
    "#### Check the proportion of the activity and decision to do not keep 'Not_Identify' category as the represent less than 10% of the data"
   ]
  },
  {
   "cell_type": "code",
   "execution_count": 15,
   "metadata": {},
   "outputs": [
    {
     "data": {
      "text/plain": [
       "Surfing           25.381284\n",
       "Fishing           19.638486\n",
       "Swimming          16.720015\n",
       "Others            14.987761\n",
       "Diving             8.265863\n",
       "Not_Identified     8.002259\n",
       "Bathing            4.500094\n",
       "Snorkeling         1.468650\n",
       "Boating            1.035587\n",
       "Name: Activity, dtype: float64"
      ]
     },
     "execution_count": 15,
     "metadata": {},
     "output_type": "execute_result"
    }
   ],
   "source": [
    "Relevant_activity_check=df['Activity'].value_counts(normalize=True) * 100\n",
    "Relevant_activity_check"
   ]
  },
  {
   "cell_type": "code",
   "execution_count": 16,
   "metadata": {},
   "outputs": [],
   "source": [
    "# Get 'Not_Identified' of indexes for which column month has value 00\n",
    "indexActivity = df[ df['Activity'] == 'Not_Identified' ].index\n",
    " \n",
    "# Delete these row indexes from dataFrame\n",
    "df.drop(indexActivity , inplace=True)"
   ]
  },
  {
   "cell_type": "code",
   "execution_count": 17,
   "metadata": {},
   "outputs": [],
   "source": [
    "#df['Activity'].unique()"
   ]
  },
  {
   "cell_type": "code",
   "execution_count": 18,
   "metadata": {},
   "outputs": [
    {
     "data": {
      "text/plain": [
       "[('Surfing', 1348),\n",
       " ('Fishing', 1043),\n",
       " ('Swimming', 888),\n",
       " ('Others', 796),\n",
       " ('Diving', 439),\n",
       " ('Bathing', 239),\n",
       " ('Snorkeling', 78),\n",
       " ('Boating', 55)]"
      ]
     },
     "execution_count": 18,
     "metadata": {},
     "output_type": "execute_result"
    }
   ],
   "source": [
    "from collections import Counter\n",
    "list_of_words2 = df['Activity'].values.tolist()\n",
    "l_w2 = [str(i) for i in list_of_words2]\n",
    "', '.join(l_w2)\n",
    "Counter2 = Counter(l_w2)\n",
    "most_occur2 = Counter2.most_common(100)\n",
    "most_occur2"
   ]
  },
  {
   "cell_type": "markdown",
   "metadata": {},
   "source": [
    "## Create a new column for dates, extracting the information from the column 'Case Number'\n",
    "* check if percentage of unrelevant dates : month missing in the data\n",
    "=> drop the rows without specified month (00)"
   ]
  },
  {
   "cell_type": "code",
   "execution_count": 19,
   "metadata": {},
   "outputs": [],
   "source": [
    "df['Date']=df['Case Number']\n",
    "df['Date'].replace(regex = {r'.[A-Za-z]$':''}, inplace = True)"
   ]
  },
  {
   "cell_type": "markdown",
   "metadata": {},
   "source": [
    "## Create a column 'Month' in order to create bins for the season later"
   ]
  },
  {
   "cell_type": "code",
   "execution_count": 20,
   "metadata": {},
   "outputs": [
    {
     "data": {
      "text/plain": [
       "0       9\n",
       "1       9\n",
       "2       9\n",
       "3       9\n",
       "4       9\n",
       "       ..\n",
       "5307    7\n",
       "5308    6\n",
       "5309    6\n",
       "5310    1\n",
       "5311    0\n",
       "Name: Month, Length: 4886, dtype: int64"
      ]
     },
     "execution_count": 20,
     "metadata": {},
     "output_type": "execute_result"
    }
   ],
   "source": [
    "df['Month']=[m[5:7] for m in df['Case Number']]\n",
    "df['Month'].astype(int)"
   ]
  },
  {
   "cell_type": "code",
   "execution_count": 21,
   "metadata": {},
   "outputs": [
    {
     "data": {
      "text/plain": [
       "07    10.929185\n",
       "08    10.130986\n",
       "09     9.230454\n",
       "01     8.575522\n",
       "06     8.248056\n",
       "10     7.552190\n",
       "12     7.101924\n",
       "04     7.081457\n",
       "03     6.938191\n",
       "11     6.692591\n",
       "02     6.426525\n",
       "05     6.385591\n",
       "00     4.707327\n",
       "Name: Month, dtype: float64"
      ]
     },
     "execution_count": 21,
     "metadata": {},
     "output_type": "execute_result"
    }
   ],
   "source": [
    "null_month_check=df['Month'].value_counts(normalize=True) * 100\n",
    "null_month_check"
   ]
  },
  {
   "cell_type": "markdown",
   "metadata": {},
   "source": [
    "#### Percentage of month not specified in the df is less than 10%, I decided to do not keep them:"
   ]
  },
  {
   "cell_type": "code",
   "execution_count": 22,
   "metadata": {},
   "outputs": [],
   "source": [
    "# Get 'Months' of indexes for which column month has value 00\n",
    "indexMonth = df[ df['Month'] == '00' ].index\n",
    " \n",
    "# Delete these row indexes from dataFrame\n",
    "df.drop(indexMonth , inplace=True)"
   ]
  },
  {
   "cell_type": "markdown",
   "metadata": {},
   "source": [
    "## Reformating 'Fatal' column\n",
    "* Change column types\n",
    "* Change the column Fatal (Y/N) to a boolean, normalizing all the entries to True or False.\n",
    "* The few unknown values have been trated as non fatal."
   ]
  },
  {
   "cell_type": "code",
   "execution_count": 23,
   "metadata": {},
   "outputs": [
    {
     "data": {
      "text/plain": [
       "N          3613\n",
       "Y          1007\n",
       "UNKNOWN      28\n",
       "Name: Fatal (Y/N), dtype: int64"
      ]
     },
     "execution_count": 23,
     "metadata": {},
     "output_type": "execute_result"
    }
   ],
   "source": [
    "df['Fatal (Y/N)'].value_counts()"
   ]
  },
  {
   "cell_type": "code",
   "execution_count": 31,
   "metadata": {},
   "outputs": [
    {
     "data": {
      "text/plain": [
       "0       True\n",
       "1       True\n",
       "2       True\n",
       "3       True\n",
       "4       True\n",
       "        ... \n",
       "5306    True\n",
       "5307    True\n",
       "5308    True\n",
       "5309    True\n",
       "5310    True\n",
       "Name: Fatal, Length: 4656, dtype: bool"
      ]
     },
     "execution_count": 31,
     "metadata": {},
     "output_type": "execute_result"
    }
   ],
   "source": [
    "df.rename(columns={ 'Fatal (Y/N)' : 'Fatal'}, inplace=True)\n",
    "df = df.replace({'Fatal': { 'N' : '0', 'Y' : '1', 'n' : '0', 'y' : '1', 'UNKNOWN' : '0', 'F' : '0', '#VALUE!' : '0'}})\n",
    "df['Fatal'].astype(bool)"
   ]
  },
  {
   "cell_type": "code",
   "execution_count": 25,
   "metadata": {},
   "outputs": [
    {
     "data": {
      "text/html": [
       "<div>\n",
       "<style scoped>\n",
       "    .dataframe tbody tr th:only-of-type {\n",
       "        vertical-align: middle;\n",
       "    }\n",
       "\n",
       "    .dataframe tbody tr th {\n",
       "        vertical-align: top;\n",
       "    }\n",
       "\n",
       "    .dataframe thead th {\n",
       "        text-align: right;\n",
       "    }\n",
       "</style>\n",
       "<table border=\"1\" class=\"dataframe\">\n",
       "  <thead>\n",
       "    <tr style=\"text-align: right;\">\n",
       "      <th></th>\n",
       "      <th>Case Number</th>\n",
       "      <th>Year</th>\n",
       "      <th>Place</th>\n",
       "      <th>Area</th>\n",
       "      <th>Location</th>\n",
       "      <th>Fatal</th>\n",
       "      <th>Id</th>\n",
       "      <th>Activity</th>\n",
       "      <th>Date</th>\n",
       "      <th>Month</th>\n",
       "    </tr>\n",
       "  </thead>\n",
       "  <tbody>\n",
       "    <tr>\n",
       "      <th>0</th>\n",
       "      <td>2016.09.18.c</td>\n",
       "      <td>2016</td>\n",
       "      <td>USA</td>\n",
       "      <td>Florida</td>\n",
       "      <td>New Smyrna Beach, Volusia County</td>\n",
       "      <td>0</td>\n",
       "      <td>5993</td>\n",
       "      <td>Surfing</td>\n",
       "      <td>2016.09.18</td>\n",
       "      <td>09</td>\n",
       "    </tr>\n",
       "    <tr>\n",
       "      <th>1</th>\n",
       "      <td>2016.09.18.b</td>\n",
       "      <td>2016</td>\n",
       "      <td>USA</td>\n",
       "      <td>Florida</td>\n",
       "      <td>New Smyrna Beach, Volusia County</td>\n",
       "      <td>0</td>\n",
       "      <td>5992</td>\n",
       "      <td>Surfing</td>\n",
       "      <td>2016.09.18</td>\n",
       "      <td>09</td>\n",
       "    </tr>\n",
       "    <tr>\n",
       "      <th>2</th>\n",
       "      <td>2016.09.18.a</td>\n",
       "      <td>2016</td>\n",
       "      <td>USA</td>\n",
       "      <td>Florida</td>\n",
       "      <td>New Smyrna Beach, Volusia County</td>\n",
       "      <td>0</td>\n",
       "      <td>5991</td>\n",
       "      <td>Surfing</td>\n",
       "      <td>2016.09.18</td>\n",
       "      <td>09</td>\n",
       "    </tr>\n",
       "    <tr>\n",
       "      <th>3</th>\n",
       "      <td>2016.09.17</td>\n",
       "      <td>2016</td>\n",
       "      <td>AUSTRALIA</td>\n",
       "      <td>Victoria</td>\n",
       "      <td>Thirteenth Beach</td>\n",
       "      <td>0</td>\n",
       "      <td>5990</td>\n",
       "      <td>Surfing</td>\n",
       "      <td>2016.09.17</td>\n",
       "      <td>09</td>\n",
       "    </tr>\n",
       "    <tr>\n",
       "      <th>4</th>\n",
       "      <td>2016.09.15</td>\n",
       "      <td>2016</td>\n",
       "      <td>AUSTRALIA</td>\n",
       "      <td>Victoria</td>\n",
       "      <td>Bells Beach</td>\n",
       "      <td>0</td>\n",
       "      <td>5989</td>\n",
       "      <td>Surfing</td>\n",
       "      <td>2016.09.15</td>\n",
       "      <td>09</td>\n",
       "    </tr>\n",
       "    <tr>\n",
       "      <th>...</th>\n",
       "      <td>...</td>\n",
       "      <td>...</td>\n",
       "      <td>...</td>\n",
       "      <td>...</td>\n",
       "      <td>...</td>\n",
       "      <td>...</td>\n",
       "      <td>...</td>\n",
       "      <td>...</td>\n",
       "      <td>...</td>\n",
       "      <td>...</td>\n",
       "    </tr>\n",
       "    <tr>\n",
       "      <th>5306</th>\n",
       "      <td>1901.07.30</td>\n",
       "      <td>1901</td>\n",
       "      <td>SOUTH AFRICA</td>\n",
       "      <td>Western Cape Province</td>\n",
       "      <td>Windmill Beach</td>\n",
       "      <td>1</td>\n",
       "      <td>687</td>\n",
       "      <td>Swimming</td>\n",
       "      <td>1901.07.30</td>\n",
       "      <td>07</td>\n",
       "    </tr>\n",
       "    <tr>\n",
       "      <th>5307</th>\n",
       "      <td>1901.07.17</td>\n",
       "      <td>1901</td>\n",
       "      <td>ITALY</td>\n",
       "      <td>Syracuse</td>\n",
       "      <td>Capo Santa Croce</td>\n",
       "      <td>NaN</td>\n",
       "      <td>686</td>\n",
       "      <td>Swimming</td>\n",
       "      <td>1901.07.17</td>\n",
       "      <td>07</td>\n",
       "    </tr>\n",
       "    <tr>\n",
       "      <th>5308</th>\n",
       "      <td>1901.06.29.R</td>\n",
       "      <td>1901</td>\n",
       "      <td>YEMEN</td>\n",
       "      <td>Aden</td>\n",
       "      <td>NaN</td>\n",
       "      <td>0</td>\n",
       "      <td>685</td>\n",
       "      <td>Diving</td>\n",
       "      <td>1901.06.29</td>\n",
       "      <td>06</td>\n",
       "    </tr>\n",
       "    <tr>\n",
       "      <th>5309</th>\n",
       "      <td>1901.06.24</td>\n",
       "      <td>1901</td>\n",
       "      <td>PHILIPPINES</td>\n",
       "      <td>Western Viscayas</td>\n",
       "      <td>Island of Panay, Iliolo</td>\n",
       "      <td>0</td>\n",
       "      <td>684</td>\n",
       "      <td>Swimming</td>\n",
       "      <td>1901.06.24</td>\n",
       "      <td>06</td>\n",
       "    </tr>\n",
       "    <tr>\n",
       "      <th>5310</th>\n",
       "      <td>1901.01.30</td>\n",
       "      <td>1901</td>\n",
       "      <td>AUSTRALIA</td>\n",
       "      <td>Queensland</td>\n",
       "      <td>Brisbane</td>\n",
       "      <td>1</td>\n",
       "      <td>683</td>\n",
       "      <td>Bathing</td>\n",
       "      <td>1901.01.30</td>\n",
       "      <td>01</td>\n",
       "    </tr>\n",
       "  </tbody>\n",
       "</table>\n",
       "<p>4656 rows × 10 columns</p>\n",
       "</div>"
      ],
      "text/plain": [
       "       Case Number  Year         Place                   Area  \\\n",
       "0     2016.09.18.c  2016           USA                Florida   \n",
       "1     2016.09.18.b  2016           USA                Florida   \n",
       "2     2016.09.18.a  2016           USA                Florida   \n",
       "3       2016.09.17  2016     AUSTRALIA               Victoria   \n",
       "4       2016.09.15  2016     AUSTRALIA               Victoria   \n",
       "...            ...   ...           ...                    ...   \n",
       "5306    1901.07.30  1901  SOUTH AFRICA  Western Cape Province   \n",
       "5307    1901.07.17  1901         ITALY               Syracuse   \n",
       "5308  1901.06.29.R  1901         YEMEN                   Aden   \n",
       "5309    1901.06.24  1901   PHILIPPINES       Western Viscayas   \n",
       "5310    1901.01.30  1901     AUSTRALIA             Queensland   \n",
       "\n",
       "                              Location Fatal    Id  Activity        Date Month  \n",
       "0     New Smyrna Beach, Volusia County     0  5993   Surfing  2016.09.18    09  \n",
       "1     New Smyrna Beach, Volusia County     0  5992   Surfing  2016.09.18    09  \n",
       "2     New Smyrna Beach, Volusia County     0  5991   Surfing  2016.09.18    09  \n",
       "3                     Thirteenth Beach     0  5990   Surfing  2016.09.17    09  \n",
       "4                          Bells Beach     0  5989   Surfing  2016.09.15    09  \n",
       "...                                ...   ...   ...       ...         ...   ...  \n",
       "5306                    Windmill Beach     1   687  Swimming  1901.07.30    07  \n",
       "5307                  Capo Santa Croce   NaN   686  Swimming  1901.07.17    07  \n",
       "5308                               NaN     0   685    Diving  1901.06.29    06  \n",
       "5309           Island of Panay, Iliolo     0   684  Swimming  1901.06.24    06  \n",
       "5310                          Brisbane     1   683   Bathing  1901.01.30    01  \n",
       "\n",
       "[4656 rows x 10 columns]"
      ]
     },
     "execution_count": 25,
     "metadata": {},
     "output_type": "execute_result"
    }
   ],
   "source": [
    "df"
   ]
  },
  {
   "cell_type": "markdown",
   "metadata": {},
   "source": [
    "# Final Table¶\n",
    "9 columns with categorized data selected to further analysis.\n",
    "* Reordered for a better lecture\n",
    "* Decide to do not use the column 'Case Number' for the final_table"
   ]
  },
  {
   "cell_type": "code",
   "execution_count": 26,
   "metadata": {},
   "outputs": [
    {
     "data": {
      "text/html": [
       "<div>\n",
       "<style scoped>\n",
       "    .dataframe tbody tr th:only-of-type {\n",
       "        vertical-align: middle;\n",
       "    }\n",
       "\n",
       "    .dataframe tbody tr th {\n",
       "        vertical-align: top;\n",
       "    }\n",
       "\n",
       "    .dataframe thead th {\n",
       "        text-align: right;\n",
       "    }\n",
       "</style>\n",
       "<table border=\"1\" class=\"dataframe\">\n",
       "  <thead>\n",
       "    <tr style=\"text-align: right;\">\n",
       "      <th></th>\n",
       "      <th>Id</th>\n",
       "      <th>Date</th>\n",
       "      <th>Year</th>\n",
       "      <th>Month</th>\n",
       "      <th>Place</th>\n",
       "      <th>Area</th>\n",
       "      <th>Location</th>\n",
       "      <th>Activity</th>\n",
       "      <th>Fatal</th>\n",
       "    </tr>\n",
       "  </thead>\n",
       "  <tbody>\n",
       "    <tr>\n",
       "      <th>0</th>\n",
       "      <td>5993</td>\n",
       "      <td>2016.09.18</td>\n",
       "      <td>2016</td>\n",
       "      <td>09</td>\n",
       "      <td>USA</td>\n",
       "      <td>Florida</td>\n",
       "      <td>New Smyrna Beach, Volusia County</td>\n",
       "      <td>Surfing</td>\n",
       "      <td>0</td>\n",
       "    </tr>\n",
       "    <tr>\n",
       "      <th>1</th>\n",
       "      <td>5992</td>\n",
       "      <td>2016.09.18</td>\n",
       "      <td>2016</td>\n",
       "      <td>09</td>\n",
       "      <td>USA</td>\n",
       "      <td>Florida</td>\n",
       "      <td>New Smyrna Beach, Volusia County</td>\n",
       "      <td>Surfing</td>\n",
       "      <td>0</td>\n",
       "    </tr>\n",
       "    <tr>\n",
       "      <th>2</th>\n",
       "      <td>5991</td>\n",
       "      <td>2016.09.18</td>\n",
       "      <td>2016</td>\n",
       "      <td>09</td>\n",
       "      <td>USA</td>\n",
       "      <td>Florida</td>\n",
       "      <td>New Smyrna Beach, Volusia County</td>\n",
       "      <td>Surfing</td>\n",
       "      <td>0</td>\n",
       "    </tr>\n",
       "    <tr>\n",
       "      <th>3</th>\n",
       "      <td>5990</td>\n",
       "      <td>2016.09.17</td>\n",
       "      <td>2016</td>\n",
       "      <td>09</td>\n",
       "      <td>AUSTRALIA</td>\n",
       "      <td>Victoria</td>\n",
       "      <td>Thirteenth Beach</td>\n",
       "      <td>Surfing</td>\n",
       "      <td>0</td>\n",
       "    </tr>\n",
       "    <tr>\n",
       "      <th>4</th>\n",
       "      <td>5989</td>\n",
       "      <td>2016.09.15</td>\n",
       "      <td>2016</td>\n",
       "      <td>09</td>\n",
       "      <td>AUSTRALIA</td>\n",
       "      <td>Victoria</td>\n",
       "      <td>Bells Beach</td>\n",
       "      <td>Surfing</td>\n",
       "      <td>0</td>\n",
       "    </tr>\n",
       "    <tr>\n",
       "      <th>...</th>\n",
       "      <td>...</td>\n",
       "      <td>...</td>\n",
       "      <td>...</td>\n",
       "      <td>...</td>\n",
       "      <td>...</td>\n",
       "      <td>...</td>\n",
       "      <td>...</td>\n",
       "      <td>...</td>\n",
       "      <td>...</td>\n",
       "    </tr>\n",
       "    <tr>\n",
       "      <th>5306</th>\n",
       "      <td>687</td>\n",
       "      <td>1901.07.30</td>\n",
       "      <td>1901</td>\n",
       "      <td>07</td>\n",
       "      <td>SOUTH AFRICA</td>\n",
       "      <td>Western Cape Province</td>\n",
       "      <td>Windmill Beach</td>\n",
       "      <td>Swimming</td>\n",
       "      <td>1</td>\n",
       "    </tr>\n",
       "    <tr>\n",
       "      <th>5307</th>\n",
       "      <td>686</td>\n",
       "      <td>1901.07.17</td>\n",
       "      <td>1901</td>\n",
       "      <td>07</td>\n",
       "      <td>ITALY</td>\n",
       "      <td>Syracuse</td>\n",
       "      <td>Capo Santa Croce</td>\n",
       "      <td>Swimming</td>\n",
       "      <td>NaN</td>\n",
       "    </tr>\n",
       "    <tr>\n",
       "      <th>5308</th>\n",
       "      <td>685</td>\n",
       "      <td>1901.06.29</td>\n",
       "      <td>1901</td>\n",
       "      <td>06</td>\n",
       "      <td>YEMEN</td>\n",
       "      <td>Aden</td>\n",
       "      <td>NaN</td>\n",
       "      <td>Diving</td>\n",
       "      <td>0</td>\n",
       "    </tr>\n",
       "    <tr>\n",
       "      <th>5309</th>\n",
       "      <td>684</td>\n",
       "      <td>1901.06.24</td>\n",
       "      <td>1901</td>\n",
       "      <td>06</td>\n",
       "      <td>PHILIPPINES</td>\n",
       "      <td>Western Viscayas</td>\n",
       "      <td>Island of Panay, Iliolo</td>\n",
       "      <td>Swimming</td>\n",
       "      <td>0</td>\n",
       "    </tr>\n",
       "    <tr>\n",
       "      <th>5310</th>\n",
       "      <td>683</td>\n",
       "      <td>1901.01.30</td>\n",
       "      <td>1901</td>\n",
       "      <td>01</td>\n",
       "      <td>AUSTRALIA</td>\n",
       "      <td>Queensland</td>\n",
       "      <td>Brisbane</td>\n",
       "      <td>Bathing</td>\n",
       "      <td>1</td>\n",
       "    </tr>\n",
       "  </tbody>\n",
       "</table>\n",
       "<p>4656 rows × 9 columns</p>\n",
       "</div>"
      ],
      "text/plain": [
       "        Id        Date  Year Month         Place                   Area  \\\n",
       "0     5993  2016.09.18  2016    09           USA                Florida   \n",
       "1     5992  2016.09.18  2016    09           USA                Florida   \n",
       "2     5991  2016.09.18  2016    09           USA                Florida   \n",
       "3     5990  2016.09.17  2016    09     AUSTRALIA               Victoria   \n",
       "4     5989  2016.09.15  2016    09     AUSTRALIA               Victoria   \n",
       "...    ...         ...   ...   ...           ...                    ...   \n",
       "5306   687  1901.07.30  1901    07  SOUTH AFRICA  Western Cape Province   \n",
       "5307   686  1901.07.17  1901    07         ITALY               Syracuse   \n",
       "5308   685  1901.06.29  1901    06         YEMEN                   Aden   \n",
       "5309   684  1901.06.24  1901    06   PHILIPPINES       Western Viscayas   \n",
       "5310   683  1901.01.30  1901    01     AUSTRALIA             Queensland   \n",
       "\n",
       "                              Location  Activity Fatal  \n",
       "0     New Smyrna Beach, Volusia County   Surfing     0  \n",
       "1     New Smyrna Beach, Volusia County   Surfing     0  \n",
       "2     New Smyrna Beach, Volusia County   Surfing     0  \n",
       "3                     Thirteenth Beach   Surfing     0  \n",
       "4                          Bells Beach   Surfing     0  \n",
       "...                                ...       ...   ...  \n",
       "5306                    Windmill Beach  Swimming     1  \n",
       "5307                  Capo Santa Croce  Swimming   NaN  \n",
       "5308                               NaN    Diving     0  \n",
       "5309           Island of Panay, Iliolo  Swimming     0  \n",
       "5310                          Brisbane   Bathing     1  \n",
       "\n",
       "[4656 rows x 9 columns]"
      ]
     },
     "metadata": {},
     "output_type": "display_data"
    }
   ],
   "source": [
    "df = df[['Id','Date', 'Year', 'Month', 'Place', 'Area','Location', 'Activity', 'Fatal']]\n",
    "#final_table.to_csv(\"/Users/jidekickpush/Documents/GitHub/0323_2020DATAPAR/Labs/module_1/Pipelines-Project/output/cleaned_df_GSAF5.csv\")\n",
    "display(df)"
   ]
  },
  {
   "cell_type": "code",
   "execution_count": 27,
   "metadata": {},
   "outputs": [
    {
     "data": {
      "text/plain": [
       "(4656, 9)"
      ]
     },
     "execution_count": 27,
     "metadata": {},
     "output_type": "execute_result"
    }
   ],
   "source": [
    "df.shape"
   ]
  },
  {
   "cell_type": "markdown",
   "metadata": {},
   "source": [
    "# Now can proceed to the analysis"
   ]
  },
  {
   "cell_type": "markdown",
   "metadata": {},
   "source": [
    "#### Binning the data by season on a new column"
   ]
  },
  {
   "cell_type": "code",
   "execution_count": 35,
   "metadata": {},
   "outputs": [
    {
     "data": {
      "text/html": [
       "<div>\n",
       "<style scoped>\n",
       "    .dataframe tbody tr th:only-of-type {\n",
       "        vertical-align: middle;\n",
       "    }\n",
       "\n",
       "    .dataframe tbody tr th {\n",
       "        vertical-align: top;\n",
       "    }\n",
       "\n",
       "    .dataframe thead th {\n",
       "        text-align: right;\n",
       "    }\n",
       "</style>\n",
       "<table border=\"1\" class=\"dataframe\">\n",
       "  <thead>\n",
       "    <tr style=\"text-align: right;\">\n",
       "      <th></th>\n",
       "      <th>Case Number</th>\n",
       "      <th>Year</th>\n",
       "      <th>Place</th>\n",
       "      <th>Area</th>\n",
       "      <th>Location</th>\n",
       "      <th>Fatal</th>\n",
       "      <th>Id</th>\n",
       "      <th>Activity</th>\n",
       "      <th>Date</th>\n",
       "      <th>Month</th>\n",
       "      <th>Season</th>\n",
       "    </tr>\n",
       "  </thead>\n",
       "  <tbody>\n",
       "    <tr>\n",
       "      <th>0</th>\n",
       "      <td>2016.09.18.c</td>\n",
       "      <td>2016</td>\n",
       "      <td>USA</td>\n",
       "      <td>Florida</td>\n",
       "      <td>New Smyrna Beach, Volusia County</td>\n",
       "      <td>0</td>\n",
       "      <td>5993</td>\n",
       "      <td>Surfing</td>\n",
       "      <td>2016.09.18</td>\n",
       "      <td>09</td>\n",
       "      <td>Summer</td>\n",
       "    </tr>\n",
       "    <tr>\n",
       "      <th>1</th>\n",
       "      <td>2016.09.18.b</td>\n",
       "      <td>2016</td>\n",
       "      <td>USA</td>\n",
       "      <td>Florida</td>\n",
       "      <td>New Smyrna Beach, Volusia County</td>\n",
       "      <td>0</td>\n",
       "      <td>5992</td>\n",
       "      <td>Surfing</td>\n",
       "      <td>2016.09.18</td>\n",
       "      <td>09</td>\n",
       "      <td>Summer</td>\n",
       "    </tr>\n",
       "    <tr>\n",
       "      <th>2</th>\n",
       "      <td>2016.09.18.a</td>\n",
       "      <td>2016</td>\n",
       "      <td>USA</td>\n",
       "      <td>Florida</td>\n",
       "      <td>New Smyrna Beach, Volusia County</td>\n",
       "      <td>0</td>\n",
       "      <td>5991</td>\n",
       "      <td>Surfing</td>\n",
       "      <td>2016.09.18</td>\n",
       "      <td>09</td>\n",
       "      <td>Summer</td>\n",
       "    </tr>\n",
       "    <tr>\n",
       "      <th>3</th>\n",
       "      <td>2016.09.17</td>\n",
       "      <td>2016</td>\n",
       "      <td>AUSTRALIA</td>\n",
       "      <td>Victoria</td>\n",
       "      <td>Thirteenth Beach</td>\n",
       "      <td>0</td>\n",
       "      <td>5990</td>\n",
       "      <td>Surfing</td>\n",
       "      <td>2016.09.17</td>\n",
       "      <td>09</td>\n",
       "      <td>Summer</td>\n",
       "    </tr>\n",
       "    <tr>\n",
       "      <th>4</th>\n",
       "      <td>2016.09.15</td>\n",
       "      <td>2016</td>\n",
       "      <td>AUSTRALIA</td>\n",
       "      <td>Victoria</td>\n",
       "      <td>Bells Beach</td>\n",
       "      <td>0</td>\n",
       "      <td>5989</td>\n",
       "      <td>Surfing</td>\n",
       "      <td>2016.09.15</td>\n",
       "      <td>09</td>\n",
       "      <td>Summer</td>\n",
       "    </tr>\n",
       "    <tr>\n",
       "      <th>...</th>\n",
       "      <td>...</td>\n",
       "      <td>...</td>\n",
       "      <td>...</td>\n",
       "      <td>...</td>\n",
       "      <td>...</td>\n",
       "      <td>...</td>\n",
       "      <td>...</td>\n",
       "      <td>...</td>\n",
       "      <td>...</td>\n",
       "      <td>...</td>\n",
       "      <td>...</td>\n",
       "    </tr>\n",
       "    <tr>\n",
       "      <th>5306</th>\n",
       "      <td>1901.07.30</td>\n",
       "      <td>1901</td>\n",
       "      <td>SOUTH AFRICA</td>\n",
       "      <td>Western Cape Province</td>\n",
       "      <td>Windmill Beach</td>\n",
       "      <td>1</td>\n",
       "      <td>687</td>\n",
       "      <td>Swimming</td>\n",
       "      <td>1901.07.30</td>\n",
       "      <td>07</td>\n",
       "      <td>Spring</td>\n",
       "    </tr>\n",
       "    <tr>\n",
       "      <th>5307</th>\n",
       "      <td>1901.07.17</td>\n",
       "      <td>1901</td>\n",
       "      <td>ITALY</td>\n",
       "      <td>Syracuse</td>\n",
       "      <td>Capo Santa Croce</td>\n",
       "      <td>NaN</td>\n",
       "      <td>686</td>\n",
       "      <td>Swimming</td>\n",
       "      <td>1901.07.17</td>\n",
       "      <td>07</td>\n",
       "      <td>Spring</td>\n",
       "    </tr>\n",
       "    <tr>\n",
       "      <th>5308</th>\n",
       "      <td>1901.06.29.R</td>\n",
       "      <td>1901</td>\n",
       "      <td>YEMEN</td>\n",
       "      <td>Aden</td>\n",
       "      <td>NaN</td>\n",
       "      <td>0</td>\n",
       "      <td>685</td>\n",
       "      <td>Diving</td>\n",
       "      <td>1901.06.29</td>\n",
       "      <td>06</td>\n",
       "      <td>Spring</td>\n",
       "    </tr>\n",
       "    <tr>\n",
       "      <th>5309</th>\n",
       "      <td>1901.06.24</td>\n",
       "      <td>1901</td>\n",
       "      <td>PHILIPPINES</td>\n",
       "      <td>Western Viscayas</td>\n",
       "      <td>Island of Panay, Iliolo</td>\n",
       "      <td>0</td>\n",
       "      <td>684</td>\n",
       "      <td>Swimming</td>\n",
       "      <td>1901.06.24</td>\n",
       "      <td>06</td>\n",
       "      <td>Spring</td>\n",
       "    </tr>\n",
       "    <tr>\n",
       "      <th>5310</th>\n",
       "      <td>1901.01.30</td>\n",
       "      <td>1901</td>\n",
       "      <td>AUSTRALIA</td>\n",
       "      <td>Queensland</td>\n",
       "      <td>Brisbane</td>\n",
       "      <td>1</td>\n",
       "      <td>683</td>\n",
       "      <td>Bathing</td>\n",
       "      <td>1901.01.30</td>\n",
       "      <td>01</td>\n",
       "      <td>Winter</td>\n",
       "    </tr>\n",
       "  </tbody>\n",
       "</table>\n",
       "<p>4656 rows × 11 columns</p>\n",
       "</div>"
      ],
      "text/plain": [
       "       Case Number  Year         Place                   Area  \\\n",
       "0     2016.09.18.c  2016           USA                Florida   \n",
       "1     2016.09.18.b  2016           USA                Florida   \n",
       "2     2016.09.18.a  2016           USA                Florida   \n",
       "3       2016.09.17  2016     AUSTRALIA               Victoria   \n",
       "4       2016.09.15  2016     AUSTRALIA               Victoria   \n",
       "...            ...   ...           ...                    ...   \n",
       "5306    1901.07.30  1901  SOUTH AFRICA  Western Cape Province   \n",
       "5307    1901.07.17  1901         ITALY               Syracuse   \n",
       "5308  1901.06.29.R  1901         YEMEN                   Aden   \n",
       "5309    1901.06.24  1901   PHILIPPINES       Western Viscayas   \n",
       "5310    1901.01.30  1901     AUSTRALIA             Queensland   \n",
       "\n",
       "                              Location Fatal    Id  Activity        Date  \\\n",
       "0     New Smyrna Beach, Volusia County     0  5993   Surfing  2016.09.18   \n",
       "1     New Smyrna Beach, Volusia County     0  5992   Surfing  2016.09.18   \n",
       "2     New Smyrna Beach, Volusia County     0  5991   Surfing  2016.09.18   \n",
       "3                     Thirteenth Beach     0  5990   Surfing  2016.09.17   \n",
       "4                          Bells Beach     0  5989   Surfing  2016.09.15   \n",
       "...                                ...   ...   ...       ...         ...   \n",
       "5306                    Windmill Beach     1   687  Swimming  1901.07.30   \n",
       "5307                  Capo Santa Croce   NaN   686  Swimming  1901.07.17   \n",
       "5308                               NaN     0   685    Diving  1901.06.29   \n",
       "5309           Island of Panay, Iliolo     0   684  Swimming  1901.06.24   \n",
       "5310                          Brisbane     1   683   Bathing  1901.01.30   \n",
       "\n",
       "     Month  Season  \n",
       "0       09  Summer  \n",
       "1       09  Summer  \n",
       "2       09  Summer  \n",
       "3       09  Summer  \n",
       "4       09  Summer  \n",
       "...    ...     ...  \n",
       "5306    07  Spring  \n",
       "5307    07  Spring  \n",
       "5308    06  Spring  \n",
       "5309    06  Spring  \n",
       "5310    01  Winter  \n",
       "\n",
       "[4656 rows x 11 columns]"
      ]
     },
     "execution_count": 35,
     "metadata": {},
     "output_type": "execute_result"
    }
   ],
   "source": [
    "season_labels=['Winter','Spring','Summer','Fall']\n",
    "cutoffs= ['00','04','07','10','12']\n",
    "bins = pd.cut(df['Month'], cutoffs, labels=season_labels)\n",
    "df['Season']=bins\n",
    "df"
   ]
  },
  {
   "cell_type": "markdown",
   "metadata": {},
   "source": [
    "### Let's consider a specific year"
   ]
  },
  {
   "cell_type": "code",
   "execution_count": 36,
   "metadata": {},
   "outputs": [],
   "source": [
    "year=2005\n",
    "#year=int(input('Enter the year: '))"
   ]
  },
  {
   "cell_type": "markdown",
   "metadata": {},
   "source": [
    "## 1st view: Seasonality of the attacks"
   ]
  },
  {
   "cell_type": "code",
   "execution_count": 37,
   "metadata": {},
   "outputs": [
    {
     "data": {
      "text/html": [
       "<div>\n",
       "<style scoped>\n",
       "    .dataframe tbody tr th:only-of-type {\n",
       "        vertical-align: middle;\n",
       "    }\n",
       "\n",
       "    .dataframe tbody tr th {\n",
       "        vertical-align: top;\n",
       "    }\n",
       "\n",
       "    .dataframe thead th {\n",
       "        text-align: right;\n",
       "    }\n",
       "</style>\n",
       "<table border=\"1\" class=\"dataframe\">\n",
       "  <thead>\n",
       "    <tr style=\"text-align: right;\">\n",
       "      <th>Season</th>\n",
       "      <th>Winter</th>\n",
       "      <th>Spring</th>\n",
       "      <th>Summer</th>\n",
       "      <th>Fall</th>\n",
       "    </tr>\n",
       "  </thead>\n",
       "  <tbody>\n",
       "    <tr>\n",
       "      <th>Count</th>\n",
       "      <td>1418.00</td>\n",
       "      <td>1249.00</td>\n",
       "      <td>1315.00</td>\n",
       "      <td>674.00</td>\n",
       "    </tr>\n",
       "    <tr>\n",
       "      <th>Ratio</th>\n",
       "      <td>30.46</td>\n",
       "      <td>26.83</td>\n",
       "      <td>28.24</td>\n",
       "      <td>14.48</td>\n",
       "    </tr>\n",
       "  </tbody>\n",
       "</table>\n",
       "</div>"
      ],
      "text/plain": [
       "Season   Winter   Spring   Summer    Fall\n",
       "Count   1418.00  1249.00  1315.00  674.00\n",
       "Ratio     30.46    26.83    28.24   14.48"
      ]
     },
     "metadata": {},
     "output_type": "display_data"
    }
   ],
   "source": [
    "seasonality = df.pivot_table(index=['Season'], values=['Date'], aggfunc= len,fill_value=0)\n",
    "seasonality = seasonality.rename(columns= {'Date':'Count'})\n",
    "seasonality['Ratio'] = seasonality['Count'] * 100 / seasonality['Count'].sum()\n",
    "seasonality = seasonality.round({'Ratio':2})\n",
    "df_view1 = seasonality.T\n",
    "display(df_view1)"
   ]
  },
  {
   "cell_type": "code",
   "execution_count": 38,
   "metadata": {},
   "outputs": [
    {
     "data": {
      "image/png": "[encoded data removed]",
      "text/plain": [
       "<Figure size 432x288 with 1 Axes>"
      ]
     },
     "metadata": {
      "needs_background": "light"
     },
     "output_type": "display_data"
    }
   ],
   "source": [
    "df.groupby('Season')['Season']\\\n",
    "    .value_counts()\\\n",
    "    .unstack(level=0)\\\n",
    "    .plot.bar(stacked=False)\n",
    "plt.title(f\"Season vs shark attack during the {year}\")\n",
    "plt.show()"
   ]
  },
  {
   "cell_type": "markdown",
   "metadata": {},
   "source": [
    "## 2nd view: indexing the attacks by Activities and Seasons"
   ]
  },
  {
   "cell_type": "markdown",
   "metadata": {},
   "source": [
    "#### Ratio of attacks per Season"
   ]
  },
  {
   "cell_type": "code",
   "execution_count": 39,
   "metadata": {},
   "outputs": [
    {
     "data": {
      "text/html": [
       "<div>\n",
       "<style scoped>\n",
       "    .dataframe tbody tr th:only-of-type {\n",
       "        vertical-align: middle;\n",
       "    }\n",
       "\n",
       "    .dataframe tbody tr th {\n",
       "        vertical-align: top;\n",
       "    }\n",
       "\n",
       "    .dataframe thead tr th {\n",
       "        text-align: left;\n",
       "    }\n",
       "</style>\n",
       "<table border=\"1\" class=\"dataframe\">\n",
       "  <thead>\n",
       "    <tr>\n",
       "      <th>Activity</th>\n",
       "      <th colspan=\"4\" halign=\"left\">Swimming</th>\n",
       "      <th colspan=\"4\" halign=\"left\">Surfing</th>\n",
       "      <th colspan=\"2\" halign=\"left\">Snorkeling</th>\n",
       "      <th>...</th>\n",
       "      <th colspan=\"2\" halign=\"left\">Diving</th>\n",
       "      <th colspan=\"4\" halign=\"left\">Boating</th>\n",
       "      <th colspan=\"4\" halign=\"left\">Bathing</th>\n",
       "    </tr>\n",
       "    <tr>\n",
       "      <th>Season</th>\n",
       "      <th>Winter</th>\n",
       "      <th>Spring</th>\n",
       "      <th>Summer</th>\n",
       "      <th>Fall</th>\n",
       "      <th>Summer</th>\n",
       "      <th>Winter</th>\n",
       "      <th>Spring</th>\n",
       "      <th>Fall</th>\n",
       "      <th>Spring</th>\n",
       "      <th>Winter</th>\n",
       "      <th>...</th>\n",
       "      <th>Spring</th>\n",
       "      <th>Fall</th>\n",
       "      <th>Winter</th>\n",
       "      <th>Summer</th>\n",
       "      <th>Spring</th>\n",
       "      <th>Fall</th>\n",
       "      <th>Spring</th>\n",
       "      <th>Summer</th>\n",
       "      <th>Winter</th>\n",
       "      <th>Fall</th>\n",
       "    </tr>\n",
       "  </thead>\n",
       "  <tbody>\n",
       "    <tr>\n",
       "      <th>Count</th>\n",
       "      <td>257.00</td>\n",
       "      <td>249.00</td>\n",
       "      <td>228.0</td>\n",
       "      <td>118.00</td>\n",
       "      <td>450.00</td>\n",
       "      <td>377.0</td>\n",
       "      <td>319.00</td>\n",
       "      <td>178.00</td>\n",
       "      <td>24.00</td>\n",
       "      <td>20.00</td>\n",
       "      <td>...</td>\n",
       "      <td>113.00</td>\n",
       "      <td>56.0</td>\n",
       "      <td>15.00</td>\n",
       "      <td>15.00</td>\n",
       "      <td>13.00</td>\n",
       "      <td>10.00</td>\n",
       "      <td>76.00</td>\n",
       "      <td>65.0</td>\n",
       "      <td>63.00</td>\n",
       "      <td>25.00</td>\n",
       "    </tr>\n",
       "    <tr>\n",
       "      <th>Ratio</th>\n",
       "      <td>5.52</td>\n",
       "      <td>5.35</td>\n",
       "      <td>4.9</td>\n",
       "      <td>2.53</td>\n",
       "      <td>9.66</td>\n",
       "      <td>8.1</td>\n",
       "      <td>6.85</td>\n",
       "      <td>3.82</td>\n",
       "      <td>0.52</td>\n",
       "      <td>0.43</td>\n",
       "      <td>...</td>\n",
       "      <td>2.43</td>\n",
       "      <td>1.2</td>\n",
       "      <td>0.32</td>\n",
       "      <td>0.32</td>\n",
       "      <td>0.28</td>\n",
       "      <td>0.21</td>\n",
       "      <td>1.63</td>\n",
       "      <td>1.4</td>\n",
       "      <td>1.35</td>\n",
       "      <td>0.54</td>\n",
       "    </tr>\n",
       "  </tbody>\n",
       "</table>\n",
       "<p>2 rows × 32 columns</p>\n",
       "</div>"
      ],
      "text/plain": [
       "Activity Swimming                        Surfing                         \\\n",
       "Season     Winter  Spring Summer    Fall  Summer Winter  Spring    Fall   \n",
       "Count      257.00  249.00  228.0  118.00  450.00  377.0  319.00  178.00   \n",
       "Ratio        5.52    5.35    4.9    2.53    9.66    8.1    6.85    3.82   \n",
       "\n",
       "Activity Snorkeling         ...  Diving       Boating                       \\\n",
       "Season       Spring Winter  ...  Spring  Fall  Winter Summer Spring   Fall   \n",
       "Count         24.00  20.00  ...  113.00  56.0   15.00  15.00  13.00  10.00   \n",
       "Ratio          0.52   0.43  ...    2.43   1.2    0.32   0.32   0.28   0.21   \n",
       "\n",
       "Activity Bathing                       \n",
       "Season    Spring Summer Winter   Fall  \n",
       "Count      76.00   65.0  63.00  25.00  \n",
       "Ratio       1.63    1.4   1.35   0.54  \n",
       "\n",
       "[2 rows x 32 columns]"
      ]
     },
     "metadata": {},
     "output_type": "display_data"
    }
   ],
   "source": [
    "activity_season = df.pivot_table(index=['Activity', 'Season'], values=['Date'], aggfunc= len, fill_value=0) \n",
    "activity_season = activity_season.rename(columns= {'Date' : 'Count'})\n",
    "activity_season['Ratio'] = activity_season['Count'] * 100 / activity_season['Count'].sum() \n",
    "activity_season = activity_season.round({'Ratio' : 2})\n",
    "activity_season.sort_values(by=['Activity','Ratio'], ascending=False, inplace=True)\n",
    "df_view2 = activity_season.T\n",
    "display(df_view2)"
   ]
  },
  {
   "cell_type": "code",
   "execution_count": 40,
   "metadata": {},
   "outputs": [
    {
     "data": {
      "image/png": "[encoded data removed]",
      "text/plain": [
       "<Figure size 432x288 with 1 Axes>"
      ]
     },
     "metadata": {
      "needs_background": "light"
     },
     "output_type": "display_data"
    }
   ],
   "source": [
    "df.groupby('Season')['Activity']\\\n",
    "    .value_counts()\\\n",
    "    .unstack(level=0)\\\n",
    "    .plot.bar(stacked=False)\n",
    "plt.title(f\"Human activity vs shark attack during the {year}\")\n",
    "plt.show()"
   ]
  },
  {
   "cell_type": "markdown",
   "metadata": {},
   "source": [
    "## 3rd view: indexing the attacks by Activities and Fatal\n"
   ]
  },
  {
   "cell_type": "code",
   "execution_count": 41,
   "metadata": {},
   "outputs": [
    {
     "data": {
      "text/html": [
       "<div>\n",
       "<style scoped>\n",
       "    .dataframe tbody tr th:only-of-type {\n",
       "        vertical-align: middle;\n",
       "    }\n",
       "\n",
       "    .dataframe tbody tr th {\n",
       "        vertical-align: top;\n",
       "    }\n",
       "\n",
       "    .dataframe thead tr th {\n",
       "        text-align: left;\n",
       "    }\n",
       "</style>\n",
       "<table border=\"1\" class=\"dataframe\">\n",
       "  <thead>\n",
       "    <tr>\n",
       "      <th>Activity</th>\n",
       "      <th colspan=\"2\" halign=\"left\">Bathing</th>\n",
       "      <th colspan=\"2\" halign=\"left\">Boating</th>\n",
       "      <th colspan=\"2\" halign=\"left\">Diving</th>\n",
       "      <th colspan=\"2\" halign=\"left\">Fishing</th>\n",
       "      <th colspan=\"2\" halign=\"left\">Others</th>\n",
       "      <th colspan=\"2\" halign=\"left\">Snorkeling</th>\n",
       "      <th colspan=\"2\" halign=\"left\">Surfing</th>\n",
       "      <th colspan=\"2\" halign=\"left\">Swimming</th>\n",
       "    </tr>\n",
       "    <tr>\n",
       "      <th>Fatal</th>\n",
       "      <th>0</th>\n",
       "      <th>1</th>\n",
       "      <th>0</th>\n",
       "      <th>1</th>\n",
       "      <th>0</th>\n",
       "      <th>1</th>\n",
       "      <th>0</th>\n",
       "      <th>1</th>\n",
       "      <th>0</th>\n",
       "      <th>1</th>\n",
       "      <th>0</th>\n",
       "      <th>1</th>\n",
       "      <th>0</th>\n",
       "      <th>1</th>\n",
       "      <th>0</th>\n",
       "      <th>1</th>\n",
       "    </tr>\n",
       "  </thead>\n",
       "  <tbody>\n",
       "    <tr>\n",
       "      <th>Count</th>\n",
       "      <td>173.00</td>\n",
       "      <td>56.0</td>\n",
       "      <td>26.00</td>\n",
       "      <td>27.00</td>\n",
       "      <td>298.00</td>\n",
       "      <td>110.00</td>\n",
       "      <td>815.00</td>\n",
       "      <td>149.00</td>\n",
       "      <td>533.00</td>\n",
       "      <td>210.00</td>\n",
       "      <td>66.00</td>\n",
       "      <td>10.00</td>\n",
       "      <td>1204.0</td>\n",
       "      <td>120.00</td>\n",
       "      <td>526.00</td>\n",
       "      <td>325.00</td>\n",
       "    </tr>\n",
       "    <tr>\n",
       "      <th>Ratio</th>\n",
       "      <td>3.72</td>\n",
       "      <td>1.2</td>\n",
       "      <td>0.56</td>\n",
       "      <td>0.58</td>\n",
       "      <td>6.41</td>\n",
       "      <td>2.37</td>\n",
       "      <td>17.53</td>\n",
       "      <td>3.21</td>\n",
       "      <td>11.47</td>\n",
       "      <td>4.52</td>\n",
       "      <td>1.42</td>\n",
       "      <td>0.22</td>\n",
       "      <td>25.9</td>\n",
       "      <td>2.58</td>\n",
       "      <td>11.32</td>\n",
       "      <td>6.99</td>\n",
       "    </tr>\n",
       "  </tbody>\n",
       "</table>\n",
       "</div>"
      ],
      "text/plain": [
       "Activity Bathing       Boating         Diving         Fishing          Others  \\\n",
       "Fatal          0     1       0      1       0       1       0       1       0   \n",
       "Count     173.00  56.0   26.00  27.00  298.00  110.00  815.00  149.00  533.00   \n",
       "Ratio       3.72   1.2    0.56   0.58    6.41    2.37   17.53    3.21   11.47   \n",
       "\n",
       "Activity         Snorkeling        Surfing         Swimming          \n",
       "Fatal          1          0      1       0       1        0       1  \n",
       "Count     210.00      66.00  10.00  1204.0  120.00   526.00  325.00  \n",
       "Ratio       4.52       1.42   0.22    25.9    2.58    11.32    6.99  "
      ]
     },
     "metadata": {},
     "output_type": "display_data"
    }
   ],
   "source": [
    "fatal_activity = df.pivot_table(index=['Activity', 'Fatal'], values=['Date'], aggfunc= len, fill_value=0) \n",
    "fatal_activity = fatal_activity.rename(columns= {'Date' : 'Count'})\n",
    "fatal_activity['Ratio'] = fatal_activity['Count'] * 100 / fatal_activity['Count'].sum() \n",
    "fatal_activity = fatal_activity.round({'Ratio' : 2})\n",
    "df_view3 = fatal_activity.T\n",
    "display (df_view3)"
   ]
  },
  {
   "cell_type": "code",
   "execution_count": 35,
   "metadata": {},
   "outputs": [
    {
     "data": {
      "image/png": "[encoded data removed]",
      "text/plain": [
       "<Figure size 432x288 with 1 Axes>"
      ]
     },
     "metadata": {
      "needs_background": "light"
     },
     "output_type": "display_data"
    }
   ],
   "source": [
    "df.groupby('Activity')['Fatal']\\\n",
    "    .value_counts()\\\n",
    "    .unstack(level=1)\\\n",
    "    .plot.bar(stacked=False)\n",
    "plt.title(f\"Activity vs fatal shark attack during the {year}\")\n",
    "plt.show()"
   ]
  },
  {
   "cell_type": "code",
   "execution_count": null,
   "metadata": {},
   "outputs": [],
   "source": []
  },
  {
   "cell_type": "code",
   "execution_count": null,
   "metadata": {},
   "outputs": [],
   "source": []
  },
  {
   "cell_type": "code",
   "execution_count": null,
   "metadata": {},
   "outputs": [],
   "source": []
  },
  {
   "cell_type": "code",
   "execution_count": null,
   "metadata": {},
   "outputs": [],
   "source": []
  }
 ],
 "metadata": {
  "kernelspec": {
   "display_name": "Python 3",
   "language": "python",
   "name": "python3"
  },
  "language_info": {
   "codemirror_mode": {
    "name": "ipython",
    "version": 3
   },
   "file_extension": ".py",
   "mimetype": "text/x-python",
   "name": "python",
   "nbconvert_exporter": "python",
   "pygments_lexer": "ipython3",
   "version": "3.7.6"
  }
 },
 "nbformat": 4,
 "nbformat_minor": 4
}
