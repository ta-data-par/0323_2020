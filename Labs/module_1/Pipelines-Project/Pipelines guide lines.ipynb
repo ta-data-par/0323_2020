{
 "cells": [
  {
   "cell_type": "markdown",
   "metadata": {},
   "source": [
    "# Pipelines guide lines"
   ]
  },
  {
   "cell_type": "markdown",
   "metadata": {},
   "source": [
    "0. Problem definition\n",
    "   - Breaking down questions about the problem:\n",
    "       - What logical inconsistances you can get in your data?\n",
    "\n",
    "\n",
    "1. Data/collection/acquisition\n",
    "2. Data Cleaning\n",
    "3. Data manipulations (manipulations, aggregations, caculation, etc)\n",
    "4. Data Visualization (plot, pivot table)\n",
    "5. Data Analysis + Modeling\n",
    "6. Report Preparation"
   ]
  },
  {
   "cell_type": "markdown",
   "metadata": {},
   "source": [
    "* func1() => input              output\n",
    "* func2() => input              output : df/mysqldb\n",
    "* func3() => input              output : df/mysqldb\n",
    "* func4() => input              output : visualisation/indices, df/mysqldb\n",
    "* func5() => input:clean db     output : df/mysqldb\n",
    "* func6() => input              output : model, visualisation, pdf, github, jupyter, email, chatbox"
   ]
  },
  {
   "cell_type": "code",
   "execution_count": null,
   "metadata": {},
   "outputs": [],
   "source": []
  }
 ],
 "metadata": {
  "kernelspec": {
   "display_name": "Python 3",
   "language": "python",
   "name": "python3"
  },
  "language_info": {
   "codemirror_mode": {
    "name": "ipython",
    "version": 3
   },
   "file_extension": ".py",
   "mimetype": "text/x-python",
   "name": "python",
   "nbconvert_exporter": "python",
   "pygments_lexer": "ipython3",
   "version": "3.7.6"
  }
 },
 "nbformat": 4,
 "nbformat_minor": 2
}
